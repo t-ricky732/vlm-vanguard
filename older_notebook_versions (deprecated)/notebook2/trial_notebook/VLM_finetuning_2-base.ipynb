{
 "cells": [
  {
   "cell_type": "markdown",
   "id": "c29594e0-6938-4ead-87a9-7015fce19703",
   "metadata": {},
   "source": [
    "# Trial of finetuning"
   ]
  },
  {
   "cell_type": "markdown",
   "id": "cd774229-076a-4bde-a2ce-c5f8022cecd5",
   "metadata": {},
   "source": [
    "Ref: https://huggingface.co/learn/cookbook/en/fine_tuning_smol_vlm_sft_trl"
   ]
  },
  {
   "cell_type": "code",
   "execution_count": 1,
   "id": "c9a63e85-8a27-4efa-be96-c84224943451",
   "metadata": {},
   "outputs": [],
   "source": [
    "#!pip install  -U -q transformers==4.46.3 trl==0.12.1 datasets==3.1.0 bitsandbytes==0.45.0 peft==0.13.2 accelerate==1.1.1\n",
    "!pip install  -U -q transformers trl datasets bitsandbytes peft accelerate\n",
    "# Tested with transformers==4.46.3, trl==0.12.1, datasets==3.1.0, bitsandbytes==0.45.0, peft==0.13.2, accelerate==1.1.1"
   ]
  },
  {
   "cell_type": "code",
   "execution_count": 2,
   "id": "9bba0b5f-8e18-4008-927e-0e48e20f6180",
   "metadata": {},
   "outputs": [],
   "source": [
    "!pip install -q flash-attn --no-build-isolation"
   ]
  },
  {
   "cell_type": "code",
   "execution_count": 3,
   "id": "c480fb8e-bb9f-42e9-beb7-39e9d400d2b4",
   "metadata": {},
   "outputs": [],
   "source": [
    "#!pip install -q tensorboard"
   ]
  },
  {
   "cell_type": "code",
   "execution_count": 4,
   "id": "647efda2-bf0c-4e48-b9f1-ec1a38eb14b9",
   "metadata": {},
   "outputs": [],
   "source": [
    "import time, gc\n",
    "import torch\n",
    "from datasets import load_dataset\n",
    "from PIL import Image\n",
    "from transformers import Idefics3ForConditionalGeneration, AutoProcessor\n",
    "from transformers import BitsAndBytesConfig\n",
    "from peft import LoraConfig, get_peft_model, prepare_model_for_kbit_training\n",
    "from trl import SFTConfig"
   ]
  },
  {
   "cell_type": "code",
   "execution_count": 5,
   "id": "7cc7c02b-a753-429f-a25b-0118f48ae3d7",
   "metadata": {},
   "outputs": [],
   "source": [
    "image_size = 384"
   ]
  },
  {
   "cell_type": "code",
   "execution_count": 6,
   "id": "6a341c11-965e-4531-b000-f801312a86e7",
   "metadata": {},
   "outputs": [
    {
     "name": "stdout",
     "output_type": "stream",
     "text": [
      "cuda\n",
      "bf16 supported: True\n",
      "2.6.0+cu124\n"
     ]
    }
   ],
   "source": [
    "DEVICE = torch.device(\"cuda\" if torch.cuda.is_available() else (\"mps\" if torch.backends.mps.is_available() else \"cpu\"))\n",
    "print(DEVICE)\n",
    "print('bf16 supported:', torch.cuda.is_bf16_supported())\n",
    "print(torch.__version__)"
   ]
  },
  {
   "cell_type": "code",
   "execution_count": 7,
   "id": "d9699c15-512f-47da-8cf3-ec2c8b0c825b",
   "metadata": {},
   "outputs": [],
   "source": [
    "system_message = \"You are a Vision Language Model specialized in interpreting visual data from chart images. \\\n",
    "Your task is to analyze the provided chart image and respond to queries with concise answers, usually a single word, number, or short phrase. \\\n",
    "The charts include a variety of types (e.g., line charts, bar charts) and contain colors, labels, and text. \\\n",
    "Focus on delivering accurate, succinct answers based on the visual information. Avoid additional explanation unless absolutely necessary.\""
   ]
  },
  {
   "cell_type": "raw",
   "id": "b06a52cb-a46c-47e5-bc81-8e906e717ccf",
   "metadata": {},
   "source": [
    "system_message = \"Please answer the question based on the provided chart.\""
   ]
  },
  {
   "cell_type": "code",
   "execution_count": 8,
   "id": "02879f38-84a6-409d-8a53-566c46676197",
   "metadata": {},
   "outputs": [],
   "source": [
    "def format_data(sample):\n",
    "    return [\n",
    "        {\n",
    "            \"role\": \"system\",\n",
    "            \"content\": [{\"type\": \"text\", \"text\": system_message}],\n",
    "        },\n",
    "        {\n",
    "            \"role\": \"user\",\n",
    "            \"content\": [\n",
    "                {\n",
    "                    \"type\": \"image\",\n",
    "                    \"image\": sample[\"image\"],\n",
    "                },\n",
    "                {\n",
    "                    \"type\": \"text\",\n",
    "                    \"text\": sample[\"query\"],\n",
    "                },\n",
    "            ],\n",
    "        },\n",
    "        {\n",
    "            \"role\": \"assistant\",\n",
    "            \"content\": [{\"type\": \"text\", \"text\": sample[\"label\"][0]}],\n",
    "        },\n",
    "    ]"
   ]
  },
  {
   "cell_type": "code",
   "execution_count": 9,
   "id": "711681ab-cc9a-486a-9a2d-c69dd9f0447d",
   "metadata": {},
   "outputs": [],
   "source": [
    "dataset_id = \"HuggingFaceM4/ChartQA\"\n",
    "#train_CQ, eval_CQ, test_CQ = load_dataset(dataset_id, split=[\"train[:10%]\", \"val[:10%]\", \"test[:10%]\"])\n",
    "train_CQ, eval_CQ, test_CQ = load_dataset(dataset_id, split=[\"train[:10%]\", \"val[:10%]\", \"test\"])"
   ]
  },
  {
   "cell_type": "code",
   "execution_count": 10,
   "id": "bc85dd24-0a4b-418a-a957-31867dd54d13",
   "metadata": {},
   "outputs": [
    {
     "data": {
      "text/plain": [
       "{'image': <PIL.PngImagePlugin.PngImageFile image mode=RGB size=314x281>,\n",
       " 'query': 'What is the sum favourable  value in the year 2014 and 2015?',\n",
       " 'label': ['95'],\n",
       " 'human_or_machine': 0}"
      ]
     },
     "execution_count": 10,
     "metadata": {},
     "output_type": "execute_result"
    }
   ],
   "source": [
    "train_CQ[3]"
   ]
  },
  {
   "cell_type": "code",
   "execution_count": 11,
   "id": "ef7f3509-85f4-46e5-a41f-cbb99b107a25",
   "metadata": {},
   "outputs": [],
   "source": [
    "#### train_CQ[0]['image']"
   ]
  },
  {
   "cell_type": "code",
   "execution_count": 12,
   "id": "c7266ddc-1101-4572-bfee-eba7ab9d3c66",
   "metadata": {},
   "outputs": [],
   "source": [
    "train_CQ = [format_data(sample) for sample in train_CQ]\n",
    "eval_CQ = [format_data(sample) for sample in eval_CQ]\n",
    "test_CQ = [format_data(sample) for sample in test_CQ]"
   ]
  },
  {
   "cell_type": "code",
   "execution_count": 13,
   "id": "94b8c29d-9b7c-4d05-ace4-9822cc7bc9d4",
   "metadata": {},
   "outputs": [
    {
     "data": {
      "text/plain": [
       "[{'role': 'system',\n",
       "  'content': [{'type': 'text',\n",
       "    'text': 'You are a Vision Language Model specialized in interpreting visual data from chart images. Your task is to analyze the provided chart image and respond to queries with concise answers, usually a single word, number, or short phrase. The charts include a variety of types (e.g., line charts, bar charts) and contain colors, labels, and text. Focus on delivering accurate, succinct answers based on the visual information. Avoid additional explanation unless absolutely necessary.'}]},\n",
       " {'role': 'user',\n",
       "  'content': [{'type': 'image',\n",
       "    'image': <PIL.PngImagePlugin.PngImageFile image mode=RGB size=422x359>},\n",
       "   {'type': 'text', 'text': 'Is the value of Favorable 38 in 2015?'}]},\n",
       " {'role': 'assistant', 'content': [{'type': 'text', 'text': 'Yes'}]}]"
      ]
     },
     "execution_count": 13,
     "metadata": {},
     "output_type": "execute_result"
    }
   ],
   "source": [
    "train_CQ[0]"
   ]
  },
  {
   "cell_type": "markdown",
   "id": "84837ac8-b869-4bca-aecf-513f44ff839b",
   "metadata": {},
   "source": [
    "### Load chartllama using load_dataset"
   ]
  },
  {
   "cell_type": "code",
   "execution_count": 14,
   "id": "f1471d83-5668-4957-b713-0a2f1f9fa9cd",
   "metadata": {},
   "outputs": [],
   "source": [
    "# Data loading from the local drive\n",
    "dataset_CL = load_dataset('json', data_files=['chartllama_data/box_chart_100examples_simplified_qa.json',\n",
    "                                           'chartllama_data/candlestick_chart_100examples_simplified_qa.json',\n",
    "                                           'chartllama_data/funnel_chart_100examples_simplified_qa.json',\n",
    "                                           'chartllama_data/gantt_chart_100examples_simplified_qa.json',\n",
    "                                           'chartllama_data/heatmap_chart_100examples_simplified_qa.json',\n",
    "                                           'chartllama_data/polar_chart_100examples_simplified_qa.json',\n",
    "                                           'chartllama_data/scatter_chart_100examples_simplified_qa.json'\n",
    "                                          ]\n",
    "                      )"
   ]
  },
  {
   "cell_type": "code",
   "execution_count": 15,
   "id": "998b723c-d400-497e-8e8e-41540b3f0dc5",
   "metadata": {},
   "outputs": [],
   "source": [
    "#dataset_CL\n",
    "#dataset_CL['train'][0]['conversations']"
   ]
  },
  {
   "cell_type": "code",
   "execution_count": 16,
   "id": "f06cf3a1-a4e6-48d0-b2ce-ab9eb58c75ba",
   "metadata": {},
   "outputs": [],
   "source": [
    "def format_CL(sample):\n",
    "    #print(sample)\n",
    "    image_path = './chartllama_data/'+ sample['image']\n",
    "    image_object = Image.open(image_path).resize((image_size, image_size)).convert('RGB')\n",
    "    question = sample['conversations'][0]['value'].strip('<image>').strip('\\n')\n",
    "    answer = sample['conversations'][1]['value']\n",
    "    \n",
    "    output = [\n",
    "        {\n",
    "            \"role\": \"system\",\n",
    "            \"content\": [{\"type\": \"text\", \"text\": system_message}],\n",
    "        },\n",
    "        {\n",
    "            \"role\": \"user\",\n",
    "            \"content\": [\n",
    "                {\n",
    "                    \"type\": \"image\",\n",
    "                    \"image\": image_object,\n",
    "                },\n",
    "                {\n",
    "                    \"type\": \"text\",\n",
    "                    \"text\": question,\n",
    "                },\n",
    "            ],\n",
    "        },\n",
    "        {\n",
    "            \"role\": \"assistant\",\n",
    "            \"content\": [{\"type\": \"text\", \"text\": answer}],\n",
    "        },\n",
    "    ]\n",
    "    return output"
   ]
  },
  {
   "cell_type": "code",
   "execution_count": 17,
   "id": "f636fe33-7315-4dcc-8e5c-113c19de3079",
   "metadata": {},
   "outputs": [],
   "source": [
    "CL_formated = [format_CL(sample) for sample in dataset_CL['train']]"
   ]
  },
  {
   "cell_type": "code",
   "execution_count": 18,
   "id": "688fd8d0-332a-4335-b200-0bbe23c5073b",
   "metadata": {},
   "outputs": [],
   "source": [
    "train_CL = CL_formated[:int(len(CL_formated)*0.8)]\n",
    "val_CL = CL_formated[int(len(CL_formated)*0.8):]"
   ]
  },
  {
   "cell_type": "markdown",
   "id": "6a1a17d5-6132-4ee1-875b-5b7c1cfb0e67",
   "metadata": {},
   "source": [
    "### Comparsion between train_CQ & train_CL"
   ]
  },
  {
   "cell_type": "code",
   "execution_count": 19,
   "id": "f1f5ca0f-5664-4eae-ae6c-5236e18e7931",
   "metadata": {},
   "outputs": [
    {
     "data": {
      "text/plain": [
       "[{'role': 'system',\n",
       "  'content': [{'type': 'text',\n",
       "    'text': 'You are a Vision Language Model specialized in interpreting visual data from chart images. Your task is to analyze the provided chart image and respond to queries with concise answers, usually a single word, number, or short phrase. The charts include a variety of types (e.g., line charts, bar charts) and contain colors, labels, and text. Focus on delivering accurate, succinct answers based on the visual information. Avoid additional explanation unless absolutely necessary.'}]},\n",
       " {'role': 'user',\n",
       "  'content': [{'type': 'image',\n",
       "    'image': <PIL.PngImagePlugin.PngImageFile image mode=RGB size=420x349>},\n",
       "   {'type': 'text',\n",
       "    'text': 'In which year the Mexican governments campaign against drugs traffickers is making 47 percent progress?'}]},\n",
       " {'role': 'assistant', 'content': [{'type': 'text', 'text': '2012'}]}]"
      ]
     },
     "execution_count": 19,
     "metadata": {},
     "output_type": "execute_result"
    }
   ],
   "source": [
    "train_CQ[4]"
   ]
  },
  {
   "cell_type": "code",
   "execution_count": 20,
   "id": "0e14fee5-6e3f-42c3-9e9b-372339155a1d",
   "metadata": {},
   "outputs": [
    {
     "data": {
      "text/plain": [
       "[{'role': 'system',\n",
       "  'content': [{'type': 'text',\n",
       "    'text': 'You are a Vision Language Model specialized in interpreting visual data from chart images. Your task is to analyze the provided chart image and respond to queries with concise answers, usually a single word, number, or short phrase. The charts include a variety of types (e.g., line charts, bar charts) and contain colors, labels, and text. Focus on delivering accurate, succinct answers based on the visual information. Avoid additional explanation unless absolutely necessary.'}]},\n",
       " {'role': 'user',\n",
       "  'content': [{'type': 'image',\n",
       "    'image': <PIL.Image.Image image mode=RGB size=384x384>},\n",
       "   {'type': 'text', 'text': 'What is the title of the chart?'}]},\n",
       " {'role': 'assistant',\n",
       "  'content': [{'type': 'text',\n",
       "    'text': 'Analysis of smartphone usage patterns'}]}]"
      ]
     },
     "execution_count": 20,
     "metadata": {},
     "output_type": "execute_result"
    }
   ],
   "source": [
    "train_CL[0]"
   ]
  },
  {
   "cell_type": "markdown",
   "id": "14f6cc8b-48da-4cfb-a746-f121c41668bd",
   "metadata": {},
   "source": [
    "### Load the model & check the performance"
   ]
  },
  {
   "cell_type": "code",
   "execution_count": 21,
   "id": "2d1fa456-fe55-4bc9-bb3a-010c8ba6b63a",
   "metadata": {},
   "outputs": [],
   "source": [
    "#model_id = \"HuggingFaceTB/SmolVLM-256M-Base\"\n",
    "#model_id = \"HuggingFaceTB/SmolVLM-500M-Base\"\n",
    "model_id = \"HuggingFaceTB/SmolVLM-Base\""
   ]
  },
  {
   "cell_type": "code",
   "execution_count": 22,
   "id": "a1ef7fb1-3d8f-4cac-978a-e09d1c592ae2",
   "metadata": {},
   "outputs": [],
   "source": [
    "model = Idefics3ForConditionalGeneration.from_pretrained(\n",
    "    model_id,\n",
    "    device_map=\"auto\",\n",
    "    torch_dtype=torch.bfloat16,\n",
    "    _attn_implementation=\"flash_attention_2\",\n",
    ").to(DEVICE)\n",
    "\n",
    "processor = AutoProcessor.from_pretrained(model_id)"
   ]
  },
  {
   "cell_type": "code",
   "execution_count": 23,
   "id": "6db3f665-7091-4b6c-8b66-9a5d53fd1d38",
   "metadata": {},
   "outputs": [],
   "source": [
    "def generate_text_from_sample(model, processor, sample, max_new_tokens=32, device=\"cuda\"):\n",
    "    # Prepare the text input by applying the chat template\n",
    "    text_input = processor.apply_chat_template(\n",
    "        sample[1:2], add_generation_prompt=True  # Use the sample without the system message\n",
    "    )\n",
    "\n",
    "    image_inputs = []\n",
    "    image = sample[1]['content'][0]['image']\n",
    "    if image.mode != \"RGB\":\n",
    "        image = image.convert(\"RGB\")\n",
    "    image_inputs.append([image])\n",
    "    \n",
    "    # Prepare the inputs for the model\n",
    "    model_inputs = processor(\n",
    "        #text=[text_input],\n",
    "        text=text_input,\n",
    "        images=image_inputs,\n",
    "        return_tensors=\"pt\",\n",
    "    ).to(\n",
    "        device\n",
    "    )  # Move inputs to the specified device\n",
    "\n",
    "    # Generate text with the model\n",
    "    generated_ids = model.generate(**model_inputs, max_new_tokens=max_new_tokens)\n",
    "\n",
    "    # Trim the generated ids to remove the input ids\n",
    "    trimmed_generated_ids = [out_ids[len(in_ids) :] for in_ids, out_ids in zip(model_inputs.input_ids, generated_ids)]\n",
    "\n",
    "    # Decode the output text\n",
    "    output_text = processor.batch_decode(\n",
    "        trimmed_generated_ids, skip_special_tokens=True, clean_up_tokenization_spaces=False\n",
    "    )\n",
    "\n",
    "    return output_text[0]  # Return the first decoded output text"
   ]
  },
  {
   "cell_type": "code",
   "execution_count": 24,
   "id": "b16a4841-6b1f-41f5-b35e-81bdb02eb916",
   "metadata": {
    "scrolled": true
   },
   "outputs": [
    {
     "name": "stdout",
     "output_type": "stream",
     "text": [
      "pred0:  2015 Global Attitudes Survey. Q12b.\n",
      "true0: 14\n",
      "pred1:  2015-03-28 15:00\n",
      "true1: 0.57\n",
      "pred2:  2011\n",
      "true2: 3\n",
      "pred3:  2014 2015\n",
      "true3: No\n",
      "pred4:  2011 2012 2013 2014 2015 2016 2\n",
      "true4: 23\n",
      "pred5:  2011\n",
      "true5: 6\n",
      "pred6:  100% 65 59 62 54 45 41 36 35 32\n",
      "true6: 62\n",
      "pred7:  100% 65 59 87 62 54 41 45 41 36\n",
      "true7: Yes\n",
      "pred8:  11 12 13 14 15 16 17 18 19 20 2\n",
      "true8: Inspired\n",
      "pred9:  11 13 19 2011 2012 2013 2014 20\n",
      "true9: 0.03\n"
     ]
    }
   ],
   "source": [
    "for i in range(10):\n",
    "    print('pred'+str(i)+':', generate_text_from_sample(model, processor, train_CQ[i]))\n",
    "    print('true'+str(i)+':', test_CQ[i][2]['content'][0]['text'])"
   ]
  },
  {
   "cell_type": "code",
   "execution_count": 25,
   "id": "535923ee-1fc1-45c5-b58b-b8524b1ba48a",
   "metadata": {},
   "outputs": [
    {
     "name": "stdout",
     "output_type": "stream",
     "text": [
      "GPU allocated memory: 0.01 GB\n",
      "GPU reserved memory: 0.02 GB\n"
     ]
    }
   ],
   "source": [
    "def clear_memory():\n",
    "    # Delete variables if they exist in the current global scope\n",
    "    if \"inputs\" in globals():\n",
    "        del globals()[\"inputs\"]\n",
    "    if \"model\" in globals():\n",
    "        del globals()[\"model\"]\n",
    "    if \"processor\" in globals():\n",
    "        del globals()[\"processor\"]\n",
    "    if \"trainer\" in globals():\n",
    "        del globals()[\"trainer\"]\n",
    "    if \"peft_model\" in globals():\n",
    "        del globals()[\"peft_model\"]\n",
    "    if \"bnb_config\" in globals():\n",
    "        del globals()[\"bnb_config\"]\n",
    "    time.sleep(2)\n",
    "\n",
    "    # Garbage collection and clearing CUDA memory\n",
    "    gc.collect()\n",
    "    time.sleep(2)\n",
    "    torch.cuda.empty_cache()\n",
    "    torch.cuda.synchronize()\n",
    "    time.sleep(2)\n",
    "    gc.collect()\n",
    "    time.sleep(2)\n",
    "\n",
    "    print(f\"GPU allocated memory: {torch.cuda.memory_allocated() / 1024**3:.2f} GB\")\n",
    "    print(f\"GPU reserved memory: {torch.cuda.memory_reserved() / 1024**3:.2f} GB\")\n",
    "\n",
    "\n",
    "clear_memory()"
   ]
  },
  {
   "cell_type": "markdown",
   "id": "ad837824-7c00-4987-8666-c89dcdbec1b8",
   "metadata": {},
   "source": [
    "### Fine tuning"
   ]
  },
  {
   "cell_type": "markdown",
   "id": "296efd36-7814-4b5b-8f97-5618e1565d66",
   "metadata": {},
   "source": [
    "#### Load quantized model"
   ]
  },
  {
   "cell_type": "code",
   "execution_count": 26,
   "id": "d2b4c0f3-feb5-4a83-b485-7b6cd082d832",
   "metadata": {},
   "outputs": [],
   "source": [
    "# BitsAndBytesConfig int-4 config\n",
    "bnb_config = BitsAndBytesConfig(\n",
    "    load_in_4bit=True, bnb_4bit_use_double_quant=True, bnb_4bit_quant_type=\"nf4\", bnb_4bit_compute_dtype=torch.bfloat16\n",
    ")\n",
    "\n",
    "# Load model and tokenizer\n",
    "model = Idefics3ForConditionalGeneration.from_pretrained(\n",
    "    model_id,\n",
    "    device_map=\"auto\",\n",
    "    torch_dtype=torch.bfloat16,\n",
    "    quantization_config=bnb_config,\n",
    "    _attn_implementation=\"flash_attention_2\",\n",
    ")\n",
    "processor = AutoProcessor.from_pretrained(model_id)"
   ]
  },
  {
   "cell_type": "markdown",
   "id": "70676161-5069-4564-bf78-c9068aeb6433",
   "metadata": {},
   "source": [
    "#### Setup QLoRA and SFT config"
   ]
  },
  {
   "cell_type": "code",
   "execution_count": 27,
   "id": "708ffe16-6da4-455e-a80a-e1ac935c1f0f",
   "metadata": {},
   "outputs": [
    {
     "name": "stdout",
     "output_type": "stream",
     "text": [
      "trainable params: 11,269,248 || all params: 2,257,542,128 || trainable%: 0.4992\n"
     ]
    }
   ],
   "source": [
    "# Configure LoRA\n",
    "peft_config = LoraConfig(\n",
    "    r=8,\n",
    "    lora_alpha=8,\n",
    "    lora_dropout=0.1,\n",
    "    target_modules=[\"down_proj\", \"o_proj\", \"k_proj\", \"q_proj\", \"gate_proj\", \"up_proj\", \"v_proj\"],\n",
    "    use_dora=True,\n",
    "    init_lora_weights=\"gaussian\",\n",
    ")\n",
    "\n",
    "model = prepare_model_for_kbit_training(model)\n",
    "\n",
    "# Apply PEFT model adaptation\n",
    "peft_model = get_peft_model(model, peft_config)\n",
    "\n",
    "# Print trainable parameters\n",
    "peft_model.print_trainable_parameters()"
   ]
  },
  {
   "cell_type": "code",
   "execution_count": 28,
   "id": "0635cee5-13ec-4b09-b602-559c2c265007",
   "metadata": {},
   "outputs": [],
   "source": [
    "# Configure training arguments using SFTConfig\n",
    "training_args = SFTConfig(\n",
    "    output_dir=\"smolvlm-2B-base-trl-sft-chartllama\",\n",
    "    max_seq_length=256,\n",
    "    num_train_epochs=3,\n",
    "    per_device_train_batch_size=4,\n",
    "    gradient_accumulation_steps=4,\n",
    "    warmup_steps=50,\n",
    "    learning_rate=1e-4,\n",
    "    weight_decay=0.01,\n",
    "    logging_steps=25,\n",
    "    save_strategy=\"steps\",\n",
    "    save_steps=25,\n",
    "    save_total_limit=1,\n",
    "    optim=\"adamw_torch_fused\",\n",
    "    bf16=True,\n",
    "    remove_unused_columns=False,\n",
    "    gradient_checkpointing=True,\n",
    "    dataset_text_field=\"\",\n",
    "    dataset_kwargs={\"skip_prepare_dataset\": True},\n",
    ")"
   ]
  },
  {
   "cell_type": "markdown",
   "id": "8a5e01c3-3057-41c8-9990-9cc341f202fa",
   "metadata": {},
   "source": [
    "#### model training (use correct collate_fn)"
   ]
  },
  {
   "cell_type": "code",
   "execution_count": 29,
   "id": "a0c556a9-205b-47ba-9311-ca01c7b2629b",
   "metadata": {},
   "outputs": [],
   "source": [
    "image_token_id = processor.tokenizer.additional_special_tokens_ids[\n",
    "    processor.tokenizer.additional_special_tokens.index(\"<image>\")\n",
    "]\n",
    "\n",
    "def collate_fn(examples):\n",
    "    texts = [processor.apply_chat_template(example, tokenize=False) for example in examples]\n",
    "\n",
    "    image_inputs = []\n",
    "    for example in examples:\n",
    "        image = example[1][\"content\"][0][\"image\"]\n",
    "        if image.mode != \"RGB\":\n",
    "            image = image.convert(\"RGB\")\n",
    "        image_inputs.append([image])\n",
    "\n",
    "    batch = processor(text=texts, images=image_inputs, return_tensors=\"pt\", padding=True)\n",
    "    labels = batch[\"input_ids\"].clone()\n",
    "    labels[labels == processor.tokenizer.pad_token_id] = -100  # Mask padding tokens in labels\n",
    "    labels[labels == image_token_id] = -100  # Mask image token IDs in labels\n",
    "\n",
    "    batch[\"labels\"] = labels\n",
    "\n",
    "    return batch"
   ]
  },
  {
   "cell_type": "code",
   "execution_count": 30,
   "id": "8dbaf867-7d9f-44f9-9714-de24fd83ab6d",
   "metadata": {},
   "outputs": [
    {
     "name": "stderr",
     "output_type": "stream",
     "text": [
      "/home/ricky732/anaconda3/envs/py10_vlm2/lib/python3.10/site-packages/peft/mapping_func.py:73: UserWarning: You are trying to modify a model with PEFT for a second time. If you want to reload the model with a different config, make sure to call `.unload()` before.\n",
      "  warnings.warn(\n",
      "/home/ricky732/anaconda3/envs/py10_vlm2/lib/python3.10/site-packages/peft/tuners/tuners_utils.py:167: UserWarning: Already found a `peft_config` attribute in the model. This will lead to having multiple adapters in the model. Make sure to know what you are doing!\n",
      "  warnings.warn(\n",
      "No label_names provided for model class `PeftModel`. Since `PeftModel` hides base models input arguments, if label_names is not given, label_names can't be set automatically within `Trainer`. Note that empty label_names list will be used instead.\n"
     ]
    }
   ],
   "source": [
    "from trl import SFTTrainer\n",
    "\n",
    "trainer = SFTTrainer(\n",
    "    model=model,\n",
    "    args=training_args,\n",
    "    train_dataset=train_CL,\n",
    "    eval_dataset=val_CL,\n",
    "    data_collator=collate_fn,\n",
    "    peft_config=peft_config,\n",
    "    #tokenizer=processor.tokenizer,\n",
    ")"
   ]
  },
  {
   "cell_type": "code",
   "execution_count": 31,
   "id": "7a6592d6-d3e2-4512-b6dd-018989cb1122",
   "metadata": {},
   "outputs": [
    {
     "name": "stderr",
     "output_type": "stream",
     "text": [
      "`use_cache=True` is incompatible with gradient checkpointing. Setting `use_cache=False`...\n",
      "The input hidden states seems to be silently casted in float32, this might be related to the fact you have upcasted embedding or layer norm layers in float32. We will cast back the input in torch.bfloat16.\n"
     ]
    },
    {
     "data": {
      "text/html": [
       "\n",
       "    <div>\n",
       "      \n",
       "      <progress value='147' max='147' style='width:300px; height:20px; vertical-align: middle;'></progress>\n",
       "      [147/147 17:20:06, Epoch 3/3]\n",
       "    </div>\n",
       "    <table border=\"1\" class=\"dataframe\">\n",
       "  <thead>\n",
       " <tr style=\"text-align: left;\">\n",
       "      <th>Step</th>\n",
       "      <th>Training Loss</th>\n",
       "    </tr>\n",
       "  </thead>\n",
       "  <tbody>\n",
       "    <tr>\n",
       "      <td>25</td>\n",
       "      <td>1.278900</td>\n",
       "    </tr>\n",
       "    <tr>\n",
       "      <td>50</td>\n",
       "      <td>0.446700</td>\n",
       "    </tr>\n",
       "    <tr>\n",
       "      <td>75</td>\n",
       "      <td>0.137100</td>\n",
       "    </tr>\n",
       "    <tr>\n",
       "      <td>100</td>\n",
       "      <td>0.104000</td>\n",
       "    </tr>\n",
       "    <tr>\n",
       "      <td>125</td>\n",
       "      <td>0.102200</td>\n",
       "    </tr>\n",
       "  </tbody>\n",
       "</table><p>"
      ],
      "text/plain": [
       "<IPython.core.display.HTML object>"
      ]
     },
     "metadata": {},
     "output_type": "display_data"
    },
    {
     "name": "stdout",
     "output_type": "stream",
     "text": [
      "Time taken: 1045.611521836122\n"
     ]
    }
   ],
   "source": [
    "start_time = time.time()\n",
    "trainer.train()\n",
    "end_time = time.time()\n",
    "print(\"Time taken:\", (end_time - start_time)/60)"
   ]
  },
  {
   "cell_type": "code",
   "execution_count": 32,
   "id": "b1f65f10-986b-4530-a155-d58581514d06",
   "metadata": {},
   "outputs": [],
   "source": [
    "trainer.save_model(training_args.output_dir)"
   ]
  },
  {
   "cell_type": "markdown",
   "id": "16c22034-2e06-49ec-a990-bbf85a8b29e3",
   "metadata": {},
   "source": [
    "### Testing the Fine-Tuned Model"
   ]
  },
  {
   "cell_type": "code",
   "execution_count": 33,
   "id": "1fedca07-66c2-4358-9c36-60bf207a1b8f",
   "metadata": {},
   "outputs": [
    {
     "name": "stdout",
     "output_type": "stream",
     "text": [
      "GPU allocated memory: 0.02 GB\n",
      "GPU reserved memory: 2.12 GB\n"
     ]
    }
   ],
   "source": [
    "clear_memory()"
   ]
  },
  {
   "cell_type": "code",
   "execution_count": 34,
   "id": "42f32fcc-4e42-4efb-bd82-4a52e1c67ce5",
   "metadata": {},
   "outputs": [],
   "source": [
    "model = Idefics3ForConditionalGeneration.from_pretrained(\n",
    "    model_id,\n",
    "    device_map=\"auto\",\n",
    "    torch_dtype=torch.bfloat16,\n",
    "    _attn_implementation=\"flash_attention_2\",\n",
    ")\n",
    "\n",
    "processor = AutoProcessor.from_pretrained(model_id)"
   ]
  },
  {
   "cell_type": "code",
   "execution_count": 35,
   "id": "f0b91b9a-9b0c-4f42-91d1-34e456350f38",
   "metadata": {},
   "outputs": [],
   "source": [
    "adapter_path = \"smolvlm-2B-base-trl-sft-chartllama\"\n",
    "model.load_adapter(adapter_path)"
   ]
  },
  {
   "cell_type": "code",
   "execution_count": 36,
   "id": "2184ad09-0c24-4abf-b6ee-0a89f160514a",
   "metadata": {
    "scrolled": true
   },
   "outputs": [
    {
     "data": {
      "text/plain": [
       "[{'role': 'system',\n",
       "  'content': [{'type': 'text',\n",
       "    'text': 'You are a Vision Language Model specialized in interpreting visual data from chart images. Your task is to analyze the provided chart image and respond to queries with concise answers, usually a single word, number, or short phrase. The charts include a variety of types (e.g., line charts, bar charts) and contain colors, labels, and text. Focus on delivering accurate, succinct answers based on the visual information. Avoid additional explanation unless absolutely necessary.'}]},\n",
       " {'role': 'user',\n",
       "  'content': [{'type': 'image',\n",
       "    'image': <PIL.PngImagePlugin.PngImageFile image mode=RGB size=310x358>},\n",
       "   {'type': 'text', 'text': \"What's the lefmost value of bar in China?\"}]},\n",
       " {'role': 'assistant', 'content': [{'type': 'text', 'text': '17'}]}]"
      ]
     },
     "execution_count": 36,
     "metadata": {},
     "output_type": "execute_result"
    }
   ],
   "source": [
    "test_CQ[12]"
   ]
  },
  {
   "cell_type": "code",
   "execution_count": 37,
   "id": "07f131da-0028-49ba-b8a7-bf0271f561a4",
   "metadata": {},
   "outputs": [
    {
     "data": {
      "image/jpeg": "[encoded data removed]",
      "image/png": "[encoded data removed]",
      "text/plain": [
       "<PIL.PngImagePlugin.PngImageFile image mode=RGB size=310x358>"
      ]
     },
     "execution_count": 37,
     "metadata": {},
     "output_type": "execute_result"
    }
   ],
   "source": [
    "test_CQ[12][1][\"content\"][0][\"image\"]"
   ]
  },
  {
   "cell_type": "code",
   "execution_count": 38,
   "id": "b0601eca-d1b0-41ec-9cbf-72e314a03223",
   "metadata": {},
   "outputs": [
    {
     "data": {
      "text/plain": [
       "' 21'"
      ]
     },
     "execution_count": 38,
     "metadata": {},
     "output_type": "execute_result"
    }
   ],
   "source": [
    "output = generate_text_from_sample(model, processor, test_CQ[12])\n",
    "output"
   ]
  },
  {
   "cell_type": "code",
   "execution_count": 39,
   "id": "7beda265-0cbd-4f03-8991-befa2a5a9747",
   "metadata": {},
   "outputs": [
    {
     "data": {
      "text/plain": [
       "'17'"
      ]
     },
     "execution_count": 39,
     "metadata": {},
     "output_type": "execute_result"
    }
   ],
   "source": [
    "test_CQ[12][2]['content'][0]['text']"
   ]
  },
  {
   "cell_type": "code",
   "execution_count": 40,
   "id": "d1a0d06f-f972-47f9-9d8e-a7475dfc47b0",
   "metadata": {},
   "outputs": [
    {
     "name": "stdout",
     "output_type": "stream",
     "text": [
      "pred0:  No\n",
      "true0: 14\n",
      "pred1:  29\n",
      "true1: 0.57\n",
      "pred2:  2013\n",
      "true2: 3\n",
      "pred3:  53\n",
      "true3: No\n",
      "pred4:  2013\n",
      "true4: 23\n",
      "pred5:  25\n",
      "true5: 6\n",
      "pred6:  1\n",
      "true6: 62\n",
      "pred7:  2013\n",
      "true7: Yes\n",
      "pred8:  The line with smaller values across all years is the line labeled \"Favorable\".\n",
      "true8: Inspired\n",
      "pred9:  13\n",
      "true9: 0.03\n",
      "pred10:  42\n",
      "true10: 1\n",
      "pred11:  1\n",
      "true11: 0.08\n",
      "pred12:  No\n",
      "true12: 17\n",
      "pred13:  No\n",
      "true13: 21.6\n",
      "pred14:  Blue\n",
      "true14: 2\n",
      "pred15:  53\n",
      "true15: 2\n",
      "pred16:  66\n",
      "true16: 2014\n",
      "pred17:  No\n",
      "true17: 2011\n",
      "pred18:  The first data in orange line is 2003.\n",
      "true18: 1\n",
      "pred19:  2013\n",
      "true19: No\n",
      "pred20:  The data is a survey asked about U.S. airstrikes against militants in Iraq and Syria.\n",
      "true20: green line\n",
      "pred21:  54.5\n",
      "true21: 2008\n",
      "pred22:  Blue\n",
      "true22: 29\n",
      "pred23:  30.0\n",
      "true23: 1.216666667\n",
      "pred24:  73\n",
      "true24: Yes\n",
      "pred25:  73\n",
      "true25: Yes\n",
      "pred26:  90%\n",
      "true26: 80\n",
      "pred27:  1985\n",
      "true27: 77\n",
      "pred28:  22.6\n",
      "true28: 0.6\n",
      "pred29:  1970-1975\n",
      "true29: 61\n",
      "pred30:  2013\n",
      "true30: 13\n",
      "pred31:  51\n",
      "true31: 5\n",
      "pred32:  41\n",
      "true32: 24\n",
      "pred33:  15\n",
      "true33: No\n",
      "pred34:  37\n",
      "true34: Italy\n",
      "pred35:  74.00\n",
      "true35: Mexico\n",
      "pred36:  2008\n",
      "true36: 33\n",
      "pred37:  No\n",
      "true37: Over 30 mins\n",
      "pred38:  33\n",
      "true38: 4\n",
      "pred39:  33\n",
      "true39: 22\n",
      "pred40:  20\n",
      "true40: 92\n",
      "pred41:  No\n",
      "true41: 96\n",
      "pred42:  The green line represents the number of Americans who believe that the right thing is to do the right thing regarding the world.\n",
      "true42: 21\n",
      "pred43:  30\n",
      "true43: 12\n",
      "pred44:  Based on the graph, people have more confidence.\n",
      "true44: 2009\n",
      "pred45:  22\n",
      "true45: 28.6\n",
      "pred46:  The blue line represents the favorable opinion of NATO, by party affiliation.\n",
      "true46: 68\n",
      "pred47:  2018\n",
      "true47: 2019\n",
      "pred48:  72\n",
      "true48: 83\n",
      "pred49:  19/28\n",
      "true49: 2.13\n",
      "pred50:  59\n",
      "true50: Simulation\n",
      "pred51:  59\n",
      "true51: 4\n",
      "pred52:  54.0%\n",
      "true52: Yes\n",
      "pred53:  63.5\n",
      "true53: No\n",
      "pred54:  41\n",
      "true54: Yes\n",
      "pred55:  2018\n",
      "true55: 0.33333333\n",
      "pred56:  The line with the biggest changes in values is the line labeled \"West and East Germany respondents live in the pre-1990 Federal Republic of Germany and\n",
      "true56: Democrat (scores 60 to 100)\n",
      "pred57:  51\n",
      "true57: 0.01\n",
      "pred58:  Yes\n",
      "true58: Libya\n",
      "pred59:  10\n",
      "true59: 0.23\n",
      "pred60:  27\n",
      "true60: 28\n",
      "pred61:  2011\n",
      "true61: 87.5\n",
      "pred62:  100\n",
      "true62: UK\n",
      "pred63:  41.5\n",
      "true63: 50.25\n",
      "pred64:  1101st 1105th 1115th 117th\n",
      "true64: 72\n",
      "pred65:  No\n",
      "true65: 0.633333333\n",
      "pred66:  2017\n",
      "true66: 4.1\n",
      "pred67:  2013\n",
      "true67: 14.5\n",
      "pred68:  2015\n",
      "true68: 175\n",
      "pred69:  2015\n",
      "true69: No\n",
      "pred70:  2018\n",
      "true70: 93.45\n",
      "pred71:  200\n",
      "true71: 51.04\n",
      "pred72:  0\n",
      "true72: Yes\n",
      "pred73:  No\n",
      "true73: 21.5\n",
      "pred74:  3\n",
      "true74: 3.0238\n",
      "pred75:  3\n",
      "true75: 0.1922\n",
      "pred76:  95\n",
      "true76: 52\n",
      "pred77:  34.5\n",
      "true77: Yes\n",
      "pred78:  Red\n",
      "true78: U.S.\n",
      "pred79:  55\n",
      "true79: UK\n",
      "pred80:  52\n",
      "true80: 67\n",
      "pred81:  No\n",
      "true81: 1.051388889\n",
      "pred82:  The blue graph represents the number of cases of sexual abuse in the Catholic Church.\n",
      "true82: 55\n",
      "pred83:  No\n",
      "true83: Poll workers in your community\n",
      "pred84:  No\n",
      "true84: Rep/Lean Rep\n",
      "pred85:  No\n",
      "true85: 0.484375\n",
      "pred86:  Red\n",
      "true86: 77\n",
      "pred87:  20\n",
      "true87: 141\n",
      "pred88:  Green\n",
      "true88: 41\n",
      "pred89:  No\n",
      "true89: 1.684722222\n",
      "pred90:  Red\n",
      "true90: Nicaragua\n",
      "pred91:  2015\n",
      "true91: No\n",
      "pred92:  88\n",
      "true92: 3\n",
      "pred93:  No\n",
      "true93: 99\n",
      "pred94:  Blue\n",
      "true94: Solomon Islands\n",
      "pred95:  No\n",
      "true95: Jamaica\n",
      "pred96:  No\n",
      "true96: 50\n",
      "pred97:  No\n",
      "true97: 35\n",
      "pred98:  2011\n",
      "true98: 977633\n",
      "pred99:  No\n",
      "true99: 1.6\n"
     ]
    }
   ],
   "source": [
    "for i in range(100):\n",
    "    print('pred'+str(i)+':', generate_text_from_sample(model, processor, train_CQ[i]))\n",
    "    print('true'+str(i)+':', test_CQ[i][2]['content'][0]['text'])"
   ]
  },
  {
   "cell_type": "code",
   "execution_count": 41,
   "id": "dbc8ba51-c819-4b3c-ae7f-48df33715da8",
   "metadata": {},
   "outputs": [
    {
     "data": {
      "text/plain": [
       "2500"
      ]
     },
     "execution_count": 41,
     "metadata": {},
     "output_type": "execute_result"
    }
   ],
   "source": [
    "len(test_CQ)"
   ]
  },
  {
   "cell_type": "code",
   "execution_count": null,
   "id": "cda08d07-f9b8-4464-8d22-1d8fb18779f0",
   "metadata": {},
   "outputs": [],
   "source": []
  }
 ],
 "metadata": {
  "kernelspec": {
   "display_name": "Python 3 (ipykernel)",
   "language": "python",
   "name": "python3"
  },
  "language_info": {
   "codemirror_mode": {
    "name": "ipython",
    "version": 3
   },
   "file_extension": ".py",
   "mimetype": "text/x-python",
   "name": "python",
   "nbconvert_exporter": "python",
   "pygments_lexer": "ipython3",
   "version": "3.10.15"
  }
 },
 "nbformat": 4,
 "nbformat_minor": 5
}
