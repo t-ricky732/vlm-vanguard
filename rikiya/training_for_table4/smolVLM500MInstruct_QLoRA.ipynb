{
 "cells": [
  {
   "cell_type": "markdown",
   "metadata": {
    "id": "HVKZjV8QLkg-"
   },
   "source": [
    "# Fine-tuning SmolVLM on ChartLlama Dataset\n",
    "\n",
    "This notebook demonstrates how to fine-tune the SmolVLM model on the ChartLlama dataset using parameter-efficient fine-tuning (LoRA)."
   ]
  },
  {
   "cell_type": "raw",
   "metadata": {
    "colab": {
     "base_uri": "https://localhost:8080/"
    },
    "id": "aYU5W95UL-6o",
    "outputId": "c64b1312-776f-4097-81ad-3f58e83f8880"
   },
   "source": [
    "from google.colab import drive\n",
    "drive.mount('/content/drive')"
   ]
  },
  {
   "cell_type": "code",
   "execution_count": 1,
   "metadata": {
    "id": "5_dD1fjUMVNd"
   },
   "outputs": [],
   "source": [
    "import os\n",
    "#os.chdir('/content/drive/MyDrive/code')\n",
    "os.chdir('/home/ricky732/CS7643_final_project/working_dir')"
   ]
  },
  {
   "cell_type": "code",
   "execution_count": 2,
   "metadata": {
    "colab": {
     "base_uri": "https://localhost:8080/"
    },
    "id": "pcdMTIUFvfEK",
    "outputId": "86ee6a8e-4230-456b-e88e-9ab85dc56d3f"
   },
   "outputs": [
    {
     "name": "stdout",
     "output_type": "stream",
     "text": [
      "Requirement already satisfied: datasets in /home/ricky732/anaconda3/envs/py10_vlm/lib/python3.10/site-packages (3.5.0)\n",
      "Requirement already satisfied: filelock in /home/ricky732/anaconda3/envs/py10_vlm/lib/python3.10/site-packages (from datasets) (3.13.1)\n",
      "Requirement already satisfied: numpy>=1.17 in /home/ricky732/anaconda3/envs/py10_vlm/lib/python3.10/site-packages (from datasets) (1.26.4)\n",
      "Requirement already satisfied: pyarrow>=15.0.0 in /home/ricky732/anaconda3/envs/py10_vlm/lib/python3.10/site-packages (from datasets) (19.0.1)\n",
      "Requirement already satisfied: dill<0.3.9,>=0.3.0 in /home/ricky732/anaconda3/envs/py10_vlm/lib/python3.10/site-packages (from datasets) (0.3.8)\n",
      "Requirement already satisfied: pandas in /home/ricky732/anaconda3/envs/py10_vlm/lib/python3.10/site-packages (from datasets) (2.2.3)\n",
      "Requirement already satisfied: requests>=2.32.2 in /home/ricky732/anaconda3/envs/py10_vlm/lib/python3.10/site-packages (from datasets) (2.32.3)\n",
      "Requirement already satisfied: tqdm>=4.66.3 in /home/ricky732/anaconda3/envs/py10_vlm/lib/python3.10/site-packages (from datasets) (4.66.5)\n",
      "Requirement already satisfied: xxhash in /home/ricky732/anaconda3/envs/py10_vlm/lib/python3.10/site-packages (from datasets) (3.5.0)\n",
      "Requirement already satisfied: multiprocess<0.70.17 in /home/ricky732/anaconda3/envs/py10_vlm/lib/python3.10/site-packages (from datasets) (0.70.16)\n",
      "Requirement already satisfied: fsspec<=2024.12.0,>=2023.1.0 in /home/ricky732/anaconda3/envs/py10_vlm/lib/python3.10/site-packages (from fsspec[http]<=2024.12.0,>=2023.1.0->datasets) (2024.9.0)\n",
      "Requirement already satisfied: aiohttp in /home/ricky732/anaconda3/envs/py10_vlm/lib/python3.10/site-packages (from datasets) (3.11.16)\n",
      "Requirement already satisfied: huggingface-hub>=0.24.0 in /home/ricky732/anaconda3/envs/py10_vlm/lib/python3.10/site-packages (from datasets) (0.30.1)\n",
      "Requirement already satisfied: packaging in /home/ricky732/anaconda3/envs/py10_vlm/lib/python3.10/site-packages (from datasets) (24.1)\n",
      "Requirement already satisfied: pyyaml>=5.1 in /home/ricky732/anaconda3/envs/py10_vlm/lib/python3.10/site-packages (from datasets) (6.0.2)\n",
      "Requirement already satisfied: aiohappyeyeballs>=2.3.0 in /home/ricky732/anaconda3/envs/py10_vlm/lib/python3.10/site-packages (from aiohttp->datasets) (2.6.1)\n",
      "Requirement already satisfied: aiosignal>=1.1.2 in /home/ricky732/anaconda3/envs/py10_vlm/lib/python3.10/site-packages (from aiohttp->datasets) (1.3.2)\n",
      "Requirement already satisfied: async-timeout<6.0,>=4.0 in /home/ricky732/anaconda3/envs/py10_vlm/lib/python3.10/site-packages (from aiohttp->datasets) (5.0.1)\n",
      "Requirement already satisfied: attrs>=17.3.0 in /home/ricky732/anaconda3/envs/py10_vlm/lib/python3.10/site-packages (from aiohttp->datasets) (24.2.0)\n",
      "Requirement already satisfied: frozenlist>=1.1.1 in /home/ricky732/anaconda3/envs/py10_vlm/lib/python3.10/site-packages (from aiohttp->datasets) (1.5.0)\n",
      "Requirement already satisfied: multidict<7.0,>=4.5 in /home/ricky732/anaconda3/envs/py10_vlm/lib/python3.10/site-packages (from aiohttp->datasets) (6.3.2)\n",
      "Requirement already satisfied: propcache>=0.2.0 in /home/ricky732/anaconda3/envs/py10_vlm/lib/python3.10/site-packages (from aiohttp->datasets) (0.3.1)\n",
      "Requirement already satisfied: yarl<2.0,>=1.17.0 in /home/ricky732/anaconda3/envs/py10_vlm/lib/python3.10/site-packages (from aiohttp->datasets) (1.19.0)\n",
      "Requirement already satisfied: typing-extensions>=3.7.4.3 in /home/ricky732/anaconda3/envs/py10_vlm/lib/python3.10/site-packages (from huggingface-hub>=0.24.0->datasets) (4.11.0)\n",
      "Requirement already satisfied: charset-normalizer<4,>=2 in /home/ricky732/anaconda3/envs/py10_vlm/lib/python3.10/site-packages (from requests>=2.32.2->datasets) (3.3.2)\n",
      "Requirement already satisfied: idna<4,>=2.5 in /home/ricky732/anaconda3/envs/py10_vlm/lib/python3.10/site-packages (from requests>=2.32.2->datasets) (3.7)\n",
      "Requirement already satisfied: urllib3<3,>=1.21.1 in /home/ricky732/anaconda3/envs/py10_vlm/lib/python3.10/site-packages (from requests>=2.32.2->datasets) (2.2.3)\n",
      "Requirement already satisfied: certifi>=2017.4.17 in /home/ricky732/anaconda3/envs/py10_vlm/lib/python3.10/site-packages (from requests>=2.32.2->datasets) (2024.8.30)\n",
      "Requirement already satisfied: python-dateutil>=2.8.2 in /home/ricky732/anaconda3/envs/py10_vlm/lib/python3.10/site-packages (from pandas->datasets) (2.9.0.post0)\n",
      "Requirement already satisfied: pytz>=2020.1 in /home/ricky732/anaconda3/envs/py10_vlm/lib/python3.10/site-packages (from pandas->datasets) (2024.1)\n",
      "Requirement already satisfied: tzdata>=2022.7 in /home/ricky732/anaconda3/envs/py10_vlm/lib/python3.10/site-packages (from pandas->datasets) (2025.2)\n",
      "Requirement already satisfied: six>=1.5 in /home/ricky732/anaconda3/envs/py10_vlm/lib/python3.10/site-packages (from python-dateutil>=2.8.2->pandas->datasets) (1.16.0)\n",
      "Requirement already satisfied: bitsandbytes in /home/ricky732/anaconda3/envs/py10_vlm/lib/python3.10/site-packages (0.45.5)\n",
      "Requirement already satisfied: torch<3,>=2.0 in /home/ricky732/anaconda3/envs/py10_vlm/lib/python3.10/site-packages (from bitsandbytes) (2.6.0)\n",
      "Requirement already satisfied: numpy>=1.17 in /home/ricky732/anaconda3/envs/py10_vlm/lib/python3.10/site-packages (from bitsandbytes) (1.26.4)\n",
      "Requirement already satisfied: filelock in /home/ricky732/anaconda3/envs/py10_vlm/lib/python3.10/site-packages (from torch<3,>=2.0->bitsandbytes) (3.13.1)\n",
      "Requirement already satisfied: typing-extensions>=4.10.0 in /home/ricky732/anaconda3/envs/py10_vlm/lib/python3.10/site-packages (from torch<3,>=2.0->bitsandbytes) (4.11.0)\n",
      "Requirement already satisfied: networkx in /home/ricky732/anaconda3/envs/py10_vlm/lib/python3.10/site-packages (from torch<3,>=2.0->bitsandbytes) (3.2.1)\n",
      "Requirement already satisfied: jinja2 in /home/ricky732/anaconda3/envs/py10_vlm/lib/python3.10/site-packages (from torch<3,>=2.0->bitsandbytes) (3.1.4)\n",
      "Requirement already satisfied: fsspec in /home/ricky732/anaconda3/envs/py10_vlm/lib/python3.10/site-packages (from torch<3,>=2.0->bitsandbytes) (2024.9.0)\n",
      "Requirement already satisfied: nvidia-cuda-nvrtc-cu12==12.4.127 in /home/ricky732/anaconda3/envs/py10_vlm/lib/python3.10/site-packages (from torch<3,>=2.0->bitsandbytes) (12.4.127)\n",
      "Requirement already satisfied: nvidia-cuda-runtime-cu12==12.4.127 in /home/ricky732/anaconda3/envs/py10_vlm/lib/python3.10/site-packages (from torch<3,>=2.0->bitsandbytes) (12.4.127)\n",
      "Requirement already satisfied: nvidia-cuda-cupti-cu12==12.4.127 in /home/ricky732/anaconda3/envs/py10_vlm/lib/python3.10/site-packages (from torch<3,>=2.0->bitsandbytes) (12.4.127)\n",
      "Requirement already satisfied: nvidia-cudnn-cu12==9.1.0.70 in /home/ricky732/anaconda3/envs/py10_vlm/lib/python3.10/site-packages (from torch<3,>=2.0->bitsandbytes) (9.1.0.70)\n",
      "Requirement already satisfied: nvidia-cublas-cu12==12.4.5.8 in /home/ricky732/anaconda3/envs/py10_vlm/lib/python3.10/site-packages (from torch<3,>=2.0->bitsandbytes) (12.4.5.8)\n",
      "Requirement already satisfied: nvidia-cufft-cu12==11.2.1.3 in /home/ricky732/anaconda3/envs/py10_vlm/lib/python3.10/site-packages (from torch<3,>=2.0->bitsandbytes) (11.2.1.3)\n",
      "Requirement already satisfied: nvidia-curand-cu12==10.3.5.147 in /home/ricky732/anaconda3/envs/py10_vlm/lib/python3.10/site-packages (from torch<3,>=2.0->bitsandbytes) (10.3.5.147)\n",
      "Requirement already satisfied: nvidia-cusolver-cu12==11.6.1.9 in /home/ricky732/anaconda3/envs/py10_vlm/lib/python3.10/site-packages (from torch<3,>=2.0->bitsandbytes) (11.6.1.9)\n",
      "Requirement already satisfied: nvidia-cusparse-cu12==12.3.1.170 in /home/ricky732/anaconda3/envs/py10_vlm/lib/python3.10/site-packages (from torch<3,>=2.0->bitsandbytes) (12.3.1.170)\n",
      "Requirement already satisfied: nvidia-cusparselt-cu12==0.6.2 in /home/ricky732/anaconda3/envs/py10_vlm/lib/python3.10/site-packages (from torch<3,>=2.0->bitsandbytes) (0.6.2)\n",
      "Requirement already satisfied: nvidia-nccl-cu12==2.21.5 in /home/ricky732/anaconda3/envs/py10_vlm/lib/python3.10/site-packages (from torch<3,>=2.0->bitsandbytes) (2.21.5)\n",
      "Requirement already satisfied: nvidia-nvtx-cu12==12.4.127 in /home/ricky732/anaconda3/envs/py10_vlm/lib/python3.10/site-packages (from torch<3,>=2.0->bitsandbytes) (12.4.127)\n",
      "Requirement already satisfied: nvidia-nvjitlink-cu12==12.4.127 in /home/ricky732/anaconda3/envs/py10_vlm/lib/python3.10/site-packages (from torch<3,>=2.0->bitsandbytes) (12.4.127)\n",
      "Requirement already satisfied: triton==3.2.0 in /home/ricky732/anaconda3/envs/py10_vlm/lib/python3.10/site-packages (from torch<3,>=2.0->bitsandbytes) (3.2.0)\n",
      "Requirement already satisfied: sympy==1.13.1 in /home/ricky732/anaconda3/envs/py10_vlm/lib/python3.10/site-packages (from torch<3,>=2.0->bitsandbytes) (1.13.1)\n",
      "Requirement already satisfied: mpmath<1.4,>=1.1.0 in /home/ricky732/anaconda3/envs/py10_vlm/lib/python3.10/site-packages (from sympy==1.13.1->torch<3,>=2.0->bitsandbytes) (1.3.0)\n",
      "Requirement already satisfied: MarkupSafe>=2.0 in /home/ricky732/anaconda3/envs/py10_vlm/lib/python3.10/site-packages (from jinja2->torch<3,>=2.0->bitsandbytes) (2.1.3)\n",
      "Requirement already satisfied: transformers in /home/ricky732/anaconda3/envs/py10_vlm/lib/python3.10/site-packages (4.51.3)\n",
      "Requirement already satisfied: filelock in /home/ricky732/anaconda3/envs/py10_vlm/lib/python3.10/site-packages (from transformers) (3.13.1)\n",
      "Requirement already satisfied: huggingface-hub<1.0,>=0.30.0 in /home/ricky732/anaconda3/envs/py10_vlm/lib/python3.10/site-packages (from transformers) (0.30.1)\n",
      "Requirement already satisfied: numpy>=1.17 in /home/ricky732/anaconda3/envs/py10_vlm/lib/python3.10/site-packages (from transformers) (1.26.4)\n",
      "Requirement already satisfied: packaging>=20.0 in /home/ricky732/anaconda3/envs/py10_vlm/lib/python3.10/site-packages (from transformers) (24.1)\n",
      "Requirement already satisfied: pyyaml>=5.1 in /home/ricky732/anaconda3/envs/py10_vlm/lib/python3.10/site-packages (from transformers) (6.0.2)\n",
      "Requirement already satisfied: regex!=2019.12.17 in /home/ricky732/anaconda3/envs/py10_vlm/lib/python3.10/site-packages (from transformers) (2024.9.11)\n",
      "Requirement already satisfied: requests in /home/ricky732/anaconda3/envs/py10_vlm/lib/python3.10/site-packages (from transformers) (2.32.3)\n",
      "Requirement already satisfied: tokenizers<0.22,>=0.21 in /home/ricky732/anaconda3/envs/py10_vlm/lib/python3.10/site-packages (from transformers) (0.21.1)\n",
      "Requirement already satisfied: safetensors>=0.4.3 in /home/ricky732/anaconda3/envs/py10_vlm/lib/python3.10/site-packages (from transformers) (0.5.3)\n",
      "Requirement already satisfied: tqdm>=4.27 in /home/ricky732/anaconda3/envs/py10_vlm/lib/python3.10/site-packages (from transformers) (4.66.5)\n",
      "Requirement already satisfied: fsspec>=2023.5.0 in /home/ricky732/anaconda3/envs/py10_vlm/lib/python3.10/site-packages (from huggingface-hub<1.0,>=0.30.0->transformers) (2024.9.0)\n",
      "Requirement already satisfied: typing-extensions>=3.7.4.3 in /home/ricky732/anaconda3/envs/py10_vlm/lib/python3.10/site-packages (from huggingface-hub<1.0,>=0.30.0->transformers) (4.11.0)\n",
      "Requirement already satisfied: charset-normalizer<4,>=2 in /home/ricky732/anaconda3/envs/py10_vlm/lib/python3.10/site-packages (from requests->transformers) (3.3.2)\n",
      "Requirement already satisfied: idna<4,>=2.5 in /home/ricky732/anaconda3/envs/py10_vlm/lib/python3.10/site-packages (from requests->transformers) (3.7)\n",
      "Requirement already satisfied: urllib3<3,>=1.21.1 in /home/ricky732/anaconda3/envs/py10_vlm/lib/python3.10/site-packages (from requests->transformers) (2.2.3)\n",
      "Requirement already satisfied: certifi>=2017.4.17 in /home/ricky732/anaconda3/envs/py10_vlm/lib/python3.10/site-packages (from requests->transformers) (2024.8.30)\n",
      "Requirement already satisfied: trl in /home/ricky732/anaconda3/envs/py10_vlm/lib/python3.10/site-packages (0.16.1)\n",
      "Requirement already satisfied: accelerate>=0.34.0 in /home/ricky732/anaconda3/envs/py10_vlm/lib/python3.10/site-packages (from trl) (1.6.0)\n",
      "Requirement already satisfied: datasets>=3.0.0 in /home/ricky732/anaconda3/envs/py10_vlm/lib/python3.10/site-packages (from trl) (3.5.0)\n",
      "Requirement already satisfied: rich in /home/ricky732/anaconda3/envs/py10_vlm/lib/python3.10/site-packages (from trl) (13.9.4)\n",
      "Requirement already satisfied: transformers>=4.46.0 in /home/ricky732/anaconda3/envs/py10_vlm/lib/python3.10/site-packages (from trl) (4.51.3)\n",
      "Requirement already satisfied: numpy<3.0.0,>=1.17 in /home/ricky732/anaconda3/envs/py10_vlm/lib/python3.10/site-packages (from accelerate>=0.34.0->trl) (1.26.4)\n",
      "Requirement already satisfied: packaging>=20.0 in /home/ricky732/anaconda3/envs/py10_vlm/lib/python3.10/site-packages (from accelerate>=0.34.0->trl) (24.1)\n",
      "Requirement already satisfied: psutil in /home/ricky732/anaconda3/envs/py10_vlm/lib/python3.10/site-packages (from accelerate>=0.34.0->trl) (5.9.0)\n",
      "Requirement already satisfied: pyyaml in /home/ricky732/anaconda3/envs/py10_vlm/lib/python3.10/site-packages (from accelerate>=0.34.0->trl) (6.0.2)\n",
      "Requirement already satisfied: torch>=2.0.0 in /home/ricky732/anaconda3/envs/py10_vlm/lib/python3.10/site-packages (from accelerate>=0.34.0->trl) (2.6.0)\n",
      "Requirement already satisfied: huggingface-hub>=0.21.0 in /home/ricky732/anaconda3/envs/py10_vlm/lib/python3.10/site-packages (from accelerate>=0.34.0->trl) (0.30.1)\n",
      "Requirement already satisfied: safetensors>=0.4.3 in /home/ricky732/anaconda3/envs/py10_vlm/lib/python3.10/site-packages (from accelerate>=0.34.0->trl) (0.5.3)\n",
      "Requirement already satisfied: filelock in /home/ricky732/anaconda3/envs/py10_vlm/lib/python3.10/site-packages (from datasets>=3.0.0->trl) (3.13.1)\n",
      "Requirement already satisfied: pyarrow>=15.0.0 in /home/ricky732/anaconda3/envs/py10_vlm/lib/python3.10/site-packages (from datasets>=3.0.0->trl) (19.0.1)\n",
      "Requirement already satisfied: dill<0.3.9,>=0.3.0 in /home/ricky732/anaconda3/envs/py10_vlm/lib/python3.10/site-packages (from datasets>=3.0.0->trl) (0.3.8)\n",
      "Requirement already satisfied: pandas in /home/ricky732/anaconda3/envs/py10_vlm/lib/python3.10/site-packages (from datasets>=3.0.0->trl) (2.2.3)\n",
      "Requirement already satisfied: requests>=2.32.2 in /home/ricky732/anaconda3/envs/py10_vlm/lib/python3.10/site-packages (from datasets>=3.0.0->trl) (2.32.3)\n",
      "Requirement already satisfied: tqdm>=4.66.3 in /home/ricky732/anaconda3/envs/py10_vlm/lib/python3.10/site-packages (from datasets>=3.0.0->trl) (4.66.5)\n",
      "Requirement already satisfied: xxhash in /home/ricky732/anaconda3/envs/py10_vlm/lib/python3.10/site-packages (from datasets>=3.0.0->trl) (3.5.0)\n",
      "Requirement already satisfied: multiprocess<0.70.17 in /home/ricky732/anaconda3/envs/py10_vlm/lib/python3.10/site-packages (from datasets>=3.0.0->trl) (0.70.16)\n",
      "Requirement already satisfied: fsspec<=2024.12.0,>=2023.1.0 in /home/ricky732/anaconda3/envs/py10_vlm/lib/python3.10/site-packages (from fsspec[http]<=2024.12.0,>=2023.1.0->datasets>=3.0.0->trl) (2024.9.0)\n",
      "Requirement already satisfied: aiohttp in /home/ricky732/anaconda3/envs/py10_vlm/lib/python3.10/site-packages (from datasets>=3.0.0->trl) (3.11.16)\n",
      "Requirement already satisfied: regex!=2019.12.17 in /home/ricky732/anaconda3/envs/py10_vlm/lib/python3.10/site-packages (from transformers>=4.46.0->trl) (2024.9.11)\n",
      "Requirement already satisfied: tokenizers<0.22,>=0.21 in /home/ricky732/anaconda3/envs/py10_vlm/lib/python3.10/site-packages (from transformers>=4.46.0->trl) (0.21.1)\n",
      "Requirement already satisfied: markdown-it-py>=2.2.0 in /home/ricky732/anaconda3/envs/py10_vlm/lib/python3.10/site-packages (from rich->trl) (3.0.0)\n",
      "Requirement already satisfied: pygments<3.0.0,>=2.13.0 in /home/ricky732/anaconda3/envs/py10_vlm/lib/python3.10/site-packages (from rich->trl) (2.15.1)\n",
      "Requirement already satisfied: typing-extensions<5.0,>=4.0.0 in /home/ricky732/anaconda3/envs/py10_vlm/lib/python3.10/site-packages (from rich->trl) (4.11.0)\n",
      "Requirement already satisfied: aiohappyeyeballs>=2.3.0 in /home/ricky732/anaconda3/envs/py10_vlm/lib/python3.10/site-packages (from aiohttp->datasets>=3.0.0->trl) (2.6.1)\n",
      "Requirement already satisfied: aiosignal>=1.1.2 in /home/ricky732/anaconda3/envs/py10_vlm/lib/python3.10/site-packages (from aiohttp->datasets>=3.0.0->trl) (1.3.2)\n",
      "Requirement already satisfied: async-timeout<6.0,>=4.0 in /home/ricky732/anaconda3/envs/py10_vlm/lib/python3.10/site-packages (from aiohttp->datasets>=3.0.0->trl) (5.0.1)\n",
      "Requirement already satisfied: attrs>=17.3.0 in /home/ricky732/anaconda3/envs/py10_vlm/lib/python3.10/site-packages (from aiohttp->datasets>=3.0.0->trl) (24.2.0)\n",
      "Requirement already satisfied: frozenlist>=1.1.1 in /home/ricky732/anaconda3/envs/py10_vlm/lib/python3.10/site-packages (from aiohttp->datasets>=3.0.0->trl) (1.5.0)\n",
      "Requirement already satisfied: multidict<7.0,>=4.5 in /home/ricky732/anaconda3/envs/py10_vlm/lib/python3.10/site-packages (from aiohttp->datasets>=3.0.0->trl) (6.3.2)\n",
      "Requirement already satisfied: propcache>=0.2.0 in /home/ricky732/anaconda3/envs/py10_vlm/lib/python3.10/site-packages (from aiohttp->datasets>=3.0.0->trl) (0.3.1)\n",
      "Requirement already satisfied: yarl<2.0,>=1.17.0 in /home/ricky732/anaconda3/envs/py10_vlm/lib/python3.10/site-packages (from aiohttp->datasets>=3.0.0->trl) (1.19.0)\n",
      "Requirement already satisfied: mdurl~=0.1 in /home/ricky732/anaconda3/envs/py10_vlm/lib/python3.10/site-packages (from markdown-it-py>=2.2.0->rich->trl) (0.1.2)\n",
      "Requirement already satisfied: charset-normalizer<4,>=2 in /home/ricky732/anaconda3/envs/py10_vlm/lib/python3.10/site-packages (from requests>=2.32.2->datasets>=3.0.0->trl) (3.3.2)\n",
      "Requirement already satisfied: idna<4,>=2.5 in /home/ricky732/anaconda3/envs/py10_vlm/lib/python3.10/site-packages (from requests>=2.32.2->datasets>=3.0.0->trl) (3.7)\n",
      "Requirement already satisfied: urllib3<3,>=1.21.1 in /home/ricky732/anaconda3/envs/py10_vlm/lib/python3.10/site-packages (from requests>=2.32.2->datasets>=3.0.0->trl) (2.2.3)\n",
      "Requirement already satisfied: certifi>=2017.4.17 in /home/ricky732/anaconda3/envs/py10_vlm/lib/python3.10/site-packages (from requests>=2.32.2->datasets>=3.0.0->trl) (2024.8.30)\n",
      "Requirement already satisfied: networkx in /home/ricky732/anaconda3/envs/py10_vlm/lib/python3.10/site-packages (from torch>=2.0.0->accelerate>=0.34.0->trl) (3.2.1)\n",
      "Requirement already satisfied: jinja2 in /home/ricky732/anaconda3/envs/py10_vlm/lib/python3.10/site-packages (from torch>=2.0.0->accelerate>=0.34.0->trl) (3.1.4)\n",
      "Requirement already satisfied: nvidia-cuda-nvrtc-cu12==12.4.127 in /home/ricky732/anaconda3/envs/py10_vlm/lib/python3.10/site-packages (from torch>=2.0.0->accelerate>=0.34.0->trl) (12.4.127)\n",
      "Requirement already satisfied: nvidia-cuda-runtime-cu12==12.4.127 in /home/ricky732/anaconda3/envs/py10_vlm/lib/python3.10/site-packages (from torch>=2.0.0->accelerate>=0.34.0->trl) (12.4.127)\n",
      "Requirement already satisfied: nvidia-cuda-cupti-cu12==12.4.127 in /home/ricky732/anaconda3/envs/py10_vlm/lib/python3.10/site-packages (from torch>=2.0.0->accelerate>=0.34.0->trl) (12.4.127)\n",
      "Requirement already satisfied: nvidia-cudnn-cu12==9.1.0.70 in /home/ricky732/anaconda3/envs/py10_vlm/lib/python3.10/site-packages (from torch>=2.0.0->accelerate>=0.34.0->trl) (9.1.0.70)\n",
      "Requirement already satisfied: nvidia-cublas-cu12==12.4.5.8 in /home/ricky732/anaconda3/envs/py10_vlm/lib/python3.10/site-packages (from torch>=2.0.0->accelerate>=0.34.0->trl) (12.4.5.8)\n",
      "Requirement already satisfied: nvidia-cufft-cu12==11.2.1.3 in /home/ricky732/anaconda3/envs/py10_vlm/lib/python3.10/site-packages (from torch>=2.0.0->accelerate>=0.34.0->trl) (11.2.1.3)\n",
      "Requirement already satisfied: nvidia-curand-cu12==10.3.5.147 in /home/ricky732/anaconda3/envs/py10_vlm/lib/python3.10/site-packages (from torch>=2.0.0->accelerate>=0.34.0->trl) (10.3.5.147)\n",
      "Requirement already satisfied: nvidia-cusolver-cu12==11.6.1.9 in /home/ricky732/anaconda3/envs/py10_vlm/lib/python3.10/site-packages (from torch>=2.0.0->accelerate>=0.34.0->trl) (11.6.1.9)\n",
      "Requirement already satisfied: nvidia-cusparse-cu12==12.3.1.170 in /home/ricky732/anaconda3/envs/py10_vlm/lib/python3.10/site-packages (from torch>=2.0.0->accelerate>=0.34.0->trl) (12.3.1.170)\n",
      "Requirement already satisfied: nvidia-cusparselt-cu12==0.6.2 in /home/ricky732/anaconda3/envs/py10_vlm/lib/python3.10/site-packages (from torch>=2.0.0->accelerate>=0.34.0->trl) (0.6.2)\n",
      "Requirement already satisfied: nvidia-nccl-cu12==2.21.5 in /home/ricky732/anaconda3/envs/py10_vlm/lib/python3.10/site-packages (from torch>=2.0.0->accelerate>=0.34.0->trl) (2.21.5)\n",
      "Requirement already satisfied: nvidia-nvtx-cu12==12.4.127 in /home/ricky732/anaconda3/envs/py10_vlm/lib/python3.10/site-packages (from torch>=2.0.0->accelerate>=0.34.0->trl) (12.4.127)\n",
      "Requirement already satisfied: nvidia-nvjitlink-cu12==12.4.127 in /home/ricky732/anaconda3/envs/py10_vlm/lib/python3.10/site-packages (from torch>=2.0.0->accelerate>=0.34.0->trl) (12.4.127)\n",
      "Requirement already satisfied: triton==3.2.0 in /home/ricky732/anaconda3/envs/py10_vlm/lib/python3.10/site-packages (from torch>=2.0.0->accelerate>=0.34.0->trl) (3.2.0)\n",
      "Requirement already satisfied: sympy==1.13.1 in /home/ricky732/anaconda3/envs/py10_vlm/lib/python3.10/site-packages (from torch>=2.0.0->accelerate>=0.34.0->trl) (1.13.1)\n",
      "Requirement already satisfied: mpmath<1.4,>=1.1.0 in /home/ricky732/anaconda3/envs/py10_vlm/lib/python3.10/site-packages (from sympy==1.13.1->torch>=2.0.0->accelerate>=0.34.0->trl) (1.3.0)\n",
      "Requirement already satisfied: python-dateutil>=2.8.2 in /home/ricky732/anaconda3/envs/py10_vlm/lib/python3.10/site-packages (from pandas->datasets>=3.0.0->trl) (2.9.0.post0)\n",
      "Requirement already satisfied: pytz>=2020.1 in /home/ricky732/anaconda3/envs/py10_vlm/lib/python3.10/site-packages (from pandas->datasets>=3.0.0->trl) (2024.1)\n",
      "Requirement already satisfied: tzdata>=2022.7 in /home/ricky732/anaconda3/envs/py10_vlm/lib/python3.10/site-packages (from pandas->datasets>=3.0.0->trl) (2025.2)\n",
      "Requirement already satisfied: six>=1.5 in /home/ricky732/anaconda3/envs/py10_vlm/lib/python3.10/site-packages (from python-dateutil>=2.8.2->pandas->datasets>=3.0.0->trl) (1.16.0)\n",
      "Requirement already satisfied: MarkupSafe>=2.0 in /home/ricky732/anaconda3/envs/py10_vlm/lib/python3.10/site-packages (from jinja2->torch>=2.0.0->accelerate>=0.34.0->trl) (2.1.3)\n"
     ]
    }
   ],
   "source": [
    "# Core dependencies\n",
    "!pip install -U datasets\n",
    "!pip install -U bitsandbytes\n",
    "!pip install -U transformers\n",
    "!pip install -U trl  # latest TRL library from HuggingFace\n",
    "!pip install -q flash-attn --no-build-isolation\n",
    "!pip install -q word2number\n"
   ]
  },
  {
   "cell_type": "code",
   "execution_count": 3,
   "metadata": {
    "id": "BYxXUfaQc4Zi"
   },
   "outputs": [],
   "source": [
    "# Standard libraries\n",
    "import os\n",
    "import sys\n",
    "import json\n",
    "import gc\n",
    "import time\n",
    "import traceback\n",
    "import re\n",
    "import string\n",
    "import math\n",
    "from pathlib import Path\n",
    "from functools import reduce\n",
    "from dataclasses import dataclass\n",
    "from typing import Any, Dict, List, Optional, Union\n",
    "from itertools import islice\n",
    "\n",
    "# Data science & visualization\n",
    "import numpy as np\n",
    "import pandas as pd\n",
    "import matplotlib.pyplot as plt\n",
    "import matplotlib.ticker as mticker\n",
    "from tqdm.notebook import tqdm\n",
    "\n",
    "# Image processing\n",
    "from PIL import Image\n",
    "\n",
    "# Data handling\n",
    "from datasets import Dataset, load_dataset\n",
    "from accelerate.utils import set_seed\n",
    "from word2number import w2n\n",
    "\n",
    "# Hugging Face transformers\n",
    "from transformers import (\n",
    "    AutoProcessor,\n",
    "    Idefics3ForConditionalGeneration,\n",
    "    BitsAndBytesConfig,\n",
    "    TrainingArguments,\n",
    "    AutoConfig\n",
    ")\n",
    "\n",
    "# PEFT (Parameter-Efficient Fine-Tuning)\n",
    "from peft import (\n",
    "    LoraConfig,\n",
    "    get_peft_model,\n",
    "    prepare_model_for_kbit_training,\n",
    "    PeftModel\n",
    ")\n",
    "\n",
    "# TRL (Training utilities)\n",
    "from trl import SFTTrainer, SFTConfig\n",
    "\n",
    "# Experiment tracking\n",
    "import wandb\n",
    "import torch"
   ]
  },
  {
   "cell_type": "code",
   "execution_count": 4,
   "metadata": {
    "colab": {
     "base_uri": "https://localhost:8080/"
    },
    "id": "RWp3MYBBc8iQ",
    "outputId": "8ffec345-a9fc-4ae7-99c3-85a11dddc2d9"
   },
   "outputs": [
    {
     "name": "stdout",
     "output_type": "stream",
     "text": [
      "--- Setting Configuration --- \n"
     ]
    }
   ],
   "source": [
    "print(\"--- Setting Configuration --- \")\n",
    "\n",
    "# --- Basic Setup ---\n",
    "#WORKING_DIR = '/content/drive/MyDrive/code'\n",
    "WORKING_DIR = '/home/ricky732/CS7643_final_project/working_dir'\n",
    "DATA_DIR = Path(\"./chartllama_data\")\n",
    "OUTPUT_DIR_BASE_NAME = \"smolvlm-500M-chartllama-sft-long-prompt\" # change to short prompt for short prompt\n",
    "# OUTPUT_DIR_BASE_NAME = \"smolvlm-chartllama-sft-refactored\"\n",
    "SEED = 42\n",
    "set_seed(SEED)"
   ]
  },
  {
   "cell_type": "code",
   "execution_count": 5,
   "metadata": {
    "colab": {
     "base_uri": "https://localhost:8080/"
    },
    "id": "1vjAnlL6dDJh",
    "outputId": "032e15e9-5b14-45b3-b38b-e9b3586ca505"
   },
   "outputs": [
    {
     "name": "stdout",
     "output_type": "stream",
     "text": [
      "Already in working directory: /home/ricky732/CS7643_final_project/working_dir\n"
     ]
    }
   ],
   "source": [
    "if os.getcwd() != WORKING_DIR:\n",
    "    print(f\"Changing working directory to: {WORKING_DIR}\")\n",
    "    os.makedirs(WORKING_DIR, exist_ok=True)\n",
    "    os.chdir(WORKING_DIR)\n",
    "else:\n",
    "    print(f\"Already in working directory: {WORKING_DIR}\")\n"
   ]
  },
  {
   "cell_type": "code",
   "execution_count": 6,
   "metadata": {
    "id": "sIeivHQGdFgK"
   },
   "outputs": [],
   "source": [
    "MODEL_ID = \"HuggingFaceTB/SmolVLM-500M-Instruct\" # specify model to use here\n",
    "\n",
    "USE_LORA = True\n",
    "USE_QLORA = True\n",
    "\n",
    "LORA_R = 8 # rank set to 8\n",
    "LORA_ALPHA = 8\n",
    "LORA_DROPOUT = 0.1\n",
    "LORA_TARGET_MODULES = [\"q_proj\", \"k_proj\", \"v_proj\", # attention heads\n",
    "                       \"o_proj\", \"gate_proj\", \"up_proj\", \"down_proj\", \"lm_head\"\n",
    "                       ]"
   ]
  },
  {
   "cell_type": "code",
   "execution_count": 7,
   "metadata": {
    "id": "duu5OGm7dM6B"
   },
   "outputs": [],
   "source": [
    "if USE_QLORA and not USE_LORA:\n",
    "    print(\"Warning: USE_QLORA=True requires USE_LORA=True. Forcing USE_LORA=True.\")\n",
    "    USE_LORA = True"
   ]
  },
  {
   "cell_type": "code",
   "execution_count": 8,
   "metadata": {
    "id": "u-tvlcIQdOoV"
   },
   "outputs": [],
   "source": [
    "# --- Training Hyperparameters ---\n",
    "NUM_TRAIN_EPOCHS = 3 # keep to default\n",
    "PER_DEVICE_TRAIN_BATCH_SIZE = 4\n",
    "GRADIENT_ACCUMULATION_STEPS = 4\n",
    "LEARNING_RATE = 1e-4\n",
    "MAX_SEQ_LENGTH = 2048\n",
    "OPTIMIZER = \"adamw_torch_fused\"\n",
    "LR_SCHEDULER_TYPE = \"cosine\"\n",
    "LOGGING_STEPS = 25\n",
    "SAVE_STRATEGY = \"epoch\"\n",
    "EVAL_STRATEGY = \"epoch\"\n",
    "EVAL_STEPS = 50\n",
    "WARMUP_RATIO = 0.1\n",
    "WEIGHT_DECAY = 0.01\n",
    "SAMPLE_LIMIT = None # training sample limit on Chartllama, None will use everything available."
   ]
  },
  {
   "cell_type": "code",
   "execution_count": 9,
   "metadata": {
    "id": "mlBh3DVVdShz"
   },
   "outputs": [],
   "source": [
    "# --- Resources & Precision ---\n",
    "DEVICE = torch.device(\"cuda\" if torch.cuda.is_available() else \"cpu\")\n",
    "DTYPE = torch.bfloat16 if torch.cuda.is_available() and torch.cuda.is_bf16_supported() else torch.float16\n",
    "ATTN_IMPLEMENTATION = \"flash_attention_2\""
   ]
  },
  {
   "cell_type": "code",
   "execution_count": 10,
   "metadata": {
    "id": "OXBzYGOjdW7f"
   },
   "outputs": [],
   "source": [
    "# --- Output Directory (Directly on Drive) ---\n",
    "if not USE_LORA:\n",
    "    TRAINING_TYPE = \"full-tuned\"\n",
    "elif USE_QLORA:\n",
    "    TRAINING_TYPE = \"qlora-tuned\"\n",
    "else:\n",
    "    TRAINING_TYPE = \"lora-tuned\""
   ]
  },
  {
   "cell_type": "code",
   "execution_count": 11,
   "metadata": {
    "id": "bUHrgvpCdZbl"
   },
   "outputs": [],
   "source": [
    "model_name_short = MODEL_ID.split('/')[-1]\n",
    "output_folder_name = f\"{OUTPUT_DIR_BASE_NAME}-{model_name_short}-{TRAINING_TYPE}-paddingTrue\" # test for lora alpha 16\n",
    "OUTPUT_DIR = os.path.join(WORKING_DIR, output_folder_name) # full path on Drive\n",
    "FINAL_MODEL_DIR = os.path.join(OUTPUT_DIR, \"final_model\")\n",
    "FINAL_PROCESSOR_DIR = os.path.join(OUTPUT_DIR, \"final_processor\") # sub directory to save processor"
   ]
  },
  {
   "cell_type": "code",
   "execution_count": 12,
   "metadata": {
    "id": "kSAIVl-Fdbbn"
   },
   "outputs": [],
   "source": [
    "# --- Evaluation Config ---\n",
    "CHARTQA_DATASET_ID = \"HuggingFaceM4/ChartQA\"\n",
    "EVAL_SPLIT = \"test\"\n",
    "EVAL_LIMIT = None # number of chartqa samples to use when evaluating ChartQA\n",
    "MAX_NEW_TOKENS_EVAL = 32\n",
    "EVAL_OUTPUT_FILE = os.path.join(OUTPUT_DIR, \"chartqa_evaluation_results_comparison.json\")"
   ]
  },
  {
   "cell_type": "code",
   "execution_count": 13,
   "metadata": {
    "id": "ym39Yfg4deFo"
   },
   "outputs": [],
   "source": [
    "# --- W&B Logging ---\n",
    "#WANDB_PROJECT = \"smolvlm-chartllama-sft-refactored\" # Set to None to disable\n",
    "WANDB_PROJECT = None\n",
    "WANDB_RUN_NAME = f\"{model_name_short}-{TRAINING_TYPE}-{int(time.time())}\" # Unique name for run"
   ]
  },
  {
   "cell_type": "code",
   "execution_count": 14,
   "metadata": {
    "colab": {
     "base_uri": "https://localhost:8080/"
    },
    "id": "JFSY5rXtdg5b",
    "outputId": "b5120ab0-ab11-42db-8fee-3e39a742d70d"
   },
   "outputs": [
    {
     "name": "stdout",
     "output_type": "stream",
     "text": [
      "Output directory ensured: '/home/ricky732/CS7643_final_project/working_dir/smolvlm-500M-chartllama-sft-long-prompt-SmolVLM-500M-Instruct-qlora-tuned-paddingTrue'\n",
      "\n",
      "--- Configuration Summary ---\n",
      "Model ID: HuggingFaceTB/SmolVLM-500M-Instruct\n",
      "Training Type: qlora-tuned\n",
      "Use LoRA: True, Use QLoRA: True\n",
      "Device: cuda, Compute Dtype: torch.bfloat16, Attention: flash_attention_2\n",
      "Learning Rate: 0.0001, Epochs: 3\n",
      "Eval Strategy: epoch\n",
      "Output Directory (on Drive): '/home/ricky732/CS7643_final_project/working_dir/smolvlm-500M-chartllama-sft-long-prompt-SmolVLM-500M-Instruct-qlora-tuned-paddingTrue'\n",
      "Final Model Save Directory: '/home/ricky732/CS7643_final_project/working_dir/smolvlm-500M-chartllama-sft-long-prompt-SmolVLM-500M-Instruct-qlora-tuned-paddingTrue/final_model'\n",
      "Final Processor Save Directory: '/home/ricky732/CS7643_final_project/working_dir/smolvlm-500M-chartllama-sft-long-prompt-SmolVLM-500M-Instruct-qlora-tuned-paddingTrue/final_processor'\n",
      "Evaluation results file: /home/ricky732/CS7643_final_project/working_dir/smolvlm-500M-chartllama-sft-long-prompt-SmolVLM-500M-Instruct-qlora-tuned-paddingTrue/chartqa_evaluation_results_comparison.json\n",
      "WandB Project: None, Run Name: SmolVLM-500M-Instruct-qlora-tuned-1745322909\n",
      "-----------------------------\n",
      "\n",
      "--- Full Configuration Complete --- \n",
      "\n",
      "--- Configuration Complete --- \n"
     ]
    }
   ],
   "source": [
    "# Create output directory now (important for direct-to-drive)\n",
    "os.makedirs(OUTPUT_DIR, exist_ok=True)\n",
    "print(f\"Output directory ensured: '{OUTPUT_DIR}'\")\n",
    "\n",
    "# display summary of all relevant information based on above settings.\n",
    "# --- Print Summary ---\n",
    "print(f\"\\n--- Configuration Summary ---\")\n",
    "print(f\"Model ID: {MODEL_ID}\")\n",
    "print(f\"Training Type: {TRAINING_TYPE}\")\n",
    "print(f\"Use LoRA: {USE_LORA}, Use QLoRA: {USE_QLORA}\")\n",
    "print(f\"Device: {DEVICE}, Compute Dtype: {DTYPE}, Attention: {ATTN_IMPLEMENTATION}\")\n",
    "print(f\"Learning Rate: {LEARNING_RATE}, Epochs: {NUM_TRAIN_EPOCHS}\")\n",
    "print(f\"Eval Strategy: {EVAL_STRATEGY}\")\n",
    "print(f\"Output Directory (on Drive): '{OUTPUT_DIR}'\")\n",
    "print(f\"Final Model Save Directory: '{FINAL_MODEL_DIR}'\")\n",
    "print(f\"Final Processor Save Directory: '{FINAL_PROCESSOR_DIR}'\")\n",
    "print(f\"Evaluation results file: {EVAL_OUTPUT_FILE}\")\n",
    "print(f\"WandB Project: {WANDB_PROJECT}, Run Name: {WANDB_RUN_NAME}\")\n",
    "print(\"-----------------------------\")\n",
    "\n",
    "print(\"\\n--- Full Configuration Complete --- \")\n",
    "\n",
    "print(\"\\n--- Configuration Complete --- \")\n"
   ]
  },
  {
   "cell_type": "code",
   "execution_count": 15,
   "metadata": {
    "colab": {
     "base_uri": "https://localhost:8080/",
     "height": 190
    },
    "id": "T3b3BNGjdjPZ",
    "outputId": "58d6c885-b715-4b27-e23c-83124d6abea4"
   },
   "outputs": [
    {
     "name": "stdout",
     "output_type": "stream",
     "text": [
      "--- WandB Setup ---\n",
      "WandB disabled by configuration (WANDB_PROJECT=None).\n",
      "--- WandB Setup Complete ---\n"
     ]
    }
   ],
   "source": [
    "# api key: 0469802d14d997b8dad4d23a7ba212e0a8d8f197\n",
    "# --- Simplified WandB setup ---\n",
    "print(\"--- WandB Setup ---\")\n",
    "\n",
    "if WANDB_PROJECT:\n",
    "    try:\n",
    "        wandb.login(relogin=False)\n",
    "        wandb.init(\n",
    "            project=WANDB_PROJECT,\n",
    "            name=WANDB_RUN_NAME,\n",
    "            config={\n",
    "                \"model_id\": MODEL_ID,\n",
    "                \"training_type\": TRAINING_TYPE,\n",
    "                \"use_lora\": USE_LORA,\n",
    "                \"use_qlora\": USE_QLORA,\n",
    "                \"dtype\": str(DTYPE),\n",
    "                \"seed\": SEED,\n",
    "                \"lora_r\": LORA_R if USE_LORA else None,\n",
    "                \"lora_alpha\": LORA_ALPHA if USE_LORA else None,\n",
    "                \"num_epochs\": NUM_TRAIN_EPOCHS,\n",
    "                \"learning_rate\": LEARNING_RATE,\n",
    "                \"batch_size\": PER_DEVICE_TRAIN_BATCH_SIZE,\n",
    "                \"grad_accum\": GRADIENT_ACCUMULATION_STEPS,\n",
    "                \"max_seq_length\": MAX_SEQ_LENGTH,\n",
    "                \"output_dir\": OUTPUT_DIR,\n",
    "                \"optimizer\": OPTIMIZER,\n",
    "                \"lr_scheduler\": LR_SCHEDULER_TYPE,\n",
    "                \"warmup_ratio\": WARMUP_RATIO,\n",
    "                \"weight_decay\": WEIGHT_DECAY,\n",
    "            },\n",
    "            job_type=\"fine-tuning\"\n",
    "        )\n",
    "        print(\"WandB initialized.\")\n",
    "    except Exception as e:\n",
    "        print(f\"WandB initialization failed: {e}. Disabling WandB.\")\n",
    "        os.environ[\"WANDB_DISABLED\"] = \"true\"\n",
    "else:\n",
    "    print(\"WandB disabled by configuration (WANDB_PROJECT=None).\")\n",
    "    os.environ[\"WANDB_DISABLED\"] = \"true\"\n",
    "\n",
    "gc.collect()\n",
    "if torch.cuda.is_available():\n",
    "    torch.cuda.empty_cache()\n",
    "\n",
    "print(\"--- WandB Setup Complete ---\")"
   ]
  },
  {
   "cell_type": "code",
   "execution_count": 16,
   "metadata": {
    "colab": {
     "base_uri": "https://localhost:8080/"
    },
    "id": "odBskBDddpMe",
    "outputId": "86568ff6-e84f-44f6-ffbc-9f7bc7e64a80"
   },
   "outputs": [
    {
     "name": "stdout",
     "output_type": "stream",
     "text": [
      "\n",
      "--- Defining Data Loading Function ---\n",
      "Data loading function defined.\n"
     ]
    }
   ],
   "source": [
    "# --- Define chartllama data loading function ---\n",
    "\n",
    "print(\"\\n--- Defining Data Loading Function ---\")\n",
    "\n",
    "def load_chartllama_data(data_root: Path, image_root: Path, limit: Optional[int] = None):\n",
    "    \"\"\"Loads ChartLlama QA pairs from JSON files.\"\"\"\n",
    "    if not data_root.is_dir():\n",
    "        raise FileNotFoundError(f\"Data root directory not found: {data_root.resolve()}\")\n",
    "\n",
    "    examples, skipped = [], 0\n",
    "    json_files = list(data_root.glob(\"*_simplified_qa.json\"))\n",
    "\n",
    "    if not json_files:\n",
    "        raise FileNotFoundError(f\"No '*_simplified_qa.json' files found in {data_root}\")\n",
    "\n",
    "    for json_file in tqdm(json_files, desc=\"Processing JSON files\"):\n",
    "        with open(json_file, \"r\", encoding=\"utf-8\") as f:\n",
    "            qa_list = json.load(f)\n",
    "\n",
    "        for idx, qa in enumerate(qa_list):\n",
    "            if limit and len(examples) >= limit:\n",
    "                break\n",
    "\n",
    "            question = qa.get(\"conversations\", [{}])[0].get(\"value\", \"\").replace(\"<image>\", \"\").strip()\n",
    "            answer = qa.get(\"conversations\", [{}, {}])[1].get(\"value\", \"\").strip()\n",
    "            image_path = (image_root / qa.get(\"image\", \"\")).resolve()\n",
    "\n",
    "            if question and answer and image_path.is_file():\n",
    "                examples.append({\n",
    "                    \"id\": qa.get(\"id\", f\"{json_file.stem}_{idx}\"),\n",
    "                    \"question\": question,\n",
    "                    \"answer\": answer,\n",
    "                    \"image_path\": str(image_path),\n",
    "                })\n",
    "            else:\n",
    "                skipped += 1\n",
    "\n",
    "    if not examples:\n",
    "        raise ValueError(f\"No valid examples loaded from {data_root}. Skipped {skipped} samples.\")\n",
    "\n",
    "    print(f\"\\nLoaded {len(examples)} examples. Skipped {skipped} invalid samples.\")\n",
    "    return Dataset.from_list(examples)\n",
    "\n",
    "print(\"Data loading function defined.\")\n"
   ]
  },
  {
   "cell_type": "code",
   "execution_count": 17,
   "metadata": {
    "colab": {
     "base_uri": "https://localhost:8080/",
     "height": 277,
     "referenced_widgets": [
      "625bae4a365b435c91aa623b42e7754c",
      "6152581c7d4746ceb6d61bc71e015c01",
      "a9db73bd09d44ed3ae5934b6ce58de5b",
      "112a279018b342fea4829d34e0edbdd6",
      "e2869fd0d0944565aae8e8932ef5004c",
      "b34c44835f0b401eb94e32f66d44adfc",
      "278aa53e5ef9415fae21bdf41b770afd",
      "19871de1c8cf474d963b534dd9a1438f",
      "033846748696417bb4fb61f93505c93e",
      "d9fd9b306db94295a4a2c78cc9fa33a3",
      "f4a13bca67db4ab5acc128da99f02935"
     ]
    },
    "id": "FU4jyOiEd2Rn",
    "outputId": "d472ecea-524e-47c0-a3da-bd2a1350e300"
   },
   "outputs": [
    {
     "name": "stdout",
     "output_type": "stream",
     "text": [
      "\n",
      "--- Loading and Splitting Data ---\n",
      "Loading data from: /home/ricky732/CS7643_final_project/working_dir/chartllama_data\n"
     ]
    },
    {
     "data": {
      "application/vnd.jupyter.widget-view+json": {
       "model_id": "313f7af5d68c4f82ad7e9bf3614367ba",
       "version_major": 2,
       "version_minor": 0
      },
      "text/plain": [
       "Processing JSON files:   0%|          | 0/7 [00:00<?, ?it/s]"
      ]
     },
     "metadata": {},
     "output_type": "display_data"
    },
    {
     "name": "stdout",
     "output_type": "stream",
     "text": [
      "\n",
      "Loaded 980 examples. Skipped 0 invalid samples.\n",
      "\n",
      "Raw data loaded and split.\n",
      "Train samples: 784\n",
      "Eval samples (Validation): 196\n",
      "\n",
      "Sample train data point (raw):\n",
      "{'id': 'ours_simplified_qa_35_2', 'question': 'What is the mortality rate for Neonatal mortality (under-28 days)?', 'answer': '4.6', 'image_path': '/home/ricky732/CS7643_final_project/working_dir/chartllama_data/ours/funnel_chart/png/funnel_chart_100examples_35.png'}\n"
     ]
    }
   ],
   "source": [
    "# --- Load Chartllama data ---\n",
    "\n",
    "print(\"\\n--- Loading and Splitting Data ---\")\n",
    "train_dataset, eval_dataset, raw_dataset = None, None, None\n",
    "\n",
    "# ensure DATA_DIR is a valid Path object\n",
    "DATA_DIR = Path(DATA_DIR)\n",
    "if not DATA_DIR.is_absolute():\n",
    "    DATA_DIR = Path(WORKING_DIR) / DATA_DIR\n",
    "\n",
    "if not DATA_DIR.is_dir():\n",
    "    raise FileNotFoundError(f\"Input data directory not found: {DATA_DIR.resolve()}\")\n",
    "\n",
    "print(f\"Loading data from: {DATA_DIR.resolve()}\")\n",
    "raw_dataset = load_chartllama_data(DATA_DIR, DATA_DIR, limit=SAMPLE_LIMIT)\n",
    "\n",
    "if not raw_dataset:\n",
    "    raise RuntimeError(\"Data loading returned an empty dataset.\")\n",
    "\n",
    "# split dataset: 80% train, 20% validation\n",
    "dataset_split = raw_dataset.train_test_split(test_size=0.2, seed=SEED, shuffle=True)\n",
    "train_dataset, eval_dataset = dataset_split[\"train\"], dataset_split[\"test\"]\n",
    "\n",
    "print(f\"\\nRaw data loaded and split.\")\n",
    "print(f\"Train samples: {len(train_dataset)}\")\n",
    "print(f\"Eval samples (Validation): {len(eval_dataset)}\")\n",
    "\n",
    "# display one sample from train dataset\n",
    "if train_dataset:\n",
    "    print(\"\\nSample train data point (raw):\")\n",
    "    print(train_dataset[0])\n",
    "else:\n",
    "    print(\"Train dataset is empty after split.\")"
   ]
  },
  {
   "cell_type": "code",
   "execution_count": 18,
   "metadata": {
    "colab": {
     "base_uri": "https://localhost:8080/"
    },
    "id": "xKDyoRSSd8V7",
    "outputId": "9a5b77a4-51ce-4758-b182-cd4bbbd8dd0d"
   },
   "outputs": [
    {
     "name": "stdout",
     "output_type": "stream",
     "text": [
      "\n",
      "--- Loading Model and Processor for Training ---\n",
      "Loading processor for model: HuggingFaceTB/SmolVLM-500M-Instruct\n"
     ]
    },
    {
     "data": {
      "application/vnd.jupyter.widget-view+json": {
       "model_id": "efb2a9623ff145e984a4c5469949f4df",
       "version_major": 2,
       "version_minor": 0
      },
      "text/plain": [
       "processor_config.json:   0%|          | 0.00/68.0 [00:00<?, ?B/s]"
      ]
     },
     "metadata": {},
     "output_type": "display_data"
    },
    {
     "data": {
      "application/vnd.jupyter.widget-view+json": {
       "model_id": "f8ddae7c12c845d0845da628c8599dc5",
       "version_major": 2,
       "version_minor": 0
      },
      "text/plain": [
       "chat_template.json:   0%|          | 0.00/429 [00:00<?, ?B/s]"
      ]
     },
     "metadata": {},
     "output_type": "display_data"
    },
    {
     "data": {
      "application/vnd.jupyter.widget-view+json": {
       "model_id": "9b8398871711450cbe0761786a6930bc",
       "version_major": 2,
       "version_minor": 0
      },
      "text/plain": [
       "preprocessor_config.json:   0%|          | 0.00/486 [00:00<?, ?B/s]"
      ]
     },
     "metadata": {},
     "output_type": "display_data"
    },
    {
     "data": {
      "application/vnd.jupyter.widget-view+json": {
       "model_id": "24f99417a3cd45b19b17cf560d1ff63f",
       "version_major": 2,
       "version_minor": 0
      },
      "text/plain": [
       "tokenizer_config.json:   0%|          | 0.00/28.2k [00:00<?, ?B/s]"
      ]
     },
     "metadata": {},
     "output_type": "display_data"
    },
    {
     "data": {
      "application/vnd.jupyter.widget-view+json": {
       "model_id": "7d394aeb78c741ba9e1d058730d04e02",
       "version_major": 2,
       "version_minor": 0
      },
      "text/plain": [
       "vocab.json:   0%|          | 0.00/801k [00:00<?, ?B/s]"
      ]
     },
     "metadata": {},
     "output_type": "display_data"
    },
    {
     "data": {
      "application/vnd.jupyter.widget-view+json": {
       "model_id": "9cebbc2945424b7f96f9454c02736190",
       "version_major": 2,
       "version_minor": 0
      },
      "text/plain": [
       "merges.txt:   0%|          | 0.00/466k [00:00<?, ?B/s]"
      ]
     },
     "metadata": {},
     "output_type": "display_data"
    },
    {
     "data": {
      "application/vnd.jupyter.widget-view+json": {
       "model_id": "208d407d3e7f454897ac24a2f9e5d92a",
       "version_major": 2,
       "version_minor": 0
      },
      "text/plain": [
       "tokenizer.json:   0%|          | 0.00/3.55M [00:00<?, ?B/s]"
      ]
     },
     "metadata": {},
     "output_type": "display_data"
    },
    {
     "data": {
      "application/vnd.jupyter.widget-view+json": {
       "model_id": "5ce395c65ca242a79380179ca5cd1d78",
       "version_major": 2,
       "version_minor": 0
      },
      "text/plain": [
       "added_tokens.json:   0%|          | 0.00/4.74k [00:00<?, ?B/s]"
      ]
     },
     "metadata": {},
     "output_type": "display_data"
    },
    {
     "data": {
      "application/vnd.jupyter.widget-view+json": {
       "model_id": "2581fe31831248408f5d77ac1ac1fef4",
       "version_major": 2,
       "version_minor": 0
      },
      "text/plain": [
       "special_tokens_map.json:   0%|          | 0.00/1.07k [00:00<?, ?B/s]"
      ]
     },
     "metadata": {},
     "output_type": "display_data"
    },
    {
     "name": "stdout",
     "output_type": "stream",
     "text": [
      "Processor loaded.\n",
      "\n",
      "Configuring model loading...\n",
      "Configuring model for QLoRA (4-bit).\n"
     ]
    },
    {
     "data": {
      "application/vnd.jupyter.widget-view+json": {
       "model_id": "4dd6931df8da4ce5b8e938862eeafcf3",
       "version_major": 2,
       "version_minor": 0
      },
      "text/plain": [
       "config.json:   0%|          | 0.00/7.34k [00:00<?, ?B/s]"
      ]
     },
     "metadata": {},
     "output_type": "display_data"
    },
    {
     "name": "stdout",
     "output_type": "stream",
     "text": [
      "Loading model 'HuggingFaceTB/SmolVLM-500M-Instruct'...\n"
     ]
    },
    {
     "data": {
      "application/vnd.jupyter.widget-view+json": {
       "model_id": "61a88fb7c19944d1bd007fd9ffe5fc64",
       "version_major": 2,
       "version_minor": 0
      },
      "text/plain": [
       "model.safetensors:   0%|          | 0.00/1.02G [00:00<?, ?B/s]"
      ]
     },
     "metadata": {},
     "output_type": "display_data"
    },
    {
     "data": {
      "application/vnd.jupyter.widget-view+json": {
       "model_id": "99de688dbe624f36b73735ce80737d28",
       "version_major": 2,
       "version_minor": 0
      },
      "text/plain": [
       "generation_config.json:   0%|          | 0.00/136 [00:00<?, ?B/s]"
      ]
     },
     "metadata": {},
     "output_type": "display_data"
    },
    {
     "name": "stdout",
     "output_type": "stream",
     "text": [
      "Model loaded.\n",
      "  - Device Map: {'': 0}\n",
      "  - Attention Implementation: N/A\n",
      "\n",
      "Applying PEFT/LoRA configuration...\n",
      "trainable params: 5,186,048 || all params: 512,668,352 || trainable%: 1.0116\n",
      "\n",
      "--- Model and Processor Setup Complete ---\n"
     ]
    }
   ],
   "source": [
    "# ### 3.1 Load Model and Processor\n",
    "\n",
    "print(\"\\n--- Loading Model and Processor for Training ---\")\n",
    "\n",
    "# load Processor\n",
    "print(f\"Loading processor for model: {MODEL_ID}\")\n",
    "processor = AutoProcessor.from_pretrained(MODEL_ID, trust_remote_code=True)\n",
    "if processor.tokenizer.pad_token_id is None:\n",
    "    processor.tokenizer.pad_token = processor.tokenizer.eos_token\n",
    "    if hasattr(processor, 'pad_token') and processor.pad_token is None:\n",
    "        processor.pad_token = processor.tokenizer.eos_token\n",
    "print(\"Processor loaded.\")\n",
    "\n",
    "# configure Model Loading\n",
    "print(\"\\nConfiguring model loading...\")\n",
    "model_load_kwargs = {\"device_map\": \"auto\", \"torch_dtype\": DTYPE}\n",
    "\n",
    "if USE_LORA and USE_QLORA:\n",
    "    print(\"Configuring model for QLoRA (4-bit).\")\n",
    "    model_load_kwargs[\"quantization_config\"] = BitsAndBytesConfig(\n",
    "        load_in_4bit=True, bnb_4bit_use_double_quant=True,\n",
    "        bnb_4bit_quant_type=\"nf4\", bnb_4bit_compute_dtype=DTYPE\n",
    "    )\n",
    "elif USE_LORA:\n",
    "    print(f\"Configuring model for LoRA (dtype: {DTYPE}).\")\n",
    "else:\n",
    "    print(f\"Configuring model for Full Fine-Tuning (dtype: {DTYPE}).\")\n",
    "\n",
    "# load Config\n",
    "config = AutoConfig.from_pretrained(MODEL_ID, trust_remote_code=True, use_cache=False)\n",
    "if hasattr(config, \"attn_implementation\"):\n",
    "    config.attn_implementation = ATTN_IMPLEMENTATION\n",
    "\n",
    "# load Model\n",
    "print(f\"Loading model '{MODEL_ID}'...\")\n",
    "model = Idefics3ForConditionalGeneration.from_pretrained(\n",
    "    MODEL_ID, config=config, trust_remote_code=True, **model_load_kwargs\n",
    ")\n",
    "\n",
    "print(\"Model loaded.\")\n",
    "print(f\"  - Device Map: {getattr(model, 'hf_device_map', model.device)}\")\n",
    "print(f\"  - Attention Implementation: {getattr(model.config, 'attn_implementation', 'N/A')}\")\n",
    "\n",
    "# PEFT Setup\n",
    "if USE_LORA:\n",
    "    print(\"\\nApplying PEFT/LoRA configuration...\")\n",
    "    if USE_QLORA:\n",
    "        model = prepare_model_for_kbit_training(model, use_gradient_checkpointing=True, gradient_checkpointing_kwargs={\"use_reentrant\": False})\n",
    "        model.config.use_cache = False\n",
    "    elif hasattr(model, \"gradient_checkpointing_enable\"):\n",
    "        model.gradient_checkpointing_enable(gradient_checkpointing_kwargs={\"use_reentrant\": False})\n",
    "        model.config.use_cache = False\n",
    "\n",
    "    peft_config = LoraConfig(\n",
    "        r=LORA_R, lora_alpha=LORA_ALPHA, lora_dropout=LORA_DROPOUT,\n",
    "        target_modules=LORA_TARGET_MODULES, bias=\"none\", task_type=\"CAUSAL_LM\"\n",
    "    )\n",
    "\n",
    "    if not isinstance(model, PeftModel):\n",
    "        model = get_peft_model(model, peft_config)\n",
    "        model.print_trainable_parameters()\n",
    "else:\n",
    "    if hasattr(model, \"gradient_checkpointing_enable\"):\n",
    "        model.gradient_checkpointing_enable(gradient_checkpointing_kwargs={\"use_reentrant\": False})\n",
    "        model.config.use_cache = False\n",
    "\n",
    "print(\"\\n--- Model and Processor Setup Complete ---\")"
   ]
  },
  {
   "cell_type": "code",
   "execution_count": 19,
   "metadata": {
    "colab": {
     "base_uri": "https://localhost:8080/"
    },
    "id": "odIqqWQXeT3r",
    "outputId": "20385819-462d-4247-d9b0-ce030fbf706c"
   },
   "outputs": [
    {
     "name": "stdout",
     "output_type": "stream",
     "text": [
      "\n",
      "--- Defining Formatting Function & Data Collator ---\n",
      "\n",
      "Custom Collator instantiated.\n"
     ]
    }
   ],
   "source": [
    "# ### 3.1 define smolvlm formatting functions and collate_fn\n",
    "\n",
    "print(\"\\n--- Defining Formatting Function & Data Collator ---\")\n",
    "\n",
    "SYSTEM_MESSAGE = \"\"\"You are a Vision Language Model specialized in interpreting visual data from chart images. Your task is to analyze the provided chart image and respond to queries with concise answers, usually a single word, number, or short phrase. The charts include a variety of types (e.g., line charts, bar charts) and contain colors, labels, and text. Focus on delivering accurate, succinct answers based on the visual information. Avoid additional explanation unless absolutely necessary.\"\"\"\n",
    "#SYSTEM_MESSAGE = \"\"\"You are a Vision-Language Model specialized in interpreting chart images. Please answer the question using only one word or a number based on the provided chart.\"\"\"\n",
    "\n",
    "def create_chat_messages(sample):\n",
    "    \"\"\"Creates the chat message structure for SFT training.\"\"\"\n",
    "    question = sample.get(\"question\")\n",
    "    answer = sample.get(\"answer\")\n",
    "    if question is None or answer is None:\n",
    "         return None\n",
    "\n",
    "    return [\n",
    "        {\"role\": \"system\", \"content\": [{\"type\": \"text\", \"text\": SYSTEM_MESSAGE}]},\n",
    "        {\"role\": \"user\", \"content\": [\n",
    "            {\"type\": \"image\"},\n",
    "            {\"type\": \"text\", \"text\": question}\n",
    "        ]},\n",
    "        {\"role\": \"assistant\", \"content\": [{\"type\": \"text\", \"text\": answer}]},\n",
    "    ]\n",
    "\n",
    "\n",
    "@dataclass # ChartLlama collator class for collate function\n",
    "class ChartLlamaCollator:\n",
    "    processor: AutoProcessor\n",
    "    max_seq_length: int = MAX_SEQ_LENGTH\n",
    "\n",
    "    def __post_init__(self):\n",
    "        image_token_str = \"<image>\"\n",
    "        self.image_token_id = self.processor.tokenizer.convert_tokens_to_ids(image_token_str)\n",
    "        if self.image_token_id is None:\n",
    "            self.image_token_id = -100\n",
    "\n",
    "    def __call__(self, examples: List[Dict[str, Any]]) -> Dict[str, Any]:\n",
    "        pil_images, texts = [], []\n",
    "\n",
    "        for ex in examples:\n",
    "            img_path = ex.get('image_path')\n",
    "            if not img_path or not os.path.exists(img_path):\n",
    "                continue\n",
    "\n",
    "            img = Image.open(img_path).convert(\"RGB\")\n",
    "            messages = create_chat_messages(ex)\n",
    "            if messages is None:\n",
    "                continue\n",
    "\n",
    "            formatted_text = self.processor.apply_chat_template(\n",
    "                messages, add_generation_prompt=False, tokenize=False\n",
    "            )\n",
    "\n",
    "            pil_images.append(img)\n",
    "            texts.append(formatted_text)\n",
    "\n",
    "        if not texts or not pil_images:\n",
    "            return {\"input_ids\": torch.tensor([], dtype=torch.long)}\n",
    "\n",
    "        batch = self.processor(\n",
    "            text=texts,\n",
    "            images=pil_images,\n",
    "            return_tensors=\"pt\",\n",
    "            padding=True,\n",
    "            # truncation=True,\n",
    "            # max_length=self.max_seq_length,\n",
    "        )\n",
    "\n",
    "        labels = batch[\"input_ids\"].clone()\n",
    "        labels[labels == self.processor.tokenizer.pad_token_id] = -100\n",
    "\n",
    "        if self.image_token_id != -100:\n",
    "            labels[labels == self.image_token_id] = -100\n",
    "\n",
    "        batch[\"labels\"] = labels\n",
    "        return batch\n",
    "\n",
    "chart_collator = ChartLlamaCollator(processor=processor)\n",
    "print(\"\\nCustom Collator instantiated.\")"
   ]
  },
  {
   "cell_type": "code",
   "execution_count": 20,
   "metadata": {
    "colab": {
     "base_uri": "https://localhost:8080/"
    },
    "id": "vQ0-a3LaeZO9",
    "outputId": "b991cd73-66c5-41fe-fbd1-b3db759a4677"
   },
   "outputs": [
    {
     "name": "stdout",
     "output_type": "stream",
     "text": [
      "\n",
      "--- Configuring Training Arguments ---\n",
      "SFTConfig set.\n"
     ]
    }
   ],
   "source": [
    "# configure training arguments\n",
    "print(\"\\n--- Configuring Training Arguments ---\")\n",
    "\n",
    "if 'OUTPUT_DIR' not in locals():\n",
    "    raise NameError(\"OUTPUT_DIR not defined. Rerun configuration cell.\")\n",
    "\n",
    "trainer_config = SFTConfig(\n",
    "    output_dir=OUTPUT_DIR,\n",
    "    max_seq_length=MAX_SEQ_LENGTH,\n",
    "    dataset_text_field=\"\",\n",
    "    packing=False,\n",
    "    dataset_kwargs={\"skip_prepare_dataset\": True},\n",
    "\n",
    "    num_train_epochs=NUM_TRAIN_EPOCHS,\n",
    "    per_device_train_batch_size=PER_DEVICE_TRAIN_BATCH_SIZE,\n",
    "    gradient_accumulation_steps=GRADIENT_ACCUMULATION_STEPS,\n",
    "    gradient_checkpointing=True,\n",
    "    gradient_checkpointing_kwargs={\"use_reentrant\": False},\n",
    "\n",
    "    optim=OPTIMIZER,\n",
    "    learning_rate=LEARNING_RATE,\n",
    "    weight_decay=WEIGHT_DECAY,\n",
    "    warmup_ratio=WARMUP_RATIO,\n",
    "    lr_scheduler_type=LR_SCHEDULER_TYPE,\n",
    "\n",
    "    logging_strategy=\"steps\",\n",
    "    logging_steps=LOGGING_STEPS,\n",
    "    save_strategy=SAVE_STRATEGY,\n",
    "    save_total_limit=2,\n",
    "    save_only_model=(\"peft_config\" in locals() and peft_config is not None),\n",
    "\n",
    "    bf16=(DTYPE == torch.bfloat16),\n",
    "    fp16=(DTYPE == torch.float16),\n",
    "\n",
    "    eval_strategy=EVAL_STRATEGY,\n",
    "    eval_steps=EVAL_STEPS,\n",
    "    load_best_model_at_end=True,\n",
    "    metric_for_best_model=\"eval_loss\",\n",
    "\n",
    "    seed=SEED,\n",
    "    report_to=\"wandb\" if WANDB_PROJECT and os.environ.get(\"WANDB_DISABLED\") != \"true\" else \"none\",\n",
    "    remove_unused_columns=False,\n",
    ")\n",
    "\n",
    "print(\"SFTConfig set.\")"
   ]
  },
  {
   "cell_type": "code",
   "execution_count": 21,
   "metadata": {
    "colab": {
     "base_uri": "https://localhost:8080/"
    },
    "id": "7TzmIm_QcsfB",
    "outputId": "a6f6bdbc-547f-4be1-d240-50c7adbd9a0e"
   },
   "outputs": [
    {
     "name": "stdout",
     "output_type": "stream",
     "text": [
      "\n",
      "--- Initializing SFTTrainer ---\n"
     ]
    },
    {
     "name": "stderr",
     "output_type": "stream",
     "text": [
      "No label_names provided for model class `PeftModelForCausalLM`. Since `PeftModel` hides base models input arguments, if label_names is not given, label_names can't be set automatically within `Trainer`. Note that empty label_names list will be used instead.\n"
     ]
    },
    {
     "name": "stdout",
     "output_type": "stream",
     "text": [
      "SFTTrainer initialized successfully.\n"
     ]
    }
   ],
   "source": [
    "# initialize trainer\n",
    "\n",
    "print(\"\\n--- Initializing SFTTrainer ---\")\n",
    "\n",
    "required_components = [train_dataset, model, trainer_config, chart_collator, processor]\n",
    "\n",
    "if all(required_components):\n",
    "    trainer = SFTTrainer(\n",
    "        model=model,\n",
    "        args=trainer_config,\n",
    "        train_dataset=train_dataset,\n",
    "        eval_dataset=eval_dataset if EVAL_STRATEGY != \"no\" else None,\n",
    "        data_collator=chart_collator,\n",
    "        peft_config=peft_config if USE_LORA else None,\n",
    "    )\n",
    "    print(\"SFTTrainer initialized successfully.\")\n",
    "else:\n",
    "    missing = [name for name, comp in zip(\n",
    "        ['train_dataset', 'model', 'trainer_config', 'chart_collator', 'processor'],\n",
    "        required_components) if comp is None]\n",
    "    raise RuntimeError(f\"Cannot initialize trainer. Missing components: {', '.join(missing)}\")"
   ]
  },
  {
   "cell_type": "code",
   "execution_count": 22,
   "metadata": {
    "colab": {
     "base_uri": "https://localhost:8080/",
     "height": 398
    },
    "id": "YExT-I4GevPn",
    "outputId": "cb52151b-7813-4991-97a9-8c494ea17693"
   },
   "outputs": [
    {
     "name": "stdout",
     "output_type": "stream",
     "text": [
      "\n",
      "--- Checking if Training Should Be Skipped ---\n",
      "Starting training...\n"
     ]
    },
    {
     "data": {
      "text/html": [
       "\n",
       "    <div>\n",
       "      \n",
       "      <progress value='147' max='147' style='width:300px; height:20px; vertical-align: middle;'></progress>\n",
       "      [147/147 47:47, Epoch 3/3]\n",
       "    </div>\n",
       "    <table border=\"1\" class=\"dataframe\">\n",
       "  <thead>\n",
       " <tr style=\"text-align: left;\">\n",
       "      <th>Epoch</th>\n",
       "      <th>Training Loss</th>\n",
       "      <th>Validation Loss</th>\n",
       "    </tr>\n",
       "  </thead>\n",
       "  <tbody>\n",
       "    <tr>\n",
       "      <td>1</td>\n",
       "      <td>3.195400</td>\n",
       "      <td>1.770576</td>\n",
       "    </tr>\n",
       "    <tr>\n",
       "      <td>2</td>\n",
       "      <td>1.349600</td>\n",
       "      <td>0.542882</td>\n",
       "    </tr>\n",
       "    <tr>\n",
       "      <td>3</td>\n",
       "      <td>0.462800</td>\n",
       "      <td>0.431299</td>\n",
       "    </tr>\n",
       "  </tbody>\n",
       "</table><p>"
      ],
      "text/plain": [
       "<IPython.core.display.HTML object>"
      ]
     },
     "metadata": {},
     "output_type": "display_data"
    },
    {
     "name": "stderr",
     "output_type": "stream",
     "text": [
      "/home/ricky732/anaconda3/envs/py10_vlm/lib/python3.10/site-packages/peft/utils/save_and_load.py:220: UserWarning: Setting `save_embedding_layers` to `True` as embedding layers found in `target_modules`.\n",
      "  warnings.warn(\"Setting `save_embedding_layers` to `True` as embedding layers found in `target_modules`.\")\n"
     ]
    },
    {
     "name": "stdout",
     "output_type": "stream",
     "text": [
      "Training completed in 48.05 minutes.\n",
      "***** train metrics *****\n",
      "  total_flos               =  6457924GF\n",
      "  train_loss               =     1.4076\n",
      "  train_runtime            = 0:48:03.02\n",
      "  train_samples_per_second =      0.816\n",
      "  train_steps_per_second   =      0.051\n",
      "\n",
      "--- Training Step Execution Finished ---\n"
     ]
    }
   ],
   "source": [
    "# --- Run Training (with Loss curve Plotting Added & Enhanced Naming) ---\n",
    "\n",
    "print(\"\\n--- Checking if Training Should Be Skipped ---\")\n",
    "\n",
    "model_exists = os.path.isdir(FINAL_MODEL_DIR) and any(\n",
    "    f.endswith(('.bin', '.safetensors', 'adapter_config.json')) for f in os.listdir(FINAL_MODEL_DIR)\n",
    ")\n",
    "\n",
    "processor_exists = os.path.isfile(os.path.join(FINAL_PROCESSOR_DIR, \"preprocessor_config.json\"))\n",
    "\n",
    "if model_exists and processor_exists:\n",
    "    print(\"Model and processor already exist. Skipping training.\")\n",
    "else:\n",
    "    if trainer is None or processor is None:\n",
    "        raise RuntimeError(\"Trainer or processor not available. Cannot proceed with training.\")\n",
    "\n",
    "    print(\"Starting training...\")\n",
    "    start_time = time.time()\n",
    "\n",
    "    os.makedirs(FINAL_MODEL_DIR, exist_ok=True)\n",
    "    os.makedirs(FINAL_PROCESSOR_DIR, exist_ok=True)\n",
    "\n",
    "    train_result = trainer.train()\n",
    "\n",
    "    print(f\"Training completed in {(time.time() - start_time)/60:.2f} minutes.\")\n",
    "\n",
    "    trainer.save_model(FINAL_MODEL_DIR)\n",
    "    processor.save_pretrained(FINAL_PROCESSOR_DIR)\n",
    "\n",
    "    trainer.log_metrics(\"train\", train_result.metrics)\n",
    "    trainer.save_metrics(\"train\", train_result.metrics)\n",
    "    trainer.save_state()\n",
    "\n",
    "    log_history = trainer.state.log_history\n",
    "    if log_history:\n",
    "        log_df = pd.DataFrame(log_history)\n",
    "        fig, ax = plt.subplots(figsize=(12, 7))\n",
    "\n",
    "        if 'loss' in log_df:\n",
    "            ax.plot(log_df['step'], log_df['loss'], label='Training Loss', marker='o')\n",
    "        if 'eval_loss' in log_df:\n",
    "            ax.plot(log_df['step'], log_df['eval_loss'], label='Validation Loss', marker='s')\n",
    "\n",
    "        ax.set_title(f\"Training & Validation Loss ({model_name_short}, {TRAINING_TYPE})\")\n",
    "        ax.set_xlabel(\"Steps\")\n",
    "        ax.set_ylabel(\"Loss\")\n",
    "        ax.legend()\n",
    "        ax.grid(True)\n",
    "\n",
    "        plot_path = os.path.join(OUTPUT_DIR, f\"loss_curves_{model_name_short}_{TRAINING_TYPE}.png\")\n",
    "        fig.savefig(plot_path, dpi=150)\n",
    "        plt.close(fig)\n",
    "\n",
    "# Cleanup\n",
    "del trainer\n",
    "gc.collect()\n",
    "if torch.cuda.is_available():\n",
    "    torch.cuda.empty_cache()\n",
    "\n",
    "print(\"\\n--- Training Step Execution Finished ---\")\n"
   ]
  },
  {
   "cell_type": "code",
   "execution_count": 23,
   "metadata": {
    "colab": {
     "base_uri": "https://localhost:8080/"
    },
    "id": "BLW_j24AfXO6",
    "outputId": "a69c42c7-9dee-4e42-ae27-91c9777a514a"
   },
   "outputs": [
    {
     "name": "stdout",
     "output_type": "stream",
     "text": [
      "\n",
      "--- Setting up Evaluation Environment ---\n",
      "Loading processor from: /home/ricky732/CS7643_final_project/working_dir/smolvlm-500M-chartllama-sft-long-prompt-SmolVLM-500M-Instruct-qlora-tuned-paddingTrue/final_processor\n",
      "Processor loaded successfully.\n"
     ]
    }
   ],
   "source": [
    "# --- Load Fine-tuned Model ---\n",
    "print(\"\\n--- Setting up Evaluation Environment ---\")\n",
    "gc.collect()\n",
    "if torch.cuda.is_available():\n",
    "    torch.cuda.empty_cache()\n",
    "\n",
    "FT_MODEL_LOAD_PATH = FINAL_MODEL_DIR\n",
    "PROCESSOR_LOAD_PATH = FINAL_PROCESSOR_DIR\n",
    "\n",
    "print(f\"Loading processor from: {PROCESSOR_LOAD_PATH}\")\n",
    "\n",
    "if not os.path.isdir(PROCESSOR_LOAD_PATH):\n",
    "    raise FileNotFoundError(f\"Processor directory not found: {PROCESSOR_LOAD_PATH}\")\n",
    "\n",
    "eval_processor = AutoProcessor.from_pretrained(PROCESSOR_LOAD_PATH, trust_remote_code=True)\n",
    "\n",
    "if eval_processor.tokenizer.pad_token_id is None:\n",
    "    eval_processor.tokenizer.pad_token = eval_processor.tokenizer.eos_token\n",
    "    if hasattr(eval_processor, 'pad_token') and eval_processor.pad_token is None:\n",
    "        eval_processor.pad_token = eval_processor.tokenizer.eos_token\n",
    "\n",
    "print(\"Processor loaded successfully.\")"
   ]
  },
  {
   "cell_type": "code",
   "execution_count": 24,
   "metadata": {
    "colab": {
     "base_uri": "https://localhost:8080/"
    },
    "id": "hvrSHP3NbX3K",
    "outputId": "10bf146b-6ff3-4890-8f3c-d8d59b68f2f9"
   },
   "outputs": [
    {
     "name": "stdout",
     "output_type": "stream",
     "text": [
      "Fine-tuned model loaded successfully.\n"
     ]
    }
   ],
   "source": [
    "# --- Load Fine-tuned Model ---\n",
    "\n",
    "eval_model = None\n",
    "if not eval_processor:\n",
    "    raise RuntimeError(\"Processor is not loaded. Cannot load model.\")\n",
    "\n",
    "if not os.path.isdir(FT_MODEL_LOAD_PATH):\n",
    "    raise FileNotFoundError(f\"Fine-tuned model directory not found: {FT_MODEL_LOAD_PATH}\")\n",
    "\n",
    "# Load evaluation configuration\n",
    "try:\n",
    "    eval_config = AutoConfig.from_pretrained(FT_MODEL_LOAD_PATH, trust_remote_code=True)\n",
    "except OSError:\n",
    "    eval_config = AutoConfig.from_pretrained(MODEL_ID, trust_remote_code=True)\n",
    "\n",
    "eval_config.use_cache = True\n",
    "if hasattr(eval_config, \"attn_implementation\"):\n",
    "    eval_config.attn_implementation = ATTN_IMPLEMENTATION\n",
    "\n",
    "load_kwargs = {\"device_map\": \"auto\", \"torch_dtype\": DTYPE}\n",
    "\n",
    "if USE_LORA:\n",
    "    # Ensure pad_token consistency\n",
    "    pad_token_id = eval_processor.tokenizer.pad_token_id\n",
    "    base_config = AutoConfig.from_pretrained(MODEL_ID, trust_remote_code=True)\n",
    "\n",
    "    config_to_modify = base_config.text_config if hasattr(base_config, 'text_config') else base_config\n",
    "    config_to_modify.pad_token_id = pad_token_id\n",
    "    config_to_modify.vocab_size = max(config_to_modify.vocab_size, pad_token_id + 1)\n",
    "\n",
    "    base_config.use_cache = True\n",
    "    if hasattr(base_config, \"attn_implementation\"):\n",
    "        base_config.attn_implementation = ATTN_IMPLEMENTATION\n",
    "\n",
    "    #if USE_QLORA:\n",
    "    #    load_kwargs[\"quantization_config\"] = BitsAndBytesConfig(load_in_4bit=True, bnb_4bit_compute_dtype=DTYPE)\n",
    "\n",
    "    base_model = Idefics3ForConditionalGeneration.from_pretrained(MODEL_ID, config=base_config, trust_remote_code=True, **load_kwargs)\n",
    "    eval_model = PeftModel.from_pretrained(base_model, FT_MODEL_LOAD_PATH)\n",
    "else:\n",
    "    eval_model = Idefics3ForConditionalGeneration.from_pretrained(FT_MODEL_LOAD_PATH, config=eval_config, trust_remote_code=True, **load_kwargs)\n",
    "\n",
    "# Prepare model for evaluation\n",
    "eval_model.eval()\n",
    "print(\"Fine-tuned model loaded successfully.\")"
   ]
  },
  {
   "cell_type": "code",
   "execution_count": 25,
   "metadata": {
    "colab": {
     "base_uri": "https://localhost:8080/"
    },
    "id": "c7JCuLGbrGyJ",
    "outputId": "ac689d4a-88c3-44d3-dff6-ae395bb61410"
   },
   "outputs": [
    {
     "name": "stdout",
     "output_type": "stream",
     "text": [
      "Base model loaded successfully.\n"
     ]
    }
   ],
   "source": [
    "# --- Load Base Model for Evaluation ---\n",
    "\n",
    "if eval_processor is None:\n",
    "    raise RuntimeError(\"Processor is not loaded; cannot load base model.\")\n",
    "\n",
    "base_model_config = AutoConfig.from_pretrained(MODEL_ID, trust_remote_code=True)\n",
    "base_model_config.use_cache = True\n",
    "\n",
    "if hasattr(base_model_config, \"attn_implementation\"):\n",
    "    base_model_config.attn_implementation = ATTN_IMPLEMENTATION\n",
    "\n",
    "base_load_kwargs = {\"device_map\": \"auto\", \"torch_dtype\": DTYPE}\n",
    "\n",
    "base_model_eval = Idefics3ForConditionalGeneration.from_pretrained(\n",
    "    MODEL_ID,\n",
    "    config=base_model_config,\n",
    "    trust_remote_code=True,\n",
    "    **base_load_kwargs\n",
    ")\n",
    "\n",
    "base_model_eval.eval()\n",
    "print(\"Base model loaded successfully.\")"
   ]
  },
  {
   "cell_type": "code",
   "execution_count": 26,
   "metadata": {
    "colab": {
     "base_uri": "https://localhost:8080/"
    },
    "id": "stWYNZe_fyQD",
    "outputId": "77143942-b534-4258-d85c-923ccb204106"
   },
   "outputs": [
    {
     "name": "stdout",
     "output_type": "stream",
     "text": [
      "\n",
      "Loading evaluation dataset 'HuggingFaceM4/ChartQA' split 'test'...\n",
      "Loaded 2500 samples for evaluation (full test set).\n"
     ]
    }
   ],
   "source": [
    "# --- Load Evaluation Dataset (ChartQA) ---\n",
    "chartqa_test_dataset = None\n",
    "if eval_processor:\n",
    "    try:\n",
    "        print(f\"\\nLoading evaluation dataset '{CHARTQA_DATASET_ID}' split '{EVAL_SPLIT}'...\")\n",
    "        chartqa_test_iterable = load_dataset(CHARTQA_DATASET_ID, split=EVAL_SPLIT, streaming=False)\n",
    "\n",
    "        if EVAL_LIMIT is not None and EVAL_LIMIT > 0:\n",
    "            chartqa_test_list = list(chartqa_test_iterable)\n",
    "            chartqa_test_dataset = chartqa_test_list[:EVAL_LIMIT]\n",
    "            print(f\"Loaded and limited to {len(chartqa_test_dataset)} samples for evaluation.\")\n",
    "        else:\n",
    "            chartqa_test_dataset = list(chartqa_test_iterable)\n",
    "            print(f\"Loaded {len(chartqa_test_dataset)} samples for evaluation (full {EVAL_SPLIT} set).\")\n",
    "\n",
    "        if chartqa_test_dataset:\n",
    "             if isinstance(chartqa_test_dataset[0], dict) and 'img_idx' not in chartqa_test_dataset[0]:\n",
    "                  chartqa_test_dataset = [dict(sample, img_idx=i) for i, sample in enumerate(chartqa_test_dataset)]\n",
    "        else:\n",
    "             print(\"Warning: ChartQA dataset is empty after loading/limiting.\")\n",
    "\n",
    "    except Exception as e_dataset:\n",
    "        print(f\"ERROR loading evaluation dataset: {e_dataset}\")\n",
    "        traceback.print_exc()\n",
    "        chartqa_test_dataset = None\n",
    "else:\n",
    "     print(\"Skipping dataset loading due to processor error.\")"
   ]
  },
  {
   "cell_type": "code",
   "execution_count": 27,
   "metadata": {
    "colab": {
     "base_uri": "https://localhost:8080/"
    },
    "id": "za0dmEKnf0TZ",
    "outputId": "f073e028-dcae-445e-d457-4af8c8382911"
   },
   "outputs": [
    {
     "name": "stdout",
     "output_type": "stream",
     "text": [
      "\n",
      "Evaluation Readiness:\n",
      "  - Processor Ready: True\n",
      "  - Fine-tuned Model Ready: True\n",
      "  - Base Model Ready: True\n",
      "  - Dataset Ready: True\n",
      "  - Can Evaluate Fine-tuned: True\n",
      "  - Can Evaluate Base: True\n",
      "Evaluation Device: cuda\n",
      "\n",
      "--- Evaluation Setup Complete ---\n"
     ]
    }
   ],
   "source": [
    "# Check Evaluation Readiness\n",
    "components = {\n",
    "    \"Processor\": eval_processor,\n",
    "    \"Fine-tuned Model\": eval_model,\n",
    "    \"Base Model\": base_model_eval,\n",
    "    \"Dataset\": chartqa_test_dataset if chartqa_test_dataset else None,\n",
    "}\n",
    "\n",
    "readiness = {name: comp is not None for name, comp in components.items()}\n",
    "readiness[\"Dataset\"] = readiness[\"Dataset\"] and len(chartqa_test_dataset) > 0\n",
    "\n",
    "can_evaluate_finetuned = all([readiness[\"Processor\"], readiness[\"Fine-tuned Model\"], readiness[\"Dataset\"]])\n",
    "can_evaluate_base = all([readiness[\"Processor\"], readiness[\"Base Model\"], readiness[\"Dataset\"]])\n",
    "\n",
    "print(\"\\nEvaluation Readiness:\")\n",
    "for name, ready in readiness.items():\n",
    "    print(f\"  - {name} Ready: {ready}\")\n",
    "\n",
    "print(f\"  - Can Evaluate Fine-tuned: {can_evaluate_finetuned}\")\n",
    "print(f\"  - Can Evaluate Base: {can_evaluate_base}\")\n",
    "print(f\"Evaluation Device: {DEVICE}\")\n",
    "\n",
    "# cleanup\n",
    "gc.collect()\n",
    "if torch.cuda.is_available():\n",
    "    torch.cuda.empty_cache()\n",
    "\n",
    "print(\"\\n--- Evaluation Setup Complete ---\")"
   ]
  },
  {
   "cell_type": "code",
   "execution_count": 28,
   "metadata": {
    "colab": {
     "base_uri": "https://localhost:8080/"
    },
    "id": "ursoAe7Yf314",
    "outputId": "cac021f1-97a0-4d32-add8-9917ca257569"
   },
   "outputs": [
    {
     "name": "stdout",
     "output_type": "stream",
     "text": [
      "\n",
      "--- Defining Evaluation Helper Functions ---\n",
      "Evaluation helper functions defined.\n"
     ]
    }
   ],
   "source": [
    "# Define Evaluation helper functions\n",
    "print(\"\\n--- Defining Evaluation Helper Functions ---\")\n",
    "\n",
    "# System message for evaluation prompting (provided by SmolVLM)\n",
    "EVAL_SYSTEM_MESSAGE = \"\"\"You are a Vision Language Model specialized in interpreting visual data from chart images.\n",
    "Your task is to analyze the provided chart image and respond to queries with concise answers, usually a single word, number, or short phrase.\n",
    "The charts include a variety of types (e.g., line charts, bar charts) and contain colors, labels, and text.\n",
    "Focus on delivering accurate, succinct answers based on the visual information. Avoid additional explanation unless absolutely necessary.\"\"\"\n",
    "\n",
    "EVAL_SYSTEM_MESSAGE = \"\"\"Have fun!\"\"\"\n",
    "\n",
    "def create_inference_chat_messages(sample):\n",
    "    \"\"\"Creates the chat message structure for inference using ChartQA's 'query' field.\"\"\"\n",
    "    question = sample.get(\"query\")\n",
    "    if not question:\n",
    "        return None\n",
    "    return [\n",
    "        {\"role\": \"system\", \"content\": [{\"type\": \"text\", \"text\": EVAL_SYSTEM_MESSAGE}]},\n",
    "        {\"role\": \"user\", \"content\": [{\"type\": \"image\"}, {\"type\": \"text\", \"text\": question}]},\n",
    "    ]\n",
    "\n",
    "\n",
    "print(\"Evaluation helper functions defined.\")"
   ]
  },
  {
   "cell_type": "code",
   "execution_count": 29,
   "metadata": {
    "colab": {
     "base_uri": "https://localhost:8080/",
     "height": 170,
     "referenced_widgets": [
      "4c5a6e95dd7148dc9f7bc527679507fa",
      "813631951f2f40acb899c8927cec9bb3",
      "72c90dd27f3c4ef9a8492fd3b430af7c",
      "79ffb8362da9449aad286e3eb833b05a",
      "e7d75c969a4f4901944f68bd508b904f",
      "e738c67125104bcb8818d2862f120190",
      "2f4b5d5d1127458881d2ef21715cec1f",
      "eed838704c95403d943d1f8959d79b55",
      "a76c3e7d3295473f90d7504e41986d68",
      "e3a914640f2c429fb46ce17f9b1b503b",
      "0d2396bf005146758bd55e63bfbae9e6"
     ]
    },
    "id": "uhz0ZKGdf6hX",
    "outputId": "52ecee04-490a-45a7-d997-3021e4979de0"
   },
   "outputs": [
    {
     "name": "stdout",
     "output_type": "stream",
     "text": [
      "\n",
      "--- Running Evaluation Generation & Saving ---\n",
      "Generating predictions for 2 model(s) on 2500 samples...\n"
     ]
    },
    {
     "data": {
      "application/vnd.jupyter.widget-view+json": {
       "model_id": "51f7a6a234cd44f9aeb0f2f9c898f156",
       "version_major": 2,
       "version_minor": 0
      },
      "text/plain": [
       "Generating Predictions:   0%|          | 0/2500 [00:00<?, ?it/s]"
      ]
     },
     "metadata": {},
     "output_type": "display_data"
    },
    {
     "name": "stdout",
     "output_type": "stream",
     "text": [
      "\n",
      "Evaluation results (raw predictions) saved to: /home/ricky732/CS7643_final_project/working_dir/smolvlm-500M-chartllama-sft-long-prompt-SmolVLM-500M-Instruct-qlora-tuned-paddingTrue/chartqa_evaluation_results_comparison.json\n",
      "\n",
      "--- Evaluation Generation & Saving Finished ---\n"
     ]
    }
   ],
   "source": [
    "# --- Generate Predictions and Save Results ---\n",
    "\n",
    "print(\"\\n--- Running Evaluation Generation & Saving ---\")\n",
    "\n",
    "# --- Define Concise Generation Function ---\n",
    "def generate_prediction_concise(model, processor, sample, max_tokens, max_len):\n",
    "    question, image = sample.get(\"query\"), sample.get(\"image\")\n",
    "    if not (question and isinstance(image, Image.Image)): return \"ERROR:Input\"\n",
    "    if image.mode != 'RGB':\n",
    "        try: image = image.convert('RGB')\n",
    "        except: return \"ERROR:Convert\"\n",
    "\n",
    "    messages = create_inference_chat_messages(sample)\n",
    "    if not messages: return \"ERROR:Messages\"\n",
    "\n",
    "    prediction = \"ERROR:Generate\"\n",
    "    inputs = None; generated_ids = None\n",
    "    try:\n",
    "        prompt = processor.apply_chat_template(messages, add_generation_prompt=True, tokenize=False)\n",
    "        device = next(iter(model.parameters()), torch.tensor([])).device\n",
    "        if device is None: device = torch.device(\"cuda\" if torch.cuda.is_available() else \"cpu\")\n",
    "\n",
    "        inputs = processor(text=[prompt], images=[image], return_tensors=\"pt\", padding=False, truncation=True, max_length=max_len).to(device)\n",
    "        generated_ids = model.generate(**inputs, max_new_tokens=max_tokens, do_sample=False,\n",
    "                                       pad_token_id=processor.tokenizer.pad_token_id,\n",
    "                                       eos_token_id=processor.tokenizer.eos_token_id)\n",
    "        gen_tokens = generated_ids[0, inputs[\"input_ids\"].shape[1]:]\n",
    "        prediction = processor.decode(gen_tokens, skip_special_tokens=True).strip() if gen_tokens.numel() > 0 else \"[NO_TOKENS]\"\n",
    "    except Exception as e:\n",
    "        prediction = f\"ERROR:{e.__class__.__name__}\"\n",
    "    finally:\n",
    "        del inputs, generated_ids\n",
    "    return prediction\n",
    "# --- End Generation Function ---\n",
    "\n",
    "# Determine models to evaluate\n",
    "models_to_eval = {}\n",
    "if 'can_evaluate_finetuned' in locals() and can_evaluate_finetuned and 'eval_model' in locals():\n",
    "    models_to_eval[\"finetuned\"] = eval_model\n",
    "if 'can_evaluate_base' in locals() and can_evaluate_base and 'base_model_eval' in locals():\n",
    "    models_to_eval[\"base\"] = base_model_eval\n",
    "\n",
    "results_list = []\n",
    "# Check dataset and models before looping\n",
    "if 'chartqa_test_dataset' in locals() and chartqa_test_dataset and models_to_eval:\n",
    "    print(f\"Generating predictions for {len(models_to_eval)} model(s) on {len(chartqa_test_dataset)} samples...\")\n",
    "    # --- Generate Predictions ---\n",
    "    for sample in tqdm(chartqa_test_dataset, desc=\"Generating Predictions\"):\n",
    "        entry = {\"id\": sample.get(\"img_idx\", \"N/A\"),\n",
    "                 \"question\": sample.get(\"query\"),\n",
    "                 \"ground_truth\": str(sample.get(\"label\"))} # Convert GT to string here\n",
    "\n",
    "        # Basic validation of core sample data needed for processing\n",
    "        if not all([entry[\"id\"] != \"N/A\", entry[\"question\"], entry[\"ground_truth\"] is not None, isinstance(sample.get(\"image\"), Image.Image)]):\n",
    "            print(f\"Warning: Skipping sample {entry['id']} due to missing/invalid core data.\")\n",
    "            continue # Skip this sample\n",
    "\n",
    "        # Generate for applicable models\n",
    "        for name, model_obj in models_to_eval.items():\n",
    "            entry[f\"predicted_answer_{name}\"] = generate_prediction_concise(model_obj, eval_processor, sample, MAX_NEW_TOKENS_EVAL, MAX_SEQ_LENGTH)\n",
    "        results_list.append(entry)\n",
    "    # --- End Prediction Loop ---\n",
    "\n",
    "    # --- Save results_df to JSON ---\n",
    "    if results_list:\n",
    "        results_df = pd.DataFrame(results_list)\n",
    "        if 'EVAL_OUTPUT_FILE' in locals() and EVAL_OUTPUT_FILE:\n",
    "            try:\n",
    "                os.makedirs(os.path.dirname(EVAL_OUTPUT_FILE), exist_ok=True)\n",
    "                results_df.to_json(EVAL_OUTPUT_FILE, orient=\"records\", indent=2)\n",
    "                print(f\"\\nEvaluation results (raw predictions) saved to: {EVAL_OUTPUT_FILE}\")\n",
    "            except Exception as e_save:\n",
    "                 print(f\"\\nERROR saving evaluation results to {EVAL_OUTPUT_FILE}: {e_save}\")\n",
    "        else:\n",
    "             print(\"\\nWarning: EVAL_OUTPUT_FILE not defined, results not saved.\")\n",
    "    else:\n",
    "        print(\"No valid evaluation results were generated to save.\")\n",
    "\n",
    "else:\n",
    "    print(\"Skipping evaluation generation: Dataset or models not ready.\")\n",
    "\n",
    "print(f\"\\n--- Evaluation Generation & Saving Finished ---\")"
   ]
  },
  {
   "cell_type": "code",
   "execution_count": 30,
   "metadata": {
    "colab": {
     "base_uri": "https://localhost:8080/",
     "height": 689
    },
    "id": "46FDeddBnzI-",
    "outputId": "46b07ada-3cf7-4503-fda0-615b6d57bece"
   },
   "outputs": [
    {
     "name": "stdout",
     "output_type": "stream",
     "text": [
      "--- Aggregating Evaluation Results ---\n",
      "Aggregated Results Preview:\n"
     ]
    },
    {
     "data": {
      "text/html": [
       "<div>\n",
       "<style scoped>\n",
       "    .dataframe tbody tr th:only-of-type {\n",
       "        vertical-align: middle;\n",
       "    }\n",
       "\n",
       "    .dataframe tbody tr th {\n",
       "        vertical-align: top;\n",
       "    }\n",
       "\n",
       "    .dataframe thead th {\n",
       "        text-align: right;\n",
       "    }\n",
       "</style>\n",
       "<table border=\"1\" class=\"dataframe\">\n",
       "  <thead>\n",
       "    <tr style=\"text-align: right;\">\n",
       "      <th></th>\n",
       "      <th>id</th>\n",
       "      <th>question</th>\n",
       "      <th>ground_truth</th>\n",
       "      <th>Pred_SmolVLM-500M-Instruct-qlora-tuned-paddingTrue</th>\n",
       "      <th>Pred_SmolVLM-500M-Instruct-qlora-tuned-Original</th>\n",
       "    </tr>\n",
       "  </thead>\n",
       "  <tbody>\n",
       "    <tr>\n",
       "      <th>0</th>\n",
       "      <td>0</td>\n",
       "      <td>How many food item is shown in the bar graph?</td>\n",
       "      <td>['14']</td>\n",
       "      <td>16</td>\n",
       "      <td>16</td>\n",
       "    </tr>\n",
       "    <tr>\n",
       "      <th>1</th>\n",
       "      <td>1</td>\n",
       "      <td>What is the difference in value between Lamb a...</td>\n",
       "      <td>['0.57']</td>\n",
       "      <td>103.7-103.13\\nAnswer: 0.50</td>\n",
       "      <td>103.7 - 103.13 \\nAnswer: 0.5.</td>\n",
       "    </tr>\n",
       "    <tr>\n",
       "      <th>2</th>\n",
       "      <td>2</td>\n",
       "      <td>How many bars are shown in the chart?</td>\n",
       "      <td>['3']</td>\n",
       "      <td>4</td>\n",
       "      <td>3</td>\n",
       "    </tr>\n",
       "    <tr>\n",
       "      <th>3</th>\n",
       "      <td>3</td>\n",
       "      <td>Is the sum value of Madagascar more then Fiji?</td>\n",
       "      <td>['No']</td>\n",
       "      <td>Yes.</td>\n",
       "      <td>Yes.</td>\n",
       "    </tr>\n",
       "    <tr>\n",
       "      <th>4</th>\n",
       "      <td>4</td>\n",
       "      <td>What's the value of the lowest bar?</td>\n",
       "      <td>['23']</td>\n",
       "      <td>The Japanese public is divided over whether Ja...</td>\n",
       "      <td>In a new survey, 68% of Japanese say Japan sho...</td>\n",
       "    </tr>\n",
       "  </tbody>\n",
       "</table>\n",
       "</div>"
      ],
      "text/plain": [
       "   id                                           question ground_truth  \\\n",
       "0   0      How many food item is shown in the bar graph?       ['14']   \n",
       "1   1  What is the difference in value between Lamb a...     ['0.57']   \n",
       "2   2              How many bars are shown in the chart?        ['3']   \n",
       "3   3     Is the sum value of Madagascar more then Fiji?       ['No']   \n",
       "4   4                What's the value of the lowest bar?       ['23']   \n",
       "\n",
       "  Pred_SmolVLM-500M-Instruct-qlora-tuned-paddingTrue  \\\n",
       "0                                                 16   \n",
       "1                         103.7-103.13\\nAnswer: 0.50   \n",
       "2                                                  4   \n",
       "3                                               Yes.   \n",
       "4  The Japanese public is divided over whether Ja...   \n",
       "\n",
       "     Pred_SmolVLM-500M-Instruct-qlora-tuned-Original  \n",
       "0                                                 16  \n",
       "1                      103.7 - 103.13 \\nAnswer: 0.5.  \n",
       "2                                                  3  \n",
       "3                                               Yes.  \n",
       "4  In a new survey, 68% of Japanese say Japan sho...  "
      ]
     },
     "metadata": {},
     "output_type": "display_data"
    },
    {
     "name": "stdout",
     "output_type": "stream",
     "text": [
      "Aggregated results saved to /home/ricky732/CS7643_final_project/working_dir/smolvlm-500M-chartllama-sft-long-prompt-ALL_RUNS_COMPARISON_WITH_BASE.csv\n"
     ]
    }
   ],
   "source": [
    "### Final results compilation\n",
    "print(\"--- Aggregating Evaluation Results ---\")\n",
    "\n",
    "BASE_OUTPUT_DIR = Path(WORKING_DIR)\n",
    "OUTPUT_FOLDER_PREFIX = OUTPUT_DIR_BASE_NAME\n",
    "EVAL_FILENAME = \"chartqa_evaluation_results_comparison.json\"\n",
    "\n",
    "search_pattern = f\"{OUTPUT_FOLDER_PREFIX}*/{EVAL_FILENAME}\"\n",
    "result_files = list(BASE_OUTPUT_DIR.glob(search_pattern))\n",
    "\n",
    "# if not result_files:\n",
    "#     raise FileNotFoundError(\"No evaluation result files found.\")\n",
    "\n",
    "aggregated_dfs = []\n",
    "base_models_added = set()\n",
    "\n",
    "for file_path in result_files:\n",
    "    run_label = file_path.parent.name.replace(f\"{OUTPUT_FOLDER_PREFIX}-\", \"\")\n",
    "    parts = run_label.split('-')\n",
    "    base_model_name = '-'.join(parts[:-1]) if len(parts) >= 2 else \"UnknownBase\"\n",
    "    base_label = f\"{base_model_name}-Original\"\n",
    "\n",
    "    df = pd.read_json(file_path)\n",
    "\n",
    "    columns = ['id', 'question', 'ground_truth'] if not aggregated_dfs else ['id']\n",
    "    rename_dict = {}\n",
    "\n",
    "    if 'predicted_answer_finetuned' in df:\n",
    "        columns.append('predicted_answer_finetuned')\n",
    "        rename_dict['predicted_answer_finetuned'] = f\"Pred_{run_label}\"\n",
    "\n",
    "    if base_model_name not in base_models_added and 'predicted_answer_base' in df:\n",
    "        columns.append('predicted_answer_base')\n",
    "        rename_dict['predicted_answer_base'] = f\"Pred_{base_label}\"\n",
    "        base_models_added.add(base_model_name)\n",
    "\n",
    "    df_subset = df[columns].rename(columns=rename_dict)\n",
    "    aggregated_dfs.append(df_subset)\n",
    "\n",
    "if aggregated_dfs:\n",
    "    final_comparison_df = reduce(lambda left, right: pd.merge(left, right, on='id', how='outer'), aggregated_dfs)\n",
    "    final_comparison_df.ffill(inplace=True)\n",
    "    final_comparison_df.bfill(inplace=True)\n",
    "else:\n",
    "    print(\"⚠️ No evaluation results found to aggregate.\")\n",
    "    final_comparison_df = pd.DataFrame()\n",
    "\n",
    "\n",
    "print(\"Aggregated Results Preview:\")\n",
    "display(final_comparison_df.head())\n",
    "\n",
    "output_file = BASE_OUTPUT_DIR / f\"{OUTPUT_FOLDER_PREFIX}-ALL_RUNS_COMPARISON_WITH_BASE.csv\"\n",
    "final_comparison_df.to_csv(output_file, index=False)\n",
    "\n",
    "print(f\"Aggregated results saved to {output_file}\")"
   ]
  },
  {
   "cell_type": "code",
   "execution_count": 31,
   "metadata": {
    "colab": {
     "base_uri": "https://localhost:8080/",
     "height": 1000
    },
    "id": "5OolIvYVfkEY",
    "outputId": "3c5525ff-5aaa-444a-b073-460e24f4b0e5"
   },
   "outputs": [
    {
     "name": "stdout",
     "output_type": "stream",
     "text": [
      "SmolVLM-500M-Instruct-qlora-tuned-paddingTrue EM= 41.11%  Relaxed= 50.36%  (1392 num / 1406 valid)\n",
      "SmolVLM-500M-Instruct-qlora-tuned-Original EM= 35.74%  Relaxed= 44.15%  (1008 num / 1013 valid)\n"
     ]
    },
    {
     "data": {
      "text/html": [
       "<div>\n",
       "<style scoped>\n",
       "    .dataframe tbody tr th:only-of-type {\n",
       "        vertical-align: middle;\n",
       "    }\n",
       "\n",
       "    .dataframe tbody tr th {\n",
       "        vertical-align: top;\n",
       "    }\n",
       "\n",
       "    .dataframe thead th {\n",
       "        text-align: right;\n",
       "    }\n",
       "</style>\n",
       "<table border=\"1\" class=\"dataframe\">\n",
       "  <thead>\n",
       "    <tr style=\"text-align: right;\">\n",
       "      <th></th>\n",
       "      <th>EM (%)</th>\n",
       "      <th>Relaxed Num (%)</th>\n",
       "      <th># Numeric</th>\n",
       "      <th># Valid</th>\n",
       "    </tr>\n",
       "  </thead>\n",
       "  <tbody>\n",
       "    <tr>\n",
       "      <th>SmolVLM-500M-Instruct-qlora-tuned-paddingTrue</th>\n",
       "      <td>41.11</td>\n",
       "      <td>50.36</td>\n",
       "      <td>1392.0</td>\n",
       "      <td>1406.0</td>\n",
       "    </tr>\n",
       "    <tr>\n",
       "      <th>SmolVLM-500M-Instruct-qlora-tuned-Original</th>\n",
       "      <td>35.74</td>\n",
       "      <td>44.15</td>\n",
       "      <td>1008.0</td>\n",
       "      <td>1013.0</td>\n",
       "    </tr>\n",
       "  </tbody>\n",
       "</table>\n",
       "</div>"
      ],
      "text/plain": [
       "                                               EM (%)  Relaxed Num (%)  \\\n",
       "SmolVLM-500M-Instruct-qlora-tuned-paddingTrue   41.11            50.36   \n",
       "SmolVLM-500M-Instruct-qlora-tuned-Original      35.74            44.15   \n",
       "\n",
       "                                               # Numeric  # Valid  \n",
       "SmolVLM-500M-Instruct-qlora-tuned-paddingTrue     1392.0   1406.0  \n",
       "SmolVLM-500M-Instruct-qlora-tuned-Original        1008.0   1013.0  "
      ]
     },
     "metadata": {},
     "output_type": "display_data"
    },
    {
     "data": {
      "text/html": [
       "<div>\n",
       "<style scoped>\n",
       "    .dataframe tbody tr th:only-of-type {\n",
       "        vertical-align: middle;\n",
       "    }\n",
       "\n",
       "    .dataframe tbody tr th {\n",
       "        vertical-align: top;\n",
       "    }\n",
       "\n",
       "    .dataframe thead th {\n",
       "        text-align: right;\n",
       "    }\n",
       "</style>\n",
       "<table border=\"1\" class=\"dataframe\">\n",
       "  <thead>\n",
       "    <tr style=\"text-align: right;\">\n",
       "      <th></th>\n",
       "      <th>id</th>\n",
       "      <th>question</th>\n",
       "      <th>ground_truth</th>\n",
       "      <th>Pred_SmolVLM-500M-Instruct-qlora-tuned-paddingTrue</th>\n",
       "      <th>Pred_SmolVLM-500M-Instruct-qlora-tuned-Original</th>\n",
       "      <th>GT_proc</th>\n",
       "      <th>Pred_SmolVLM-500M-Instruct-qlora-tuned-paddingTrue_proc</th>\n",
       "      <th>Pred_SmolVLM-500M-Instruct-qlora-tuned-Original_proc</th>\n",
       "    </tr>\n",
       "  </thead>\n",
       "  <tbody>\n",
       "    <tr>\n",
       "      <th>0</th>\n",
       "      <td>0</td>\n",
       "      <td>How many food item is shown in the bar graph?</td>\n",
       "      <td>['14']</td>\n",
       "      <td>16</td>\n",
       "      <td>16</td>\n",
       "      <td>14.0</td>\n",
       "      <td>16.0</td>\n",
       "      <td>16.0</td>\n",
       "    </tr>\n",
       "    <tr>\n",
       "      <th>1</th>\n",
       "      <td>1</td>\n",
       "      <td>What is the difference in value between Lamb a...</td>\n",
       "      <td>['0.57']</td>\n",
       "      <td>103.7-103.13\\nAnswer: 0.50</td>\n",
       "      <td>103.7 - 103.13 \\nAnswer: 0.5.</td>\n",
       "      <td>0.57</td>\n",
       "      <td>None</td>\n",
       "      <td>NaN</td>\n",
       "    </tr>\n",
       "    <tr>\n",
       "      <th>2</th>\n",
       "      <td>2</td>\n",
       "      <td>How many bars are shown in the chart?</td>\n",
       "      <td>['3']</td>\n",
       "      <td>4</td>\n",
       "      <td>3</td>\n",
       "      <td>3.0</td>\n",
       "      <td>4.0</td>\n",
       "      <td>3.0</td>\n",
       "    </tr>\n",
       "    <tr>\n",
       "      <th>3</th>\n",
       "      <td>3</td>\n",
       "      <td>Is the sum value of Madagascar more then Fiji?</td>\n",
       "      <td>['No']</td>\n",
       "      <td>Yes.</td>\n",
       "      <td>Yes.</td>\n",
       "      <td>no</td>\n",
       "      <td>None</td>\n",
       "      <td>NaN</td>\n",
       "    </tr>\n",
       "    <tr>\n",
       "      <th>4</th>\n",
       "      <td>4</td>\n",
       "      <td>What's the value of the lowest bar?</td>\n",
       "      <td>['23']</td>\n",
       "      <td>The Japanese public is divided over whether Ja...</td>\n",
       "      <td>In a new survey, 68% of Japanese say Japan sho...</td>\n",
       "      <td>23.0</td>\n",
       "      <td>None</td>\n",
       "      <td>NaN</td>\n",
       "    </tr>\n",
       "  </tbody>\n",
       "</table>\n",
       "</div>"
      ],
      "text/plain": [
       "   id                                           question ground_truth  \\\n",
       "0   0      How many food item is shown in the bar graph?       ['14']   \n",
       "1   1  What is the difference in value between Lamb a...     ['0.57']   \n",
       "2   2              How many bars are shown in the chart?        ['3']   \n",
       "3   3     Is the sum value of Madagascar more then Fiji?       ['No']   \n",
       "4   4                What's the value of the lowest bar?       ['23']   \n",
       "\n",
       "  Pred_SmolVLM-500M-Instruct-qlora-tuned-paddingTrue  \\\n",
       "0                                                 16   \n",
       "1                         103.7-103.13\\nAnswer: 0.50   \n",
       "2                                                  4   \n",
       "3                                               Yes.   \n",
       "4  The Japanese public is divided over whether Ja...   \n",
       "\n",
       "     Pred_SmolVLM-500M-Instruct-qlora-tuned-Original GT_proc  \\\n",
       "0                                                 16    14.0   \n",
       "1                      103.7 - 103.13 \\nAnswer: 0.5.    0.57   \n",
       "2                                                  3     3.0   \n",
       "3                                               Yes.      no   \n",
       "4  In a new survey, 68% of Japanese say Japan sho...    23.0   \n",
       "\n",
       "  Pred_SmolVLM-500M-Instruct-qlora-tuned-paddingTrue_proc  \\\n",
       "0                                               16.0        \n",
       "1                                               None        \n",
       "2                                                4.0        \n",
       "3                                               None        \n",
       "4                                               None        \n",
       "\n",
       "   Pred_SmolVLM-500M-Instruct-qlora-tuned-Original_proc  \n",
       "0                                               16.0     \n",
       "1                                                NaN     \n",
       "2                                                3.0     \n",
       "3                                                NaN     \n",
       "4                                                NaN     "
      ]
     },
     "metadata": {},
     "output_type": "display_data"
    },
    {
     "name": "stdout",
     "output_type": "stream",
     "text": [
      "💾  Saved: /home/ricky732/CS7643_final_project/working_dir/smolvlm-500M-chartllama-sft-long-prompt-ALL_RUNS_COMPARISON_WITH_PROCESSED.csv\n"
     ]
    }
   ],
   "source": [
    "# --- Advanced accuracy metrics -------------------------------\n",
    "\n",
    "YES, NO      = {\"yes\",\"y\",\"true\",\"correct\"}, {\"no\",\"n\",\"false\",\"incorrect\"}\n",
    "TOL, EPS     = 0.05, 1e-9                  # ±5 %, tiny tolerance for 0\n",
    "PRED_PREFIX  = \"Pred_\"                     # rename if your columns differ\n",
    "\n",
    "# 2.  Helpers -------------------------------------------------------------------\n",
    "def to_scalar(v):\n",
    "    \"\"\"Clean & convert value → float | 'yes' | 'no' | None.\"\"\"\n",
    "    if pd.isna(v): return None\n",
    "    s = str(v).strip()\n",
    "    m = re.fullmatch(r\"\\[['\\\"]?(.*?)['\\\"]?\\]\", s)\n",
    "    if m: s = m.group(1)\n",
    "    s = s.lower().replace(\",\",\"\").replace(\"$\",\"\").replace(\"%\",\"\").strip()\n",
    "    if s in YES: return \"yes\"\n",
    "    if s in NO:  return \"no\"\n",
    "    for fn in (float, w2n.word_to_num):\n",
    "        try: return float(fn(s))\n",
    "        except Exception: pass\n",
    "    return None\n",
    "\n",
    "def relaxed(gt, pred):\n",
    "    return abs(gt - pred) <= (abs(gt) * TOL or EPS)\n",
    "\n",
    "# 3.  Basic checks --------------------------------------------------------------\n",
    "if not isinstance(globals().get(\"final_comparison_df\"), pd.DataFrame):\n",
    "    sys.exit(\"  `final_comparison_df` is missing.\")\n",
    "\n",
    "df = final_comparison_df.copy()\n",
    "df[\"GT_proc\"] = df[\"ground_truth\"].map(to_scalar)\n",
    "\n",
    "keep = df[\"GT_proc\"].isin([\"yes\",\"no\"]) | df[\"GT_proc\"].apply(lambda x: isinstance(x,(int,float)))\n",
    "df_filt = df[keep]\n",
    "if df_filt.empty:\n",
    "    sys.exit(\"  No yes/no/numeric ground‑truth rows after processing.\")\n",
    "\n",
    "# Metrics per run -----------------------------------------------------------\n",
    "results = {}\n",
    "for col in [c for c in df.columns if c.startswith(PRED_PREFIX)]:\n",
    "    proc = f\"{col}_proc\"\n",
    "    df[proc] = df[col].map(to_scalar)\n",
    "\n",
    "    valid   = df[[\"GT_proc\", proc]].dropna()\n",
    "    numeric = valid[valid[\"GT_proc\"].apply(lambda x:isinstance(x,(int,float))) &\n",
    "                    valid[proc].apply(lambda x:isinstance(x,(int,float)))]\n",
    "\n",
    "    em  = 100 * (valid[\"GT_proc\"] == valid[proc]).mean() if not valid.empty else 0\n",
    "    rel = 100 * numeric.apply(lambda r: relaxed(r[\"GT_proc\"], r[proc]), axis=1).mean() if not numeric.empty else 0\n",
    "\n",
    "    run = col.replace(PRED_PREFIX, \"\")\n",
    "    results[run] = {\"EM (%)\": round(em,2),\n",
    "                    \"Relaxed Num (%)\": round(rel,2),\n",
    "                    \"# Numeric\": len(numeric),\n",
    "                    \"# Valid\": len(valid)}\n",
    "\n",
    "    print(f\"{run:<15} EM={em:6.2f}%  Relaxed={rel:6.2f}%  ({len(numeric)} num / {len(valid)} valid)\")\n",
    "\n",
    "# Summary & preview ---------------------------------------------------------\n",
    "summary = pd.DataFrame(results).T.sort_values(\"EM (%)\", ascending=False)\n",
    "display(summary)\n",
    "display(df.head())\n",
    "\n",
    "# Save to CSV ---------------------------------------------------------------\n",
    "BASE_OUTPUT_DIR = Path(globals().get(\"BASE_OUTPUT_DIR\", \"./outputs\"))\n",
    "BASE_OUTPUT_DIR.mkdir(parents=True, exist_ok=True)\n",
    "prefix = globals().get(\"OUTPUT_FOLDER_PREFIX\", \"RUNS\")\n",
    "out_file = BASE_OUTPUT_DIR / f\"{prefix}-ALL_RUNS_COMPARISON_WITH_PROCESSED.csv\"\n",
    "df.to_csv(out_file, index=False)\n",
    "print(\"💾  Saved:\", out_file)\n"
   ]
  },
  {
   "cell_type": "code",
   "execution_count": 32,
   "metadata": {
    "colab": {
     "base_uri": "https://localhost:8080/",
     "height": 508
    },
    "id": "Xh3ES_Khp-UA",
    "outputId": "97ad80b4-3418-4f75-fa0d-7ad45578e1ff"
   },
   "outputs": [
    {
     "name": "stdout",
     "output_type": "stream",
     "text": [
      "--- Aggregating and Plotting Loss Curves ---\n"
     ]
    },
    {
     "data": {
      "image/png": "[encoded data removed]",
      "text/plain": [
       "<Figure size 2400x300 with 6 Axes>"
      ]
     },
     "metadata": {},
     "output_type": "display_data"
    },
    {
     "name": "stdout",
     "output_type": "stream",
     "text": [
      "Aggregated plot saved to /home/ricky732/CS7643_final_project/working_dir/smolvlm-500M-chartllama-sft-long-prompt_aggregated_loss_curves.png\n"
     ]
    }
   ],
   "source": [
    "# aggregate and plot loss curves\n",
    "\n",
    "print(\"--- Aggregating and Plotting Loss Curves ---\")\n",
    "\n",
    "BASE_OUTPUT_DIR = Path(WORKING_DIR)\n",
    "OUTPUT_FOLDER_PREFIX = OUTPUT_DIR_BASE_NAME\n",
    "STATE_FILENAME = \"trainer_state.json\"\n",
    "\n",
    "search_pattern = f\"{OUTPUT_FOLDER_PREFIX}*/{STATE_FILENAME}\"\n",
    "state_files = list(BASE_OUTPUT_DIR.glob(search_pattern))\n",
    "\n",
    "if not state_files:\n",
    "    raise FileNotFoundError(\"No trainer state files found.\")\n",
    "\n",
    "run_data = []\n",
    "max_loss = 0\n",
    "\n",
    "for file_path in state_files:\n",
    "    run_label = file_path.parent.name.replace(f\"{OUTPUT_FOLDER_PREFIX}-\", \"\")\n",
    "\n",
    "    if run_label.endswith(\"-full-tuned\"):\n",
    "        method = \"Full\"\n",
    "    elif run_label.endswith(\"-lora-tuned\"):\n",
    "        method = \"LoRA\"\n",
    "    elif run_label.endswith(\"-qlora-tuned\"):\n",
    "        method = \"QLoRA\"\n",
    "    else:\n",
    "        method = \"LoRA\"\n",
    "\n",
    "    run_label = run_label.replace(\"-full-tuned\", \"\").replace(\"-lora-tuned\", \"\").replace(\"-qlora-tuned\", \"\")\n",
    "\n",
    "    with open(file_path, 'r') as f:\n",
    "        log_history = json.load(f).get(\"log_history\", [])\n",
    "\n",
    "    df = pd.DataFrame(log_history)\n",
    "    train_df = df[df['loss'].notna() & df['step'].notna()]\n",
    "    val_df = df[df['eval_loss'].notna() & df['step'].notna()]\n",
    "\n",
    "    if not train_df.empty:\n",
    "        max_loss = max(max_loss, train_df['loss'].max())\n",
    "    if not val_df.empty:\n",
    "        max_loss = max(max_loss, val_df['eval_loss'].max())\n",
    "\n",
    "    run_data.append((run_label, train_df, val_df, method))\n",
    "\n",
    "run_data.sort(key=lambda x: x[0])\n",
    "\n",
    "ncols = 6\n",
    "nrows = math.ceil(len(run_data) / ncols)\n",
    "fig, axes = plt.subplots(nrows, ncols, figsize=(ncols * 4, nrows * 3), sharey=True, squeeze=False)\n",
    "\n",
    "for ax, (label, train_df, val_df, method) in zip(axes.flatten(), run_data):\n",
    "    if not train_df.empty:\n",
    "        ax.plot(train_df['step'], train_df['loss'], label='Train', linestyle='-', marker='o')\n",
    "    if not val_df.empty:\n",
    "        ax.plot(val_df['step'], val_df['eval_loss'], label='Val', linestyle='--', marker='s')\n",
    "\n",
    "    ax.set_title(f\"{label}\\n({method})\", fontsize=9)\n",
    "    ax.legend(fontsize=7)\n",
    "    ax.grid(True, linestyle=':', alpha=0.7)\n",
    "\n",
    "for ax in axes.flatten()[len(run_data):]:\n",
    "    ax.axis('off')\n",
    "\n",
    "fig.suptitle(\"Training & Validation Losses Across Runs\", fontsize=14)\n",
    "fig.supxlabel(\"Training Steps\", fontsize=11)\n",
    "fig.supylabel(\"Loss\", fontsize=11)\n",
    "fig.tight_layout(rect=[0.02, 0.02, 1, 0.96])\n",
    "\n",
    "plot_path = BASE_OUTPUT_DIR / f\"{OUTPUT_FOLDER_PREFIX}_aggregated_loss_curves.png\"\n",
    "fig.savefig(plot_path, dpi=300)\n",
    "plt.show()\n",
    "\n",
    "print(f\"Aggregated plot saved to {plot_path}\")"
   ]
  },
  {
   "cell_type": "code",
   "execution_count": 33,
   "metadata": {
    "colab": {
     "base_uri": "https://localhost:8080/"
    },
    "id": "y4tglAgHhDYK",
    "outputId": "4772fc2c-975e-4059-9dbe-d582fa334ad1"
   },
   "outputs": [
    {
     "name": "stdout",
     "output_type": "stream",
     "text": [
      "Using Tokenizer: <class 'transformers.models.gpt2.tokenization_gpt2_fast.GPT2TokenizerFast'>\n",
      "  pad_token: '<|im_end|>'\n",
      "  pad_token_id: 2\n",
      "  eos_token: '<end_of_utterance>'\n",
      "  eos_token_id: 49279\n"
     ]
    }
   ],
   "source": [
    "# After loading processor = AutoProcessor.from_pretrained(...)\n",
    "# And after the if block checking for None pad_token_id\n",
    "\n",
    "print(f\"Using Tokenizer: {type(processor.tokenizer)}\")\n",
    "print(f\"  pad_token: '{processor.tokenizer.pad_token}'\")\n",
    "print(f\"  pad_token_id: {processor.tokenizer.pad_token_id}\")\n",
    "print(f\"  eos_token: '{processor.tokenizer.eos_token}'\")\n",
    "print(f\"  eos_token_id: {processor.tokenizer.eos_token_id}\")\n",
    "# Optional: Check if processor itself has pad_token attribute\n",
    "if hasattr(processor, 'pad_token'):\n",
    "    print(f\"  Processor object pad_token attribute: '{processor.pad_token}'\")"
   ]
  },
  {
   "cell_type": "code",
   "execution_count": null,
   "metadata": {},
   "outputs": [],
   "source": []
  },
  {
   "cell_type": "code",
   "execution_count": null,
   "metadata": {},
   "outputs": [],
   "source": []
  },
  {
   "cell_type": "code",
   "execution_count": null,
   "metadata": {},
   "outputs": [],
   "source": []
  }
 ],
 "metadata": {
  "accelerator": "GPU",
  "colab": {
   "gpuType": "A100",
   "machine_shape": "hm",
   "provenance": []
  },
  "kernelspec": {
   "display_name": "Python 3 (ipykernel)",
   "language": "python",
   "name": "python3"
  },
  "language_info": {
   "codemirror_mode": {
    "name": "ipython",
    "version": 3
   },
   "file_extension": ".py",
   "mimetype": "text/x-python",
   "name": "python",
   "nbconvert_exporter": "python",
   "pygments_lexer": "ipython3",
   "version": "3.10.15"
  },
  "widgets": {
   "application/vnd.jupyter.widget-state+json": {
    "033846748696417bb4fb61f93505c93e": {
     "model_module": "@jupyter-widgets/controls",
     "model_module_version": "1.5.0",
     "model_name": "ProgressStyleModel",
     "state": {
      "_model_module": "@jupyter-widgets/controls",
      "_model_module_version": "1.5.0",
      "_model_name": "ProgressStyleModel",
      "_view_count": null,
      "_view_module": "@jupyter-widgets/base",
      "_view_module_version": "1.2.0",
      "_view_name": "StyleView",
      "bar_color": null,
      "description_width": ""
     }
    },
    "0d2396bf005146758bd55e63bfbae9e6": {
     "model_module": "@jupyter-widgets/controls",
     "model_module_version": "1.5.0",
     "model_name": "DescriptionStyleModel",
     "state": {
      "_model_module": "@jupyter-widgets/controls",
      "_model_module_version": "1.5.0",
      "_model_name": "DescriptionStyleModel",
      "_view_count": null,
      "_view_module": "@jupyter-widgets/base",
      "_view_module_version": "1.2.0",
      "_view_name": "StyleView",
      "description_width": ""
     }
    },
    "112a279018b342fea4829d34e0edbdd6": {
     "model_module": "@jupyter-widgets/controls",
     "model_module_version": "1.5.0",
     "model_name": "HTMLModel",
     "state": {
      "_dom_classes": [],
      "_model_module": "@jupyter-widgets/controls",
      "_model_module_version": "1.5.0",
      "_model_name": "HTMLModel",
      "_view_count": null,
      "_view_module": "@jupyter-widgets/controls",
      "_view_module_version": "1.5.0",
      "_view_name": "HTMLView",
      "description": "",
      "description_tooltip": null,
      "layout": "IPY_MODEL_d9fd9b306db94295a4a2c78cc9fa33a3",
      "placeholder": "​",
      "style": "IPY_MODEL_f4a13bca67db4ab5acc128da99f02935",
      "value": " 7/7 [00:00&lt;00:00,  7.21it/s]"
     }
    },
    "19871de1c8cf474d963b534dd9a1438f": {
     "model_module": "@jupyter-widgets/base",
     "model_module_version": "1.2.0",
     "model_name": "LayoutModel",
     "state": {
      "_model_module": "@jupyter-widgets/base",
      "_model_module_version": "1.2.0",
      "_model_name": "LayoutModel",
      "_view_count": null,
      "_view_module": "@jupyter-widgets/base",
      "_view_module_version": "1.2.0",
      "_view_name": "LayoutView",
      "align_content": null,
      "align_items": null,
      "align_self": null,
      "border": null,
      "bottom": null,
      "display": null,
      "flex": null,
      "flex_flow": null,
      "grid_area": null,
      "grid_auto_columns": null,
      "grid_auto_flow": null,
      "grid_auto_rows": null,
      "grid_column": null,
      "grid_gap": null,
      "grid_row": null,
      "grid_template_areas": null,
      "grid_template_columns": null,
      "grid_template_rows": null,
      "height": null,
      "justify_content": null,
      "justify_items": null,
      "left": null,
      "margin": null,
      "max_height": null,
      "max_width": null,
      "min_height": null,
      "min_width": null,
      "object_fit": null,
      "object_position": null,
      "order": null,
      "overflow": null,
      "overflow_x": null,
      "overflow_y": null,
      "padding": null,
      "right": null,
      "top": null,
      "visibility": null,
      "width": null
     }
    },
    "278aa53e5ef9415fae21bdf41b770afd": {
     "model_module": "@jupyter-widgets/controls",
     "model_module_version": "1.5.0",
     "model_name": "DescriptionStyleModel",
     "state": {
      "_model_module": "@jupyter-widgets/controls",
      "_model_module_version": "1.5.0",
      "_model_name": "DescriptionStyleModel",
      "_view_count": null,
      "_view_module": "@jupyter-widgets/base",
      "_view_module_version": "1.2.0",
      "_view_name": "StyleView",
      "description_width": ""
     }
    },
    "2f4b5d5d1127458881d2ef21715cec1f": {
     "model_module": "@jupyter-widgets/controls",
     "model_module_version": "1.5.0",
     "model_name": "DescriptionStyleModel",
     "state": {
      "_model_module": "@jupyter-widgets/controls",
      "_model_module_version": "1.5.0",
      "_model_name": "DescriptionStyleModel",
      "_view_count": null,
      "_view_module": "@jupyter-widgets/base",
      "_view_module_version": "1.2.0",
      "_view_name": "StyleView",
      "description_width": ""
     }
    },
    "4c5a6e95dd7148dc9f7bc527679507fa": {
     "model_module": "@jupyter-widgets/controls",
     "model_module_version": "1.5.0",
     "model_name": "HBoxModel",
     "state": {
      "_dom_classes": [],
      "_model_module": "@jupyter-widgets/controls",
      "_model_module_version": "1.5.0",
      "_model_name": "HBoxModel",
      "_view_count": null,
      "_view_module": "@jupyter-widgets/controls",
      "_view_module_version": "1.5.0",
      "_view_name": "HBoxView",
      "box_style": "",
      "children": [
       "IPY_MODEL_813631951f2f40acb899c8927cec9bb3",
       "IPY_MODEL_72c90dd27f3c4ef9a8492fd3b430af7c",
       "IPY_MODEL_79ffb8362da9449aad286e3eb833b05a"
      ],
      "layout": "IPY_MODEL_e7d75c969a4f4901944f68bd508b904f"
     }
    },
    "6152581c7d4746ceb6d61bc71e015c01": {
     "model_module": "@jupyter-widgets/controls",
     "model_module_version": "1.5.0",
     "model_name": "HTMLModel",
     "state": {
      "_dom_classes": [],
      "_model_module": "@jupyter-widgets/controls",
      "_model_module_version": "1.5.0",
      "_model_name": "HTMLModel",
      "_view_count": null,
      "_view_module": "@jupyter-widgets/controls",
      "_view_module_version": "1.5.0",
      "_view_name": "HTMLView",
      "description": "",
      "description_tooltip": null,
      "layout": "IPY_MODEL_b34c44835f0b401eb94e32f66d44adfc",
      "placeholder": "​",
      "style": "IPY_MODEL_278aa53e5ef9415fae21bdf41b770afd",
      "value": "Processing JSON files: 100%"
     }
    },
    "625bae4a365b435c91aa623b42e7754c": {
     "model_module": "@jupyter-widgets/controls",
     "model_module_version": "1.5.0",
     "model_name": "HBoxModel",
     "state": {
      "_dom_classes": [],
      "_model_module": "@jupyter-widgets/controls",
      "_model_module_version": "1.5.0",
      "_model_name": "HBoxModel",
      "_view_count": null,
      "_view_module": "@jupyter-widgets/controls",
      "_view_module_version": "1.5.0",
      "_view_name": "HBoxView",
      "box_style": "",
      "children": [
       "IPY_MODEL_6152581c7d4746ceb6d61bc71e015c01",
       "IPY_MODEL_a9db73bd09d44ed3ae5934b6ce58de5b",
       "IPY_MODEL_112a279018b342fea4829d34e0edbdd6"
      ],
      "layout": "IPY_MODEL_e2869fd0d0944565aae8e8932ef5004c"
     }
    },
    "72c90dd27f3c4ef9a8492fd3b430af7c": {
     "model_module": "@jupyter-widgets/controls",
     "model_module_version": "1.5.0",
     "model_name": "FloatProgressModel",
     "state": {
      "_dom_classes": [],
      "_model_module": "@jupyter-widgets/controls",
      "_model_module_version": "1.5.0",
      "_model_name": "FloatProgressModel",
      "_view_count": null,
      "_view_module": "@jupyter-widgets/controls",
      "_view_module_version": "1.5.0",
      "_view_name": "ProgressView",
      "bar_style": "success",
      "description": "",
      "description_tooltip": null,
      "layout": "IPY_MODEL_eed838704c95403d943d1f8959d79b55",
      "max": 100,
      "min": 0,
      "orientation": "horizontal",
      "style": "IPY_MODEL_a76c3e7d3295473f90d7504e41986d68",
      "value": 100
     }
    },
    "79ffb8362da9449aad286e3eb833b05a": {
     "model_module": "@jupyter-widgets/controls",
     "model_module_version": "1.5.0",
     "model_name": "HTMLModel",
     "state": {
      "_dom_classes": [],
      "_model_module": "@jupyter-widgets/controls",
      "_model_module_version": "1.5.0",
      "_model_name": "HTMLModel",
      "_view_count": null,
      "_view_module": "@jupyter-widgets/controls",
      "_view_module_version": "1.5.0",
      "_view_name": "HTMLView",
      "description": "",
      "description_tooltip": null,
      "layout": "IPY_MODEL_e3a914640f2c429fb46ce17f9b1b503b",
      "placeholder": "​",
      "style": "IPY_MODEL_0d2396bf005146758bd55e63bfbae9e6",
      "value": " 100/100 [02:08&lt;00:00,  1.40s/it]"
     }
    },
    "813631951f2f40acb899c8927cec9bb3": {
     "model_module": "@jupyter-widgets/controls",
     "model_module_version": "1.5.0",
     "model_name": "HTMLModel",
     "state": {
      "_dom_classes": [],
      "_model_module": "@jupyter-widgets/controls",
      "_model_module_version": "1.5.0",
      "_model_name": "HTMLModel",
      "_view_count": null,
      "_view_module": "@jupyter-widgets/controls",
      "_view_module_version": "1.5.0",
      "_view_name": "HTMLView",
      "description": "",
      "description_tooltip": null,
      "layout": "IPY_MODEL_e738c67125104bcb8818d2862f120190",
      "placeholder": "​",
      "style": "IPY_MODEL_2f4b5d5d1127458881d2ef21715cec1f",
      "value": "Generating Predictions: 100%"
     }
    },
    "a76c3e7d3295473f90d7504e41986d68": {
     "model_module": "@jupyter-widgets/controls",
     "model_module_version": "1.5.0",
     "model_name": "ProgressStyleModel",
     "state": {
      "_model_module": "@jupyter-widgets/controls",
      "_model_module_version": "1.5.0",
      "_model_name": "ProgressStyleModel",
      "_view_count": null,
      "_view_module": "@jupyter-widgets/base",
      "_view_module_version": "1.2.0",
      "_view_name": "StyleView",
      "bar_color": null,
      "description_width": ""
     }
    },
    "a9db73bd09d44ed3ae5934b6ce58de5b": {
     "model_module": "@jupyter-widgets/controls",
     "model_module_version": "1.5.0",
     "model_name": "FloatProgressModel",
     "state": {
      "_dom_classes": [],
      "_model_module": "@jupyter-widgets/controls",
      "_model_module_version": "1.5.0",
      "_model_name": "FloatProgressModel",
      "_view_count": null,
      "_view_module": "@jupyter-widgets/controls",
      "_view_module_version": "1.5.0",
      "_view_name": "ProgressView",
      "bar_style": "success",
      "description": "",
      "description_tooltip": null,
      "layout": "IPY_MODEL_19871de1c8cf474d963b534dd9a1438f",
      "max": 7,
      "min": 0,
      "orientation": "horizontal",
      "style": "IPY_MODEL_033846748696417bb4fb61f93505c93e",
      "value": 7
     }
    },
    "b34c44835f0b401eb94e32f66d44adfc": {
     "model_module": "@jupyter-widgets/base",
     "model_module_version": "1.2.0",
     "model_name": "LayoutModel",
     "state": {
      "_model_module": "@jupyter-widgets/base",
      "_model_module_version": "1.2.0",
      "_model_name": "LayoutModel",
      "_view_count": null,
      "_view_module": "@jupyter-widgets/base",
      "_view_module_version": "1.2.0",
      "_view_name": "LayoutView",
      "align_content": null,
      "align_items": null,
      "align_self": null,
      "border": null,
      "bottom": null,
      "display": null,
      "flex": null,
      "flex_flow": null,
      "grid_area": null,
      "grid_auto_columns": null,
      "grid_auto_flow": null,
      "grid_auto_rows": null,
      "grid_column": null,
      "grid_gap": null,
      "grid_row": null,
      "grid_template_areas": null,
      "grid_template_columns": null,
      "grid_template_rows": null,
      "height": null,
      "justify_content": null,
      "justify_items": null,
      "left": null,
      "margin": null,
      "max_height": null,
      "max_width": null,
      "min_height": null,
      "min_width": null,
      "object_fit": null,
      "object_position": null,
      "order": null,
      "overflow": null,
      "overflow_x": null,
      "overflow_y": null,
      "padding": null,
      "right": null,
      "top": null,
      "visibility": null,
      "width": null
     }
    },
    "d9fd9b306db94295a4a2c78cc9fa33a3": {
     "model_module": "@jupyter-widgets/base",
     "model_module_version": "1.2.0",
     "model_name": "LayoutModel",
     "state": {
      "_model_module": "@jupyter-widgets/base",
      "_model_module_version": "1.2.0",
      "_model_name": "LayoutModel",
      "_view_count": null,
      "_view_module": "@jupyter-widgets/base",
      "_view_module_version": "1.2.0",
      "_view_name": "LayoutView",
      "align_content": null,
      "align_items": null,
      "align_self": null,
      "border": null,
      "bottom": null,
      "display": null,
      "flex": null,
      "flex_flow": null,
      "grid_area": null,
      "grid_auto_columns": null,
      "grid_auto_flow": null,
      "grid_auto_rows": null,
      "grid_column": null,
      "grid_gap": null,
      "grid_row": null,
      "grid_template_areas": null,
      "grid_template_columns": null,
      "grid_template_rows": null,
      "height": null,
      "justify_content": null,
      "justify_items": null,
      "left": null,
      "margin": null,
      "max_height": null,
      "max_width": null,
      "min_height": null,
      "min_width": null,
      "object_fit": null,
      "object_position": null,
      "order": null,
      "overflow": null,
      "overflow_x": null,
      "overflow_y": null,
      "padding": null,
      "right": null,
      "top": null,
      "visibility": null,
      "width": null
     }
    },
    "e2869fd0d0944565aae8e8932ef5004c": {
     "model_module": "@jupyter-widgets/base",
     "model_module_version": "1.2.0",
     "model_name": "LayoutModel",
     "state": {
      "_model_module": "@jupyter-widgets/base",
      "_model_module_version": "1.2.0",
      "_model_name": "LayoutModel",
      "_view_count": null,
      "_view_module": "@jupyter-widgets/base",
      "_view_module_version": "1.2.0",
      "_view_name": "LayoutView",
      "align_content": null,
      "align_items": null,
      "align_self": null,
      "border": null,
      "bottom": null,
      "display": null,
      "flex": null,
      "flex_flow": null,
      "grid_area": null,
      "grid_auto_columns": null,
      "grid_auto_flow": null,
      "grid_auto_rows": null,
      "grid_column": null,
      "grid_gap": null,
      "grid_row": null,
      "grid_template_areas": null,
      "grid_template_columns": null,
      "grid_template_rows": null,
      "height": null,
      "justify_content": null,
      "justify_items": null,
      "left": null,
      "margin": null,
      "max_height": null,
      "max_width": null,
      "min_height": null,
      "min_width": null,
      "object_fit": null,
      "object_position": null,
      "order": null,
      "overflow": null,
      "overflow_x": null,
      "overflow_y": null,
      "padding": null,
      "right": null,
      "top": null,
      "visibility": null,
      "width": null
     }
    },
    "e3a914640f2c429fb46ce17f9b1b503b": {
     "model_module": "@jupyter-widgets/base",
     "model_module_version": "1.2.0",
     "model_name": "LayoutModel",
     "state": {
      "_model_module": "@jupyter-widgets/base",
      "_model_module_version": "1.2.0",
      "_model_name": "LayoutModel",
      "_view_count": null,
      "_view_module": "@jupyter-widgets/base",
      "_view_module_version": "1.2.0",
      "_view_name": "LayoutView",
      "align_content": null,
      "align_items": null,
      "align_self": null,
      "border": null,
      "bottom": null,
      "display": null,
      "flex": null,
      "flex_flow": null,
      "grid_area": null,
      "grid_auto_columns": null,
      "grid_auto_flow": null,
      "grid_auto_rows": null,
      "grid_column": null,
      "grid_gap": null,
      "grid_row": null,
      "grid_template_areas": null,
      "grid_template_columns": null,
      "grid_template_rows": null,
      "height": null,
      "justify_content": null,
      "justify_items": null,
      "left": null,
      "margin": null,
      "max_height": null,
      "max_width": null,
      "min_height": null,
      "min_width": null,
      "object_fit": null,
      "object_position": null,
      "order": null,
      "overflow": null,
      "overflow_x": null,
      "overflow_y": null,
      "padding": null,
      "right": null,
      "top": null,
      "visibility": null,
      "width": null
     }
    },
    "e738c67125104bcb8818d2862f120190": {
     "model_module": "@jupyter-widgets/base",
     "model_module_version": "1.2.0",
     "model_name": "LayoutModel",
     "state": {
      "_model_module": "@jupyter-widgets/base",
      "_model_module_version": "1.2.0",
      "_model_name": "LayoutModel",
      "_view_count": null,
      "_view_module": "@jupyter-widgets/base",
      "_view_module_version": "1.2.0",
      "_view_name": "LayoutView",
      "align_content": null,
      "align_items": null,
      "align_self": null,
      "border": null,
      "bottom": null,
      "display": null,
      "flex": null,
      "flex_flow": null,
      "grid_area": null,
      "grid_auto_columns": null,
      "grid_auto_flow": null,
      "grid_auto_rows": null,
      "grid_column": null,
      "grid_gap": null,
      "grid_row": null,
      "grid_template_areas": null,
      "grid_template_columns": null,
      "grid_template_rows": null,
      "height": null,
      "justify_content": null,
      "justify_items": null,
      "left": null,
      "margin": null,
      "max_height": null,
      "max_width": null,
      "min_height": null,
      "min_width": null,
      "object_fit": null,
      "object_position": null,
      "order": null,
      "overflow": null,
      "overflow_x": null,
      "overflow_y": null,
      "padding": null,
      "right": null,
      "top": null,
      "visibility": null,
      "width": null
     }
    },
    "e7d75c969a4f4901944f68bd508b904f": {
     "model_module": "@jupyter-widgets/base",
     "model_module_version": "1.2.0",
     "model_name": "LayoutModel",
     "state": {
      "_model_module": "@jupyter-widgets/base",
      "_model_module_version": "1.2.0",
      "_model_name": "LayoutModel",
      "_view_count": null,
      "_view_module": "@jupyter-widgets/base",
      "_view_module_version": "1.2.0",
      "_view_name": "LayoutView",
      "align_content": null,
      "align_items": null,
      "align_self": null,
      "border": null,
      "bottom": null,
      "display": null,
      "flex": null,
      "flex_flow": null,
      "grid_area": null,
      "grid_auto_columns": null,
      "grid_auto_flow": null,
      "grid_auto_rows": null,
      "grid_column": null,
      "grid_gap": null,
      "grid_row": null,
      "grid_template_areas": null,
      "grid_template_columns": null,
      "grid_template_rows": null,
      "height": null,
      "justify_content": null,
      "justify_items": null,
      "left": null,
      "margin": null,
      "max_height": null,
      "max_width": null,
      "min_height": null,
      "min_width": null,
      "object_fit": null,
      "object_position": null,
      "order": null,
      "overflow": null,
      "overflow_x": null,
      "overflow_y": null,
      "padding": null,
      "right": null,
      "top": null,
      "visibility": null,
      "width": null
     }
    },
    "eed838704c95403d943d1f8959d79b55": {
     "model_module": "@jupyter-widgets/base",
     "model_module_version": "1.2.0",
     "model_name": "LayoutModel",
     "state": {
      "_model_module": "@jupyter-widgets/base",
      "_model_module_version": "1.2.0",
      "_model_name": "LayoutModel",
      "_view_count": null,
      "_view_module": "@jupyter-widgets/base",
      "_view_module_version": "1.2.0",
      "_view_name": "LayoutView",
      "align_content": null,
      "align_items": null,
      "align_self": null,
      "border": null,
      "bottom": null,
      "display": null,
      "flex": null,
      "flex_flow": null,
      "grid_area": null,
      "grid_auto_columns": null,
      "grid_auto_flow": null,
      "grid_auto_rows": null,
      "grid_column": null,
      "grid_gap": null,
      "grid_row": null,
      "grid_template_areas": null,
      "grid_template_columns": null,
      "grid_template_rows": null,
      "height": null,
      "justify_content": null,
      "justify_items": null,
      "left": null,
      "margin": null,
      "max_height": null,
      "max_width": null,
      "min_height": null,
      "min_width": null,
      "object_fit": null,
      "object_position": null,
      "order": null,
      "overflow": null,
      "overflow_x": null,
      "overflow_y": null,
      "padding": null,
      "right": null,
      "top": null,
      "visibility": null,
      "width": null
     }
    },
    "f4a13bca67db4ab5acc128da99f02935": {
     "model_module": "@jupyter-widgets/controls",
     "model_module_version": "1.5.0",
     "model_name": "DescriptionStyleModel",
     "state": {
      "_model_module": "@jupyter-widgets/controls",
      "_model_module_version": "1.5.0",
      "_model_name": "DescriptionStyleModel",
      "_view_count": null,
      "_view_module": "@jupyter-widgets/base",
      "_view_module_version": "1.2.0",
      "_view_name": "StyleView",
      "description_width": ""
     }
    }
   }
  }
 },
 "nbformat": 4,
 "nbformat_minor": 4
}
