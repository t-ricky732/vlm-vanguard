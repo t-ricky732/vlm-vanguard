{
 "cells": [
  {
   "cell_type": "markdown",
   "id": "c29594e0-6938-4ead-87a9-7015fce19703",
   "metadata": {},
   "source": [
    "# Trial of finetuning"
   ]
  },
  {
   "cell_type": "markdown",
   "id": "cd774229-076a-4bde-a2ce-c5f8022cecd5",
   "metadata": {},
   "source": [
    "Ref: https://huggingface.co/learn/cookbook/en/fine_tuning_smol_vlm_sft_trl"
   ]
  },
  {
   "cell_type": "code",
   "execution_count": 1,
   "id": "c9a63e85-8a27-4efa-be96-c84224943451",
   "metadata": {},
   "outputs": [],
   "source": [
    "#!pip install  -U -q transformers==4.46.3 trl==0.12.1 datasets==3.1.0 bitsandbytes==0.45.0 peft==0.13.2 accelerate==1.1.1\n",
    "!pip install  -U -q transformers trl datasets bitsandbytes peft accelerate\n",
    "# Tested with transformers==4.46.3, trl==0.12.1, datasets==3.1.0, bitsandbytes==0.45.0, peft==0.13.2, accelerate==1.1.1"
   ]
  },
  {
   "cell_type": "code",
   "execution_count": 2,
   "id": "9bba0b5f-8e18-4008-927e-0e48e20f6180",
   "metadata": {},
   "outputs": [],
   "source": [
    "!pip install -q flash-attn --no-build-isolation"
   ]
  },
  {
   "cell_type": "code",
   "execution_count": 3,
   "id": "c480fb8e-bb9f-42e9-beb7-39e9d400d2b4",
   "metadata": {},
   "outputs": [],
   "source": [
    "#!pip install -q tensorboard"
   ]
  },
  {
   "cell_type": "code",
   "execution_count": 4,
   "id": "647efda2-bf0c-4e48-b9f1-ec1a38eb14b9",
   "metadata": {},
   "outputs": [],
   "source": [
    "import time, gc\n",
    "import torch\n",
    "from datasets import load_dataset\n",
    "from PIL import Image\n",
    "from transformers import Idefics3ForConditionalGeneration, AutoProcessor\n",
    "from transformers import BitsAndBytesConfig\n",
    "from peft import LoraConfig, get_peft_model, prepare_model_for_kbit_training\n",
    "from trl import SFTConfig"
   ]
  },
  {
   "cell_type": "code",
   "execution_count": 5,
   "id": "7cc7c02b-a753-429f-a25b-0118f48ae3d7",
   "metadata": {},
   "outputs": [],
   "source": [
    "image_size = 384\n",
    "output_path = \"smolvlm-256M-instruct-trl-sft-chartllama_1\""
   ]
  },
  {
   "cell_type": "code",
   "execution_count": 6,
   "id": "6a341c11-965e-4531-b000-f801312a86e7",
   "metadata": {},
   "outputs": [
    {
     "name": "stdout",
     "output_type": "stream",
     "text": [
      "cuda\n",
      "bf16 supported: True\n",
      "2.6.0+cu124\n"
     ]
    }
   ],
   "source": [
    "DEVICE = torch.device(\"cuda\" if torch.cuda.is_available() else (\"mps\" if torch.backends.mps.is_available() else \"cpu\"))\n",
    "print(DEVICE)\n",
    "print('bf16 supported:', torch.cuda.is_bf16_supported())\n",
    "print(torch.__version__)"
   ]
  },
  {
   "cell_type": "raw",
   "id": "50ba52b2-c0b9-4c91-88e2-f785b104aa33",
   "metadata": {},
   "source": [
    "system_message = \"You are a Vision Language Model specialized in interpreting visual data from chart images. \\\n",
    "Your task is to analyze the provided chart image and respond to queries with concise answers, usually a single word, number, or short phrase. \\\n",
    "The charts include a variety of types (e.g., line charts, bar charts) and contain colors, labels, and text. \\\n",
    "Focus on delivering accurate, succinct answers based on the visual information. Avoid additional explanation unless absolutely necessary.\""
   ]
  },
  {
   "cell_type": "raw",
   "id": "3f6b4601-a4de-4db3-8f72-4cae96117fe4",
   "metadata": {},
   "source": [
    "system_message = \"Please answer the question using only one word or a number based on the provided chart.\""
   ]
  },
  {
   "cell_type": "raw",
   "id": "100acaf7-ff21-41a5-a354-8009243d4a63",
   "metadata": {},
   "source": [
    "system_message = \"Please answer the question based on the provided chart.\""
   ]
  },
  {
   "cell_type": "code",
   "execution_count": 7,
   "id": "3e095462-eb04-4fab-b10e-d703a8b9ead5",
   "metadata": {},
   "outputs": [],
   "source": [
    "system_message = \"Consider the input.\""
   ]
  },
  {
   "cell_type": "code",
   "execution_count": 8,
   "id": "02879f38-84a6-409d-8a53-566c46676197",
   "metadata": {},
   "outputs": [],
   "source": [
    "def format_data(sample):\n",
    "    return [\n",
    "        {\n",
    "            \"role\": \"system\",\n",
    "            \"content\": [{\"type\": \"text\", \"text\": system_message}],\n",
    "        },\n",
    "        {\n",
    "            \"role\": \"user\",\n",
    "            \"content\": [\n",
    "                {\n",
    "                    \"type\": \"image\",\n",
    "                    \"image\": sample[\"image\"],\n",
    "                },\n",
    "                {\n",
    "                    \"type\": \"text\",\n",
    "                    \"text\": sample[\"query\"],\n",
    "                },\n",
    "            ],\n",
    "        },\n",
    "        {\n",
    "            \"role\": \"assistant\",\n",
    "            \"content\": [{\"type\": \"text\", \"text\": sample[\"label\"][0]}],\n",
    "        },\n",
    "    ]"
   ]
  },
  {
   "cell_type": "code",
   "execution_count": 9,
   "id": "711681ab-cc9a-486a-9a2d-c69dd9f0447d",
   "metadata": {},
   "outputs": [],
   "source": [
    "dataset_id = \"HuggingFaceM4/ChartQA\"\n",
    "#train_CQ, eval_CQ, test_CQ = load_dataset(dataset_id, split=[\"train[:10%]\", \"val[:10%]\", \"test[:10%]\"])\n",
    "train_CQ, eval_CQ, test_CQ = load_dataset(dataset_id, split=[\"train[:10%]\", \"val[:10%]\", \"test\"])"
   ]
  },
  {
   "cell_type": "code",
   "execution_count": 10,
   "id": "bc85dd24-0a4b-418a-a957-31867dd54d13",
   "metadata": {},
   "outputs": [
    {
     "data": {
      "text/plain": [
       "{'image': <PIL.PngImagePlugin.PngImageFile image mode=RGB size=314x281>,\n",
       " 'query': 'What is the sum favourable  value in the year 2014 and 2015?',\n",
       " 'label': ['95'],\n",
       " 'human_or_machine': 0}"
      ]
     },
     "execution_count": 10,
     "metadata": {},
     "output_type": "execute_result"
    }
   ],
   "source": [
    "train_CQ[3]"
   ]
  },
  {
   "cell_type": "code",
   "execution_count": 11,
   "id": "ef7f3509-85f4-46e5-a41f-cbb99b107a25",
   "metadata": {},
   "outputs": [
    {
     "data": {
      "image/jpeg": "[encoded data removed]",
      "image/png": "[encoded data removed]",
      "text/plain": [
       "<PIL.PngImagePlugin.PngImageFile image mode=RGB size=422x359>"
      ]
     },
     "execution_count": 11,
     "metadata": {},
     "output_type": "execute_result"
    }
   ],
   "source": [
    "train_CQ[0]['image']"
   ]
  },
  {
   "cell_type": "code",
   "execution_count": 12,
   "id": "c7266ddc-1101-4572-bfee-eba7ab9d3c66",
   "metadata": {},
   "outputs": [],
   "source": [
    "train_CQ = [format_data(sample) for sample in train_CQ]\n",
    "eval_CQ = [format_data(sample) for sample in eval_CQ]\n",
    "test_CQ = [format_data(sample) for sample in test_CQ]"
   ]
  },
  {
   "cell_type": "code",
   "execution_count": 13,
   "id": "94b8c29d-9b7c-4d05-ace4-9822cc7bc9d4",
   "metadata": {},
   "outputs": [
    {
     "data": {
      "text/plain": [
       "[{'role': 'system',\n",
       "  'content': [{'type': 'text', 'text': 'Consider the input.'}]},\n",
       " {'role': 'user',\n",
       "  'content': [{'type': 'image',\n",
       "    'image': <PIL.PngImagePlugin.PngImageFile image mode=RGB size=422x359>},\n",
       "   {'type': 'text', 'text': 'Is the value of Favorable 38 in 2015?'}]},\n",
       " {'role': 'assistant', 'content': [{'type': 'text', 'text': 'Yes'}]}]"
      ]
     },
     "execution_count": 13,
     "metadata": {},
     "output_type": "execute_result"
    }
   ],
   "source": [
    "train_CQ[0]"
   ]
  },
  {
   "cell_type": "markdown",
   "id": "84837ac8-b869-4bca-aecf-513f44ff839b",
   "metadata": {},
   "source": [
    "### Load chartllama using load_dataset"
   ]
  },
  {
   "cell_type": "code",
   "execution_count": 14,
   "id": "f1471d83-5668-4957-b713-0a2f1f9fa9cd",
   "metadata": {},
   "outputs": [],
   "source": [
    "# Data loading from the local drive\n",
    "dataset_CL = load_dataset('json', data_files=['chartllama_data/box_chart_100examples_simplified_qa.json',\n",
    "                                           'chartllama_data/candlestick_chart_100examples_simplified_qa.json',\n",
    "                                           'chartllama_data/funnel_chart_100examples_simplified_qa.json',\n",
    "                                           'chartllama_data/gantt_chart_100examples_simplified_qa.json',\n",
    "                                           'chartllama_data/heatmap_chart_100examples_simplified_qa.json',\n",
    "                                           'chartllama_data/polar_chart_100examples_simplified_qa.json',\n",
    "                                           'chartllama_data/scatter_chart_100examples_simplified_qa.json'\n",
    "                                          ]\n",
    "                      )"
   ]
  },
  {
   "cell_type": "code",
   "execution_count": 15,
   "id": "f06cf3a1-a4e6-48d0-b2ce-ab9eb58c75ba",
   "metadata": {},
   "outputs": [],
   "source": [
    "def format_CL(sample):\n",
    "    #print(sample)\n",
    "    image_path = './chartllama_data/'+ sample['image']\n",
    "    image_object = Image.open(image_path).resize((image_size, image_size)).convert('RGB')\n",
    "    question = sample['conversations'][0]['value'].strip('<image>').strip('\\n')\n",
    "    answer = sample['conversations'][1]['value']\n",
    "    \n",
    "    output = [\n",
    "        {\n",
    "            \"role\": \"system\",\n",
    "            \"content\": [{\"type\": \"text\", \"text\": system_message}],\n",
    "        },\n",
    "        {\n",
    "            \"role\": \"user\",\n",
    "            \"content\": [\n",
    "                {\n",
    "                    \"type\": \"image\",\n",
    "                    \"image\": image_object,\n",
    "                },\n",
    "                {\n",
    "                    \"type\": \"text\",\n",
    "                    \"text\": question,\n",
    "                },\n",
    "            ],\n",
    "        },\n",
    "        {\n",
    "            \"role\": \"assistant\",\n",
    "            \"content\": [{\"type\": \"text\", \"text\": answer}],\n",
    "        },\n",
    "    ]\n",
    "    return output"
   ]
  },
  {
   "cell_type": "code",
   "execution_count": 16,
   "id": "f636fe33-7315-4dcc-8e5c-113c19de3079",
   "metadata": {},
   "outputs": [],
   "source": [
    "CL_formated = [format_CL(sample) for sample in dataset_CL['train']]"
   ]
  },
  {
   "cell_type": "code",
   "execution_count": 17,
   "id": "688fd8d0-332a-4335-b200-0bbe23c5073b",
   "metadata": {},
   "outputs": [],
   "source": [
    "train_size = int(len(CL_formated)*0.8)\n",
    "val_size = len(CL_formated) - train_size\n",
    "train_CL, val_CL = torch.utils.data.random_split(CL_formated, [train_size, val_size])"
   ]
  },
  {
   "cell_type": "markdown",
   "id": "6a1a17d5-6132-4ee1-875b-5b7c1cfb0e67",
   "metadata": {},
   "source": [
    "### Comparsion between train_CQ & train_CL"
   ]
  },
  {
   "cell_type": "code",
   "execution_count": 18,
   "id": "f1f5ca0f-5664-4eae-ae6c-5236e18e7931",
   "metadata": {},
   "outputs": [
    {
     "data": {
      "text/plain": [
       "[{'role': 'system',\n",
       "  'content': [{'type': 'text', 'text': 'Consider the input.'}]},\n",
       " {'role': 'user',\n",
       "  'content': [{'type': 'image',\n",
       "    'image': <PIL.PngImagePlugin.PngImageFile image mode=RGB size=420x349>},\n",
       "   {'type': 'text',\n",
       "    'text': 'In which year the Mexican governments campaign against drugs traffickers is making 47 percent progress?'}]},\n",
       " {'role': 'assistant', 'content': [{'type': 'text', 'text': '2012'}]}]"
      ]
     },
     "execution_count": 18,
     "metadata": {},
     "output_type": "execute_result"
    }
   ],
   "source": [
    "train_CQ[4]"
   ]
  },
  {
   "cell_type": "code",
   "execution_count": 19,
   "id": "0e14fee5-6e3f-42c3-9e9b-372339155a1d",
   "metadata": {},
   "outputs": [
    {
     "data": {
      "text/plain": [
       "[{'role': 'system',\n",
       "  'content': [{'type': 'text', 'text': 'Consider the input.'}]},\n",
       " {'role': 'user',\n",
       "  'content': [{'type': 'image',\n",
       "    'image': <PIL.Image.Image image mode=RGB size=384x384>},\n",
       "   {'type': 'text', 'text': 'On which day is the lowest trading price?'}]},\n",
       " {'role': 'assistant',\n",
       "  'content': [{'type': 'text', 'text': '1st August 2021'}]}]"
      ]
     },
     "execution_count": 19,
     "metadata": {},
     "output_type": "execute_result"
    }
   ],
   "source": [
    "train_CL[0]"
   ]
  },
  {
   "cell_type": "markdown",
   "id": "14f6cc8b-48da-4cfb-a746-f121c41668bd",
   "metadata": {},
   "source": [
    "### Load the model & check the performance"
   ]
  },
  {
   "cell_type": "code",
   "execution_count": 20,
   "id": "2d1fa456-fe55-4bc9-bb3a-010c8ba6b63a",
   "metadata": {},
   "outputs": [],
   "source": [
    "#model_id = \"HuggingFaceTB/SmolVLM-256M-Base\"\n",
    "model_id = \"HuggingFaceTB/SmolVLM-256M-Instruct\"\n",
    "#model_id = \"HuggingFaceTB/SmolVLM-500M-Base\"\n",
    "#model_id = \"HuggingFaceTB/SmolVLM-500M-Instruct\"\n",
    "#model_id = \"HuggingFaceTB/SmolVLM-Base\"\n",
    "#model_id = \"HuggingFaceTB/SmolVLM-Instruct\""
   ]
  },
  {
   "cell_type": "code",
   "execution_count": 21,
   "id": "a1ef7fb1-3d8f-4cac-978a-e09d1c592ae2",
   "metadata": {},
   "outputs": [],
   "source": [
    "model = Idefics3ForConditionalGeneration.from_pretrained(\n",
    "    model_id,\n",
    "    device_map=\"auto\",\n",
    "    torch_dtype=torch.bfloat16,\n",
    "    _attn_implementation=\"flash_attention_2\",\n",
    ").to(DEVICE)\n",
    "\n",
    "processor = AutoProcessor.from_pretrained(model_id)"
   ]
  },
  {
   "cell_type": "code",
   "execution_count": 22,
   "id": "6db3f665-7091-4b6c-8b66-9a5d53fd1d38",
   "metadata": {},
   "outputs": [],
   "source": [
    "def generate_text_from_sample(model, processor, sample, max_new_tokens=32, device=\"cuda\"):\n",
    "    # Prepare the text input by applying the chat template\n",
    "    text_input = processor.apply_chat_template(\n",
    "        #sample[1:2], add_generation_prompt=True  # Use the sample without the system message\n",
    "        sample[1:2]\n",
    "    )\n",
    "\n",
    "    image_inputs = []\n",
    "    image = sample[1]['content'][0]['image']\n",
    "    if image.mode != \"RGB\":\n",
    "        image = image.convert(\"RGB\")\n",
    "    image_inputs.append([image])\n",
    "    \n",
    "    # Prepare the inputs for the model\n",
    "    model_inputs = processor(\n",
    "        text=[text_input],\n",
    "        #text=text_input,\n",
    "        images=image_inputs,\n",
    "        return_tensors=\"pt\",\n",
    "    ).to(\n",
    "        device\n",
    "    )  # Move inputs to the specified device\n",
    "\n",
    "    # Generate text with the model\n",
    "    generated_ids = model.generate(**model_inputs, max_new_tokens=max_new_tokens)\n",
    "\n",
    "    # Trim the generated ids to remove the input ids\n",
    "    trimmed_generated_ids = [out_ids[len(in_ids) :] for in_ids, out_ids in zip(model_inputs.input_ids, generated_ids)]\n",
    "\n",
    "    # Decode the output text\n",
    "    output_text = processor.batch_decode(\n",
    "        trimmed_generated_ids, skip_special_tokens=True, clean_up_tokenization_spaces=False\n",
    "    )\n",
    "\n",
    "    return output_text[0]  # Return the first decoded output text"
   ]
  },
  {
   "cell_type": "code",
   "execution_count": 23,
   "id": "96135e77-e91d-4aa1-977e-727434cbfbf7",
   "metadata": {},
   "outputs": [],
   "source": [
    "def inference(model, processor, sample, max_new_tokens=32, device=\"cuda\"):\n",
    "    # Prepare the text input by applying the chat template\n",
    "    text_input = processor.apply_chat_template(sample[1:2], add_generation_prompt=True)\n",
    "    image_inputs = [sample[1]['content'][0]['image']]\n",
    "    model_inputs = processor(text=[text_input], images=image_inputs,return_tensors=\"pt\").to(device)\n",
    "    generated_ids = model.generate(**model_inputs, max_new_tokens=max_new_tokens)\n",
    "\n",
    "    # Trim the generated ids to remove the input ids\n",
    "    trimmed_generated_ids = [out_ids[len(in_ids) :] for in_ids, out_ids in zip(model_inputs.input_ids, generated_ids)]\n",
    "\n",
    "    # Decode the output text\n",
    "    output_text = processor.batch_decode(trimmed_generated_ids, skip_special_tokens=True, clean_up_tokenization_spaces=False)\n",
    "\n",
    "    return output_text[0].strip()  # Return the first decoded output text"
   ]
  },
  {
   "cell_type": "code",
   "execution_count": 24,
   "id": "b16a4841-6b1f-41f5-b35e-81bdb02eb916",
   "metadata": {},
   "outputs": [],
   "source": [
    "def runQA(model, processor, data):\n",
    "    for i in range(10):\n",
    "        print('Q', data[i][1]['content'][1]['text'])\n",
    "        print('pred'+str(i)+':', inference(model, processor, data[i]))\n",
    "        print('true'+str(i)+':', data[i][2]['content'][0]['text'])"
   ]
  },
  {
   "cell_type": "code",
   "execution_count": 25,
   "id": "06b6afeb-ca76-4f67-bc16-730959cc4f2a",
   "metadata": {},
   "outputs": [
    {
     "name": "stdout",
     "output_type": "stream",
     "text": [
      "Q How many food item is shown in the bar graph?\n",
      "pred0: 10\n",
      "true0: 14\n",
      "Q What is the difference in value between Lamb and Corn?\n",
      "pred1: 103.13.\n",
      "true1: 0.57\n",
      "Q How many bars are shown in the chart?\n",
      "pred2: 3\n",
      "true2: 3\n",
      "Q Is the sum value of Madagascar more then Fiji?\n",
      "pred3: No\n",
      "true3: No\n",
      "Q What's the value of the lowest bar?\n",
      "pred4: The Japanese public is divided on the issue of whether Japan should play a more active military role in the Asia-Pacific region. In 2015,\n",
      "true4: 23\n",
      "Q What is the difference between the highest and the lowest green bar??\n",
      "pred5: The Japanese public is divided on the issue of military strength. In 2015, 68% of the public said Japan should limit its military\n",
      "true5: 6\n",
      "Q What percent who think of President Donald Trump as Dangerous?\n",
      "pred6: A majority of Americans (62%) say Trump is a strong leader, while 55% say he is a charismatic leader. A smaller share (\n",
      "true6: 62\n",
      "Q Is the sum of the percents of Charismatic and Well-qualified to be president more than A strong leader ?\n",
      "pred7: The public’s views of Trump’s character are divided. A majority of the public (55%) says they think Trump is a strong leader, while\n",
      "true7: Yes\n",
      "Q What was the 4th most popular emotion?\n",
      "pred8: Social media users are also more likely to say they see content on social media that makes them feel angry, angry, angry, angry, angry, angry, angry\n",
      "true8: Inspired\n",
      "Q How many more people felt inspired frequently than depressed frequently?\n",
      "pred9: Social media users are also more likely to say they feel connected to others than to feel angry or sad. A majority of social media users (88%) say\n",
      "true9: 0.03\n"
     ]
    }
   ],
   "source": [
    "runQA(model, processor, test_CQ)"
   ]
  },
  {
   "cell_type": "code",
   "execution_count": 26,
   "id": "508ef4f2-cd32-42ea-89df-a96123a4cb12",
   "metadata": {},
   "outputs": [],
   "source": [
    "def evaluate_performance(test_data):\n",
    "    score = 0\n",
    "    num_samples = len(test_data)\n",
    "    #num_samples = 10\n",
    "    for i in range(num_samples):\n",
    "        prediction  = (inference(model, processor, test_data[i])).lower().replace('%','').removesuffix('.')\n",
    "        ground_truth = (test_data[i][2]['content'][0]['text']).lower()\n",
    "\n",
    "        # check if Yes/No question\n",
    "        if ground_truth == 'yes' or ground_truth == \"no\":\n",
    "            if prediction == ground_truth:\n",
    "                score += 1\n",
    "        else:\n",
    "            try:\n",
    "                prediction = float(prediction)\n",
    "                ground_truth = float(ground_truth)\n",
    "                relative_difference = abs((prediction - ground_truth)/ground_truth)\n",
    "                if relative_difference <= 0.05:\n",
    "                    score+=1\n",
    "            except:\n",
    "                pass\n",
    "        if (i+1) % 100 == 0:\n",
    "            print(str(i+1)+\"th iteration\")\n",
    "    accuracy = score / num_samples\n",
    "    return accuracy"
   ]
  },
  {
   "cell_type": "code",
   "execution_count": 27,
   "id": "79fda098-928d-42d1-a313-b5ed8d3e7bf7",
   "metadata": {},
   "outputs": [
    {
     "name": "stdout",
     "output_type": "stream",
     "text": [
      "100th iteration\n",
      "200th iteration\n",
      "300th iteration\n",
      "400th iteration\n",
      "500th iteration\n",
      "600th iteration\n",
      "700th iteration\n",
      "800th iteration\n",
      "900th iteration\n",
      "1000th iteration\n",
      "1100th iteration\n",
      "1200th iteration\n",
      "1300th iteration\n",
      "1400th iteration\n",
      "1500th iteration\n",
      "1600th iteration\n",
      "1700th iteration\n",
      "1800th iteration\n",
      "1900th iteration\n",
      "2000th iteration\n",
      "2100th iteration\n",
      "2200th iteration\n",
      "2300th iteration\n",
      "2400th iteration\n",
      "2500th iteration\n",
      "40.05822256803513 mins\n"
     ]
    }
   ],
   "source": [
    "start_time_eval = time.time()\n",
    "accuracy = evaluate_performance(test_CQ)\n",
    "end_time_eval = time.time()\n",
    "print((end_time_eval - start_time_eval)/60, \"mins\")"
   ]
  },
  {
   "cell_type": "code",
   "execution_count": 28,
   "id": "5d2c44c9-e82b-45e1-ae71-73d7c305a5f2",
   "metadata": {},
   "outputs": [
    {
     "name": "stdout",
     "output_type": "stream",
     "text": [
      "0.0836\n"
     ]
    }
   ],
   "source": [
    "print(accuracy)"
   ]
  },
  {
   "cell_type": "code",
   "execution_count": 29,
   "id": "535923ee-1fc1-45c5-b58b-b8524b1ba48a",
   "metadata": {},
   "outputs": [
    {
     "name": "stdout",
     "output_type": "stream",
     "text": [
      "GPU allocated memory: 0.01 GB\n",
      "GPU reserved memory: 0.48 GB\n"
     ]
    }
   ],
   "source": [
    "def clear_memory():\n",
    "    # Delete variables if they exist in the current global scope\n",
    "    if \"inputs\" in globals():\n",
    "        del globals()[\"inputs\"]\n",
    "    if \"model\" in globals():\n",
    "        del globals()[\"model\"]\n",
    "    if \"processor\" in globals():\n",
    "        del globals()[\"processor\"]\n",
    "    if \"trainer\" in globals():\n",
    "        del globals()[\"trainer\"]\n",
    "    if \"peft_model\" in globals():\n",
    "        del globals()[\"peft_model\"]\n",
    "    if \"bnb_config\" in globals():\n",
    "        del globals()[\"bnb_config\"]\n",
    "    time.sleep(2)\n",
    "\n",
    "    # Garbage collection and clearing CUDA memory\n",
    "    gc.collect()\n",
    "    time.sleep(2)\n",
    "    torch.cuda.empty_cache()\n",
    "    torch.cuda.synchronize()\n",
    "    time.sleep(2)\n",
    "    gc.collect()\n",
    "    time.sleep(2)\n",
    "\n",
    "    print(f\"GPU allocated memory: {torch.cuda.memory_allocated() / 1024**3:.2f} GB\")\n",
    "    print(f\"GPU reserved memory: {torch.cuda.memory_reserved() / 1024**3:.2f} GB\")\n",
    "\n",
    "\n",
    "clear_memory()"
   ]
  },
  {
   "cell_type": "markdown",
   "id": "ad837824-7c00-4987-8666-c89dcdbec1b8",
   "metadata": {},
   "source": [
    "### Fine tuning"
   ]
  },
  {
   "cell_type": "markdown",
   "id": "296efd36-7814-4b5b-8f97-5618e1565d66",
   "metadata": {},
   "source": [
    "#### Load quantized model"
   ]
  },
  {
   "cell_type": "code",
   "execution_count": 30,
   "id": "d2b4c0f3-feb5-4a83-b485-7b6cd082d832",
   "metadata": {},
   "outputs": [],
   "source": [
    "# BitsAndBytesConfig int-4 config\n",
    "bnb_config = BitsAndBytesConfig(\n",
    "    load_in_4bit=True, bnb_4bit_use_double_quant=True, bnb_4bit_quant_type=\"nf4\", bnb_4bit_compute_dtype=torch.bfloat16\n",
    ")\n",
    "\n",
    "# Load model and tokenizer\n",
    "model = Idefics3ForConditionalGeneration.from_pretrained(\n",
    "    model_id,\n",
    "    device_map=\"auto\",\n",
    "    torch_dtype=torch.bfloat16,\n",
    "    quantization_config=bnb_config,\n",
    "    _attn_implementation=\"flash_attention_2\",\n",
    ")\n",
    "processor = AutoProcessor.from_pretrained(model_id)"
   ]
  },
  {
   "cell_type": "markdown",
   "id": "70676161-5069-4564-bf78-c9068aeb6433",
   "metadata": {},
   "source": [
    "#### Setup QLoRA and SFT config"
   ]
  },
  {
   "cell_type": "code",
   "execution_count": 31,
   "id": "708ffe16-6da4-455e-a80a-e1ac935c1f0f",
   "metadata": {},
   "outputs": [],
   "source": [
    "# Configure LoRA\n",
    "peft_config = LoraConfig(\n",
    "    r=8,\n",
    "    lora_alpha=8,\n",
    "    lora_dropout=0.1,\n",
    "    target_modules=[\"down_proj\", \"o_proj\", \"k_proj\", \"q_proj\", \"gate_proj\", \"up_proj\", \"v_proj\"],\n",
    "    use_dora=True,\n",
    "    init_lora_weights=\"gaussian\",\n",
    ")\n",
    "\n",
    "model = prepare_model_for_kbit_training(model)\n",
    "\n",
    "# Apply PEFT model adaptation\n",
    "#peft_model = get_peft_model(model, peft_config)\n",
    "\n",
    "# Print trainable parameters\n",
    "#peft_model.print_trainable_parameters()"
   ]
  },
  {
   "cell_type": "code",
   "execution_count": 32,
   "id": "0635cee5-13ec-4b09-b602-559c2c265007",
   "metadata": {},
   "outputs": [],
   "source": [
    "# Configure training arguments using SFTConfig\n",
    "training_args = SFTConfig(\n",
    "    output_dir=output_path,\n",
    "    max_seq_length=256,\n",
    "    num_train_epochs=10,\n",
    "    per_device_train_batch_size=4,\n",
    "    gradient_accumulation_steps=4,\n",
    "    warmup_steps=50,\n",
    "    learning_rate=1e-4,\n",
    "    weight_decay=0.01,\n",
    "    logging_steps=25,\n",
    "    save_strategy=\"steps\",\n",
    "    save_steps=25,\n",
    "    save_total_limit=1,\n",
    "    optim=\"adamw_torch_fused\",\n",
    "    bf16=True,\n",
    "    remove_unused_columns=False,\n",
    "    gradient_checkpointing=True,\n",
    "    dataset_text_field=\"\",\n",
    "    dataset_kwargs={\"skip_prepare_dataset\": True},\n",
    ")"
   ]
  },
  {
   "cell_type": "markdown",
   "id": "8a5e01c3-3057-41c8-9990-9cc341f202fa",
   "metadata": {},
   "source": [
    "#### model training (use correct collate_fn)"
   ]
  },
  {
   "cell_type": "code",
   "execution_count": 33,
   "id": "a0c556a9-205b-47ba-9311-ca01c7b2629b",
   "metadata": {},
   "outputs": [],
   "source": [
    "image_token_id = processor.tokenizer.additional_special_tokens_ids[\n",
    "    processor.tokenizer.additional_special_tokens.index(\"<image>\")\n",
    "]\n",
    "\n",
    "def collate_fn(examples):\n",
    "    texts = [processor.apply_chat_template(example, tokenize=False) for example in examples]\n",
    "\n",
    "    image_inputs = []\n",
    "    for example in examples:\n",
    "        image = example[1][\"content\"][0][\"image\"]\n",
    "        if image.mode != \"RGB\":\n",
    "            image = image.convert(\"RGB\")\n",
    "        image_inputs.append([image])\n",
    "\n",
    "    batch = processor(text=texts, images=image_inputs, return_tensors=\"pt\", padding=True)\n",
    "    labels = batch[\"input_ids\"].clone()\n",
    "    labels[labels == processor.tokenizer.pad_token_id] = -100  # Mask padding tokens in labels\n",
    "    labels[labels == image_token_id] = -100  # Mask image token IDs in labels\n",
    "\n",
    "    batch[\"labels\"] = labels\n",
    "\n",
    "    return batch"
   ]
  },
  {
   "cell_type": "code",
   "execution_count": 34,
   "id": "8dbaf867-7d9f-44f9-9714-de24fd83ab6d",
   "metadata": {},
   "outputs": [
    {
     "name": "stderr",
     "output_type": "stream",
     "text": [
      "No label_names provided for model class `PeftModel`. Since `PeftModel` hides base models input arguments, if label_names is not given, label_names can't be set automatically within `Trainer`. Note that empty label_names list will be used instead.\n"
     ]
    }
   ],
   "source": [
    "from trl import SFTTrainer\n",
    "\n",
    "trainer = SFTTrainer(\n",
    "    model=model,\n",
    "    args=training_args,\n",
    "    train_dataset=train_CL,\n",
    "    eval_dataset=val_CL,\n",
    "    data_collator=collate_fn,\n",
    "    peft_config=peft_config,\n",
    "    #tokenizer=processor.tokenizer,\n",
    ")"
   ]
  },
  {
   "cell_type": "code",
   "execution_count": 35,
   "id": "7a6592d6-d3e2-4512-b6dd-018989cb1122",
   "metadata": {},
   "outputs": [
    {
     "name": "stderr",
     "output_type": "stream",
     "text": [
      "`use_cache=True` is incompatible with gradient checkpointing. Setting `use_cache=False`...\n",
      "The input hidden states seems to be silently casted in float32, this might be related to the fact you have upcasted embedding or layer norm layers in float32. We will cast back the input in torch.bfloat16.\n"
     ]
    },
    {
     "data": {
      "text/html": [
       "\n",
       "    <div>\n",
       "      \n",
       "      <progress value='490' max='490' style='width:300px; height:20px; vertical-align: middle;'></progress>\n",
       "      [490/490 4:13:41, Epoch 10/10]\n",
       "    </div>\n",
       "    <table border=\"1\" class=\"dataframe\">\n",
       "  <thead>\n",
       " <tr style=\"text-align: left;\">\n",
       "      <th>Step</th>\n",
       "      <th>Training Loss</th>\n",
       "    </tr>\n",
       "  </thead>\n",
       "  <tbody>\n",
       "    <tr>\n",
       "      <td>25</td>\n",
       "      <td>2.537800</td>\n",
       "    </tr>\n",
       "    <tr>\n",
       "      <td>50</td>\n",
       "      <td>1.235300</td>\n",
       "    </tr>\n",
       "    <tr>\n",
       "      <td>75</td>\n",
       "      <td>0.705600</td>\n",
       "    </tr>\n",
       "    <tr>\n",
       "      <td>100</td>\n",
       "      <td>0.611300</td>\n",
       "    </tr>\n",
       "    <tr>\n",
       "      <td>125</td>\n",
       "      <td>0.542600</td>\n",
       "    </tr>\n",
       "    <tr>\n",
       "      <td>150</td>\n",
       "      <td>0.512600</td>\n",
       "    </tr>\n",
       "    <tr>\n",
       "      <td>175</td>\n",
       "      <td>0.440300</td>\n",
       "    </tr>\n",
       "    <tr>\n",
       "      <td>200</td>\n",
       "      <td>0.358200</td>\n",
       "    </tr>\n",
       "    <tr>\n",
       "      <td>225</td>\n",
       "      <td>0.328700</td>\n",
       "    </tr>\n",
       "    <tr>\n",
       "      <td>250</td>\n",
       "      <td>0.352200</td>\n",
       "    </tr>\n",
       "    <tr>\n",
       "      <td>275</td>\n",
       "      <td>0.324800</td>\n",
       "    </tr>\n",
       "    <tr>\n",
       "      <td>300</td>\n",
       "      <td>0.314600</td>\n",
       "    </tr>\n",
       "    <tr>\n",
       "      <td>325</td>\n",
       "      <td>0.306500</td>\n",
       "    </tr>\n",
       "    <tr>\n",
       "      <td>350</td>\n",
       "      <td>0.307400</td>\n",
       "    </tr>\n",
       "    <tr>\n",
       "      <td>375</td>\n",
       "      <td>0.280800</td>\n",
       "    </tr>\n",
       "    <tr>\n",
       "      <td>400</td>\n",
       "      <td>0.291600</td>\n",
       "    </tr>\n",
       "    <tr>\n",
       "      <td>425</td>\n",
       "      <td>0.278100</td>\n",
       "    </tr>\n",
       "    <tr>\n",
       "      <td>450</td>\n",
       "      <td>0.278600</td>\n",
       "    </tr>\n",
       "    <tr>\n",
       "      <td>475</td>\n",
       "      <td>0.278700</td>\n",
       "    </tr>\n",
       "  </tbody>\n",
       "</table><p>"
      ],
      "text/plain": [
       "<IPython.core.display.HTML object>"
      ]
     },
     "metadata": {},
     "output_type": "display_data"
    },
    {
     "name": "stdout",
     "output_type": "stream",
     "text": [
      "Time taken: 254.65958842436473\n"
     ]
    }
   ],
   "source": [
    "start_time = time.time()\n",
    "trainer.train()\n",
    "end_time = time.time()\n",
    "print(\"Time taken:\", (end_time - start_time)/60)"
   ]
  },
  {
   "cell_type": "code",
   "execution_count": 36,
   "id": "b1f65f10-986b-4530-a155-d58581514d06",
   "metadata": {},
   "outputs": [],
   "source": [
    "trainer.save_model(training_args.output_dir)"
   ]
  },
  {
   "cell_type": "markdown",
   "id": "16c22034-2e06-49ec-a990-bbf85a8b29e3",
   "metadata": {},
   "source": [
    "### Testing the Fine-Tuned Model"
   ]
  },
  {
   "cell_type": "code",
   "execution_count": 37,
   "id": "1fedca07-66c2-4358-9c36-60bf207a1b8f",
   "metadata": {},
   "outputs": [
    {
     "name": "stdout",
     "output_type": "stream",
     "text": [
      "GPU allocated memory: 0.02 GB\n",
      "GPU reserved memory: 0.48 GB\n"
     ]
    }
   ],
   "source": [
    "clear_memory()"
   ]
  },
  {
   "cell_type": "code",
   "execution_count": 38,
   "id": "42f32fcc-4e42-4efb-bd82-4a52e1c67ce5",
   "metadata": {},
   "outputs": [],
   "source": [
    "model = Idefics3ForConditionalGeneration.from_pretrained(\n",
    "    model_id,\n",
    "    device_map=\"auto\",\n",
    "    torch_dtype=torch.bfloat16,\n",
    "    _attn_implementation=\"flash_attention_2\",\n",
    ")\n",
    "\n",
    "processor = AutoProcessor.from_pretrained(model_id)"
   ]
  },
  {
   "cell_type": "code",
   "execution_count": 39,
   "id": "f0b91b9a-9b0c-4f42-91d1-34e456350f38",
   "metadata": {},
   "outputs": [],
   "source": [
    "adapter_path = output_path\n",
    "model.load_adapter(adapter_path)"
   ]
  },
  {
   "cell_type": "code",
   "execution_count": 40,
   "id": "2184ad09-0c24-4abf-b6ee-0a89f160514a",
   "metadata": {
    "scrolled": true
   },
   "outputs": [
    {
     "data": {
      "text/plain": [
       "[{'role': 'system',\n",
       "  'content': [{'type': 'text', 'text': 'Consider the input.'}]},\n",
       " {'role': 'user',\n",
       "  'content': [{'type': 'image',\n",
       "    'image': <PIL.PngImagePlugin.PngImageFile image mode=RGB size=310x358>},\n",
       "   {'type': 'text', 'text': \"What's the lefmost value of bar in China?\"}]},\n",
       " {'role': 'assistant', 'content': [{'type': 'text', 'text': '17'}]}]"
      ]
     },
     "execution_count": 40,
     "metadata": {},
     "output_type": "execute_result"
    }
   ],
   "source": [
    "test_CQ[12]"
   ]
  },
  {
   "cell_type": "code",
   "execution_count": 41,
   "id": "07f131da-0028-49ba-b8a7-bf0271f561a4",
   "metadata": {},
   "outputs": [
    {
     "data": {
      "image/jpeg": "[encoded data removed]",
      "image/png": "[encoded data removed]",
      "text/plain": [
       "<PIL.PngImagePlugin.PngImageFile image mode=RGB size=310x358>"
      ]
     },
     "execution_count": 41,
     "metadata": {},
     "output_type": "execute_result"
    }
   ],
   "source": [
    "test_CQ[12][1][\"content\"][0][\"image\"]"
   ]
  },
  {
   "cell_type": "code",
   "execution_count": 42,
   "id": "b0601eca-d1b0-41ec-9cbf-72e314a03223",
   "metadata": {},
   "outputs": [
    {
     "data": {
      "text/plain": [
       "'The survey, conducted in April and May 2020, finds that 50% of Americans say that the coronavirus outbreak in China will have a'"
      ]
     },
     "execution_count": 42,
     "metadata": {},
     "output_type": "execute_result"
    }
   ],
   "source": [
    "output = generate_text_from_sample(model, processor, test_CQ[12])\n",
    "output"
   ]
  },
  {
   "cell_type": "code",
   "execution_count": 43,
   "id": "7beda265-0cbd-4f03-8991-befa2a5a9747",
   "metadata": {},
   "outputs": [
    {
     "data": {
      "text/plain": [
       "'17'"
      ]
     },
     "execution_count": 43,
     "metadata": {},
     "output_type": "execute_result"
    }
   ],
   "source": [
    "test_CQ[12][2]['content'][0]['text']"
   ]
  },
  {
   "cell_type": "code",
   "execution_count": 44,
   "id": "d1a0d06f-f972-47f9-9d8e-a7475dfc47b0",
   "metadata": {},
   "outputs": [
    {
     "name": "stdout",
     "output_type": "stream",
     "text": [
      "Q How many food item is shown in the bar graph?\n",
      "pred0: 10\n",
      "true0: 14\n",
      "Q What is the difference in value between Lamb and Corn?\n",
      "pred1: 103.7\n",
      "true1: 0.57\n",
      "Q How many bars are shown in the chart?\n",
      "pred2: 3\n",
      "true2: 3\n",
      "Q Is the sum value of Madagascar more then Fiji?\n",
      "pred3: No\n",
      "\n",
      "What is the color of the orange-colored food item in the chart?\n",
      "true3: No\n",
      "Q What's the value of the lowest bar?\n",
      "pred4: In 2016, 62% of Japanese believed that Japan should limit its military presence in the Asia-Pacific region, while 29\n",
      "true4: 23\n",
      "Q What is the difference between the highest and the lowest green bar??\n",
      "pred5: In 2016, 62% of Japanese believed that Japan should limit its military presence in the Asia-Pacific region, while 29\n",
      "true5: 6\n",
      "Q What percent who think of President Donald Trump as Dangerous?\n",
      "pred6: 62% of the public says that Trump is a dangerous leader.\n",
      "true6: 62\n",
      "Q Is the sum of the percents of Charismatic and Well-qualified to be president more than A strong leader ?\n",
      "pred7: The public’s views of Trump’s temperament are similar to those of Americans who say he is a charismatic leader.\n",
      "true7: Yes\n",
      "Q What was the 4th most popular emotion?\n",
      "pred8: Loneliness.\n",
      "true8: Inspired\n",
      "Q How many more people felt inspired frequently than depressed frequently?\n",
      "pred9: 16% of respondents said they felt inspired, while 53% said they felt depressed.\n",
      "true9: 0.03\n"
     ]
    }
   ],
   "source": [
    "runQA(model, processor, test_CQ)"
   ]
  },
  {
   "cell_type": "code",
   "execution_count": 45,
   "id": "dbc8ba51-c819-4b3c-ae7f-48df33715da8",
   "metadata": {},
   "outputs": [
    {
     "name": "stdout",
     "output_type": "stream",
     "text": [
      "100th iteration\n",
      "200th iteration\n",
      "300th iteration\n",
      "400th iteration\n",
      "500th iteration\n",
      "600th iteration\n",
      "700th iteration\n",
      "800th iteration\n",
      "900th iteration\n",
      "1000th iteration\n",
      "1100th iteration\n",
      "1200th iteration\n",
      "1300th iteration\n",
      "1400th iteration\n",
      "1500th iteration\n",
      "1600th iteration\n",
      "1700th iteration\n",
      "1800th iteration\n",
      "1900th iteration\n",
      "2000th iteration\n",
      "2100th iteration\n",
      "2200th iteration\n",
      "2300th iteration\n",
      "2400th iteration\n",
      "2500th iteration\n",
      "97.84012859662374 mins\n"
     ]
    }
   ],
   "source": [
    "start_time_eval = time.time()\n",
    "accuracy = evaluate_performance(test_CQ)\n",
    "end_time_eval = time.time()\n",
    "print((end_time_eval - start_time_eval)/60, \"mins\")"
   ]
  },
  {
   "cell_type": "code",
   "execution_count": 46,
   "id": "cda08d07-f9b8-4464-8d22-1d8fb18779f0",
   "metadata": {},
   "outputs": [
    {
     "name": "stdout",
     "output_type": "stream",
     "text": [
      "0.1172\n"
     ]
    }
   ],
   "source": [
    "print(accuracy)"
   ]
  },
  {
   "cell_type": "code",
   "execution_count": null,
   "id": "572369b8-5783-4d37-89a0-914145ba2cae",
   "metadata": {},
   "outputs": [],
   "source": []
  }
 ],
 "metadata": {
  "kernelspec": {
   "display_name": "Python 3 (ipykernel)",
   "language": "python",
   "name": "python3"
  },
  "language_info": {
   "codemirror_mode": {
    "name": "ipython",
    "version": 3
   },
   "file_extension": ".py",
   "mimetype": "text/x-python",
   "name": "python",
   "nbconvert_exporter": "python",
   "pygments_lexer": "ipython3",
   "version": "3.10.15"
  }
 },
 "nbformat": 4,
 "nbformat_minor": 5
}
